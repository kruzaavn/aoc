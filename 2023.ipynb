{
 "cells": [
  {
   "cell_type": "code",
   "execution_count": 2,
   "id": "initial_id",
   "metadata": {
    "collapsed": true,
    "jupyter": {
     "outputs_hidden": true
    },
    "ExecuteTime": {
     "end_time": "2024-03-25T18:36:06.100051Z",
     "start_time": "2024-03-25T18:36:05.930578Z"
    }
   },
   "outputs": [],
   "source": [
    "import aoc\n",
    "import re\n",
    "import numpy as np"
   ]
  },
  {
   "cell_type": "markdown",
   "id": "984dc96bb852f02c",
   "metadata": {},
   "source": [
    "# Day 1"
   ]
  },
  {
   "cell_type": "code",
   "execution_count": 2,
   "id": "2d89c10957359a03",
   "metadata": {
    "ExecuteTime": {
     "end_time": "2023-12-01T17:02:49.345739Z",
     "start_time": "2023-12-01T17:02:49.230523Z"
    },
    "collapsed": false
   },
   "outputs": [],
   "source": [
    "raw_data = aoc.get_data(2023, 1)"
   ]
  },
  {
   "cell_type": "code",
   "execution_count": 3,
   "id": "724179d08fd26608",
   "metadata": {
    "ExecuteTime": {
     "end_time": "2023-12-01T17:03:02.560814Z",
     "start_time": "2023-12-01T17:03:02.530167Z"
    },
    "collapsed": false
   },
   "outputs": [],
   "source": [
    "data = raw_data.splitlines()"
   ]
  },
  {
   "cell_type": "code",
   "execution_count": 4,
   "id": "d6c67424c49806f3",
   "metadata": {
    "ExecuteTime": {
     "end_time": "2023-12-01T17:03:32.489490Z",
     "start_time": "2023-12-01T17:03:32.442836Z"
    },
    "collapsed": false
   },
   "outputs": [
    {
     "data": {
      "text/plain": [
       "['2', '3']"
      ]
     },
     "execution_count": 4,
     "metadata": {},
     "output_type": "execute_result"
    }
   ],
   "source": [
    "re.findall(r'\\d', data[0])"
   ]
  },
  {
   "cell_type": "code",
   "execution_count": 5,
   "id": "942f4237b2770db7",
   "metadata": {
    "ExecuteTime": {
     "end_time": "2023-12-01T17:05:04.604374Z",
     "start_time": "2023-12-01T17:05:04.579674Z"
    },
    "collapsed": false
   },
   "outputs": [],
   "source": [
    "def extract_number(string):\n",
    "    \n",
    "    numbers = re.findall(r'\\d', string)\n",
    "    \n",
    "    return int(numbers[0] + numbers[-1])"
   ]
  },
  {
   "cell_type": "code",
   "execution_count": 6,
   "id": "bbc2414d2a48542d",
   "metadata": {
    "ExecuteTime": {
     "end_time": "2023-12-01T17:05:20.086723Z",
     "start_time": "2023-12-01T17:05:20.053672Z"
    },
    "collapsed": false
   },
   "outputs": [
    {
     "data": {
      "text/plain": [
       "54667"
      ]
     },
     "execution_count": 6,
     "metadata": {},
     "output_type": "execute_result"
    }
   ],
   "source": [
    "sum(map(extract_number, data))"
   ]
  },
  {
   "cell_type": "code",
   "execution_count": 13,
   "id": "78311b9672ef9111",
   "metadata": {
    "ExecuteTime": {
     "end_time": "2023-12-01T17:11:59.969751Z",
     "start_time": "2023-12-01T17:11:59.948717Z"
    },
    "collapsed": false
   },
   "outputs": [],
   "source": [
    "number_words = {'zero': '0', 'one': '1', 'two': '2', 'three': '3', 'four': '4', 'five': '5', 'six': '6', 'seven': '7', 'eight': '8', 'nine': '9'}"
   ]
  },
  {
   "cell_type": "code",
   "execution_count": 16,
   "id": "7cc73da7fa24a818",
   "metadata": {
    "ExecuteTime": {
     "end_time": "2023-12-01T17:12:47.307233Z",
     "start_time": "2023-12-01T17:12:47.286311Z"
    },
    "collapsed": false
   },
   "outputs": [],
   "source": [
    "def extract_more_numbers(string):\n",
    "    \n",
    "    numbers = re.findall('|'.join(number_words.keys())+r'|\\d', string)\n",
    "    return int(number_words.get(numbers[0], numbers[0]) + number_words.get(numbers[-1], numbers[-1]))"
   ]
  },
  {
   "cell_type": "code",
   "execution_count": 17,
   "id": "7ba9f2326f84d4d3",
   "metadata": {
    "ExecuteTime": {
     "end_time": "2023-12-01T17:12:48.596069Z",
     "start_time": "2023-12-01T17:12:48.577438Z"
    },
    "collapsed": false
   },
   "outputs": [
    {
     "data": {
      "text/plain": [
       "21"
      ]
     },
     "execution_count": 17,
     "metadata": {},
     "output_type": "execute_result"
    }
   ],
   "source": [
    "extract_more_numbers(data[0])"
   ]
  },
  {
   "cell_type": "code",
   "execution_count": 26,
   "id": "29cd341f74d7b822",
   "metadata": {
    "ExecuteTime": {
     "end_time": "2023-12-01T17:16:48.696846Z",
     "start_time": "2023-12-01T17:16:48.682233Z"
    },
    "collapsed": false
   },
   "outputs": [
    {
     "data": {
      "text/plain": [
       "54185"
      ]
     },
     "execution_count": 26,
     "metadata": {},
     "output_type": "execute_result"
    }
   ],
   "source": [
    "sum(map(extract_more_numbers, data))"
   ]
  },
  {
   "cell_type": "code",
   "execution_count": 25,
   "id": "ccc202394254cc0c",
   "metadata": {
    "ExecuteTime": {
     "end_time": "2023-12-01T17:16:40.857436Z",
     "start_time": "2023-12-01T17:16:40.833553Z"
    },
    "collapsed": false
   },
   "outputs": [
    {
     "data": {
      "text/plain": [
       "76"
      ]
     },
     "execution_count": 25,
     "metadata": {},
     "output_type": "execute_result"
    }
   ],
   "source": [
    "extract_more_numbers('7pqrstsixteen')"
   ]
  },
  {
   "cell_type": "code",
   "execution_count": 27,
   "id": "d8cd209f2282512f",
   "metadata": {
    "ExecuteTime": {
     "end_time": "2023-12-01T17:16:56.217764Z",
     "start_time": "2023-12-01T17:16:56.201927Z"
    },
    "collapsed": false
   },
   "outputs": [
    {
     "data": {
      "text/plain": [
       "54185"
      ]
     },
     "execution_count": 27,
     "metadata": {},
     "output_type": "execute_result"
    }
   ],
   "source": [
    "sum(map(extract_more_numbers, data))"
   ]
  },
  {
   "cell_type": "code",
   "execution_count": 30,
   "id": "3cc3831fab599e19",
   "metadata": {
    "ExecuteTime": {
     "end_time": "2023-12-01T17:18:15.071527Z",
     "start_time": "2023-12-01T17:18:15.048408Z"
    },
    "collapsed": false
   },
   "outputs": [
    {
     "name": "stdout",
     "output_type": "stream",
     "text": [
      "23krgjlpone 21\n",
      "kfxone67bzb2 12\n",
      "8jjpseven 87\n",
      "236twoknbxlczgd 22\n",
      "sevensrncljm5zmvvrtthreejjd85twonepvj 72\n",
      "1dgzljrtcndqqrqkgxseventhreessnthree 13\n",
      "s2eight6bhshvmsevensix 26\n",
      "5tpbsrf 55\n",
      "two35kxjtnbhxrmdhbgzeight 28\n",
      "khgdlljfjxt6sevenfour35pxone 61\n"
     ]
    }
   ],
   "source": [
    "for x in data[:10]:\n",
    "    \n",
    "    print(x , extract_more_numbers(x))"
   ]
  },
  {
   "cell_type": "code",
   "execution_count": 38,
   "id": "bc69d3fa47b41b8a",
   "metadata": {
    "ExecuteTime": {
     "end_time": "2023-12-01T17:34:47.798691Z",
     "start_time": "2023-12-01T17:34:47.781834Z"
    },
    "collapsed": false
   },
   "outputs": [
    {
     "data": {
      "text/plain": [
       "['eight', 'three']"
      ]
     },
     "execution_count": 38,
     "metadata": {},
     "output_type": "execute_result"
    }
   ],
   "source": [
    "re.findall('|'.join(number_words.keys())+r'|\\d', 'eightwothree')"
   ]
  },
  {
   "cell_type": "code",
   "execution_count": 36,
   "id": "c24f20833feeb48d",
   "metadata": {
    "ExecuteTime": {
     "end_time": "2023-12-01T17:32:17.313545Z",
     "start_time": "2023-12-01T17:32:17.286399Z"
    },
    "collapsed": false
   },
   "outputs": [
    {
     "data": {
      "text/plain": [
       "'zero|one|two|three|four|five|six|seven|eight|nine|\\\\d'"
      ]
     },
     "execution_count": 36,
     "metadata": {},
     "output_type": "execute_result"
    }
   ],
   "source": [
    "'|'.join(number_words.keys())+r'|\\d'"
   ]
  },
  {
   "cell_type": "code",
   "execution_count": null,
   "id": "c70044d99268a692",
   "metadata": {
    "collapsed": false
   },
   "outputs": [],
   "source": []
  },
  {
   "cell_type": "markdown",
   "id": "83a325d452c2255f",
   "metadata": {},
   "source": [
    "# Day 2"
   ]
  },
  {
   "cell_type": "code",
   "execution_count": 2,
   "id": "ad998ae8216c1f21",
   "metadata": {
    "ExecuteTime": {
     "end_time": "2024-03-13T17:07:48.403991Z",
     "start_time": "2024-03-13T17:07:48.313137Z"
    },
    "collapsed": false
   },
   "outputs": [],
   "source": [
    "raw_data = aoc.get_data(2023,2)"
   ]
  },
  {
   "cell_type": "code",
   "execution_count": 3,
   "id": "86ee2d6f90114923",
   "metadata": {
    "ExecuteTime": {
     "end_time": "2024-03-13T17:07:51.149625Z",
     "start_time": "2024-03-13T17:07:51.136872Z"
    },
    "collapsed": false
   },
   "outputs": [
    {
     "data": {
      "text/plain": [
       "'Game 1: 1 blue, 1 red; 10 red; 8 red, 1 blue, 1 green; 1 green, 5 blue\\nGame 2: 9 green, 11 red; 1 green, 7 red, 1 blue; 1 red, 1 blue, 1 green; 11 green, 3 red, 1 blue; 5 green, 12 red; 8 green, 1 blue, 7 red\\nGame 3: 16 blue, 2 red, 4 green; 8 red, 4 green; 7 green, 16 blue\\nGame 4: 3 green, 4 blue, 6 red; 7 red, 12 green, 5 blue; 5 green, 16 red, 8 blue\\nGame 5: 4 green, 4 blue, 3 red; 4 green, 7 red, 1 blue; 2 blue, 2 red, 4 green; 3 green, 7 red, 4 blue; 2 blue, 3 green, 8 red\\nGame 6: 3 green, 4 blue, 10 red; 13 red, 3 green, 4 blue; 11 red; 14 red, 1 green; 6 red, 2 green, 1 blue; 10 red, 1 blue, 1 green\\nGame 7: 2 green, 9 red, 9 blue; 12 red, 14 blue; 8 red, 3 green\\nGame 8: 9 green, 1 red; 18 green, 2 red, 7 blue; 1 blue, 9 green, 3 red; 3 red, 15 blue, 18 green\\nGame 9: 2 red, 1 blue, 10 green; 4 red, 1 blue, 5 green; 6 green, 3 red; 1 green, 2 blue; 8 red\\nGame 10: 9 green; 6 red, 4 green, 4 blue; 9 red, 2 blue, 9 green; 8 blue, 9 red, 12 green; 4 red, 8 green, 2 blue; 6 green, 7 blue\\nGame 11: 1 blue, 15 red, 2 green; 3 green, 9 red; 1 blue, 3 red, 1 green; 10 red, 1 green; 3 red\\nGame 12: 6 blue, 9 red, 4 green; 1 green, 8 blue; 4 green, 8 blue, 1 red; 7 green, 7 blue, 2 red\\nGame 13: 11 green, 8 blue, 1 red; 5 blue, 2 red, 5 green; 2 red, 18 green; 5 blue, 5 green, 2 red\\nGame 14: 1 red, 4 blue, 3 green; 2 red, 1 green, 1 blue; 1 red, 5 green, 1 blue; 3 red, 4 green, 4 blue\\nGame 15: 2 blue, 1 green; 3 red, 2 blue, 7 green; 1 red, 4 green, 15 blue; 1 green, 14 blue, 2 red\\nGame 16: 3 red, 10 blue, 9 green; 20 blue, 13 green, 1 red; 9 green, 11 blue, 6 red\\nGame 17: 4 red, 1 green, 1 blue; 1 green, 1 red, 11 blue; 1 red, 7 blue\\nGame 18: 5 red, 9 green; 17 green, 2 blue, 16 red; 11 red, 2 blue, 1 green\\nGame 19: 3 red, 14 green; 4 blue, 1 red, 17 green; 14 green, 3 red, 9 blue; 9 blue, 8 green, 8 red; 4 green, 8 blue\\nGame 20: 8 green, 3 blue, 3 red; 5 green, 6 red, 1 blue; 1 blue, 6 red, 13 green; 1 blue, 4 red; 4 red, 4 green, 1 blue\\nGame 21: 10 green, 3 blue, 7 red; 4 green, 14 blue, 11 red; 2 red, 8 green, 15 blue; 13 green, 7 blue, 4 red\\nGame 22: 3 blue, 11 green, 3 red; 7 green, 2 blue, 2 red; 3 red, 3 blue, 15 green; 12 green, 2 blue, 5 red\\nGame 23: 4 red, 3 blue; 2 green, 7 red, 6 blue; 1 green, 2 red, 3 blue\\nGame 24: 7 red, 3 green, 2 blue; 3 red, 9 green, 9 blue; 8 green, 6 red, 7 blue\\nGame 25: 2 red, 2 green, 2 blue; 3 green, 1 red, 4 blue; 4 red, 3 blue; 4 green, 1 blue, 5 red; 2 green, 4 red, 2 blue; 5 green, 3 red\\nGame 26: 1 red, 7 blue, 12 green; 2 blue, 2 red, 7 green; 3 green, 5 red, 6 blue; 8 green, 3 blue, 5 red; 15 green, 7 blue\\nGame 27: 4 blue, 7 red, 15 green; 4 red, 1 blue, 15 green; 3 red; 8 red, 4 blue, 10 green; 4 red\\nGame 28: 2 blue, 5 red, 8 green; 13 red, 9 green; 2 blue, 4 red, 5 green; 1 blue, 14 green, 12 red; 13 green, 11 red, 3 blue\\nGame 29: 7 green, 10 red; 9 green, 2 red, 1 blue; 3 blue, 13 green, 5 red\\nGame 30: 3 green, 6 blue, 5 red; 3 green, 1 red, 13 blue; 2 red, 2 green, 7 blue; 13 red, 2 green, 9 blue; 2 blue, 7 red, 2 green\\nGame 31: 8 red, 16 green, 1 blue; 10 red, 3 blue, 11 green; 2 green, 4 blue, 3 red; 2 blue, 7 red, 12 green; 16 green, 9 red, 6 blue; 8 blue, 9 red, 11 green\\nGame 32: 6 red, 3 green, 7 blue; 3 green, 7 blue, 3 red; 4 green, 1 red, 7 blue; 7 blue, 6 green, 5 red; 9 green, 11 red\\nGame 33: 8 green, 6 blue; 2 green, 8 red, 1 blue; 12 green, 4 blue, 14 red; 11 blue, 1 green, 7 red; 1 blue, 5 green, 9 red; 7 green, 7 red, 5 blue\\nGame 34: 5 blue, 6 green, 7 red; 6 blue, 5 green, 10 red; 9 red, 3 blue, 7 green; 9 red, 4 green; 15 red, 6 green, 4 blue\\nGame 35: 6 blue, 4 green, 7 red; 2 blue, 6 red; 4 green, 11 red, 2 blue; 2 red, 1 blue, 4 green; 10 red, 10 blue, 1 green; 11 blue, 4 green\\nGame 36: 13 blue, 6 green, 7 red; 5 red, 9 blue, 9 green; 6 red, 2 blue, 3 green; 2 blue, 7 green; 7 red, 5 blue; 12 blue, 7 red, 3 green\\nGame 37: 2 red, 12 green, 3 blue; 6 red, 4 blue; 3 blue, 1 green; 4 red, 5 blue, 6 green\\nGame 38: 3 red, 16 blue, 10 green; 6 red, 5 green, 5 blue; 7 blue, 12 red, 5 green\\nGame 39: 17 red, 4 green, 6 blue; 6 blue, 11 red; 18 red, 3 green, 1 blue; 3 blue, 6 red, 2 green; 19 red, 5 blue\\nGame 40: 1 red, 2 green, 3 blue; 6 blue, 5 green, 1 red; 5 green, 1 blue\\nGame 41: 7 blue, 6 green; 8 blue, 2 red, 3 green; 2 blue, 3 green; 3 green, 7 red, 17 blue\\nGame 42: 6 blue; 10 red, 5 blue, 14 green; 1 blue, 11 green; 6 blue, 2 green, 5 red; 7 blue, 13 green, 11 red\\nGame 43: 15 green, 3 blue; 7 blue, 14 green; 11 blue, 3 green; 17 green, 1 red, 1 blue; 17 green, 2 blue, 1 red\\nGame 44: 11 red, 4 blue, 16 green; 11 blue, 16 green; 14 red, 10 blue, 17 green\\nGame 45: 6 blue; 6 green, 6 blue, 1 red; 5 blue, 11 green; 4 green, 6 blue\\nGame 46: 6 green, 3 blue, 2 red; 9 green, 4 red, 2 blue; 9 green, 1 red, 3 blue\\nGame 47: 6 red, 3 blue, 9 green; 3 green, 11 blue; 4 blue, 1 red; 11 green, 11 blue\\nGame 48: 13 blue, 15 red; 9 red, 9 blue; 15 green, 9 red, 1 blue\\nGame 49: 8 green, 4 red; 1 red, 6 blue; 5 blue, 8 green; 1 red, 2 green, 3 blue; 2 red, 5 blue, 5 green\\nGame 50: 1 red, 8 green, 3 blue; 1 blue, 9 green; 3 green, 6 blue\\nGame 51: 8 green, 8 red, 8 blue; 9 green, 2 red, 6 blue; 1 green, 1 red, 1 blue; 5 blue, 1 red, 7 green; 7 blue, 5 red, 5 green\\nGame 52: 2 green, 1 red; 4 blue, 7 red, 2 green; 3 red, 4 blue; 1 green, 1 blue, 7 red; 8 red, 1 green, 8 blue; 4 blue, 3 green, 4 red\\nGame 53: 9 blue, 9 red; 3 blue, 3 green, 5 red; 1 green, 6 blue, 2 red; 4 red, 3 green, 3 blue\\nGame 54: 1 blue, 2 red, 2 green; 6 green, 1 blue, 3 red; 1 green, 1 blue\\nGame 55: 14 red, 8 blue; 9 red, 2 green, 8 blue; 6 blue, 11 red, 1 green; 10 red, 3 blue, 4 green; 13 red, 2 green, 4 blue; 5 green, 5 blue, 3 red\\nGame 56: 12 green, 3 blue; 1 red, 13 green, 5 blue; 17 blue, 6 red, 2 green; 4 red, 12 green, 12 blue\\nGame 57: 9 green, 9 red, 10 blue; 10 blue, 10 red, 9 green; 4 blue, 14 red, 8 green; 14 red, 7 green; 10 green, 3 blue, 7 red; 1 red, 2 blue, 1 green\\nGame 58: 1 green, 9 red, 11 blue; 5 green, 11 red, 6 blue; 2 green, 3 red, 8 blue; 2 green, 14 blue, 4 red; 9 blue, 1 red\\nGame 59: 10 blue, 13 green, 3 red; 4 red, 12 green, 8 blue; 4 red, 9 blue, 10 green; 17 green, 5 red, 7 blue; 4 red, 3 blue, 10 green\\nGame 60: 4 green; 5 blue, 8 red; 19 red, 3 blue, 2 green; 4 green, 14 blue, 3 red\\nGame 61: 2 red, 6 blue; 15 blue, 5 red; 1 green, 2 red; 1 green, 2 blue, 8 red; 7 red, 10 blue; 11 blue\\nGame 62: 10 blue, 2 green, 7 red; 2 red, 2 green, 10 blue; 5 red\\nGame 63: 19 red; 1 green, 2 blue, 3 red; 1 blue, 11 red\\nGame 64: 11 red, 3 green; 3 red, 1 blue, 3 green; 2 green, 2 red, 4 blue; 9 red, 1 green; 3 green, 7 red, 4 blue; 9 red, 2 blue, 3 green\\nGame 65: 2 red, 12 green; 3 red, 3 green; 8 green, 1 blue, 4 red; 2 red, 3 green\\nGame 66: 4 blue, 11 red, 15 green; 1 blue, 2 green, 10 red; 4 red, 5 green; 16 red, 16 green, 4 blue\\nGame 67: 6 red, 1 green; 1 green, 1 blue, 12 red; 11 red, 2 blue\\nGame 68: 4 green, 5 red; 9 blue, 1 red; 1 green, 2 red, 7 blue; 6 red, 5 green, 8 blue; 2 green, 7 red, 2 blue\\nGame 69: 9 red, 16 green, 12 blue; 5 red, 4 green, 3 blue; 6 green, 11 blue, 6 red; 13 green, 16 blue, 7 red; 1 red, 8 blue, 14 green\\nGame 70: 7 red, 5 blue, 4 green; 6 red, 12 blue, 13 green; 5 green, 4 red, 8 blue; 9 blue, 5 green, 2 red\\nGame 71: 15 red, 3 green, 3 blue; 1 red, 5 green, 6 blue; 6 green, 7 blue, 16 red\\nGame 72: 4 blue, 4 green, 6 red; 9 green, 2 blue; 15 green, 5 red\\nGame 73: 1 green, 7 red; 6 red, 2 blue; 5 red, 9 blue; 12 blue, 9 red\\nGame 74: 6 blue, 4 red, 4 green; 17 green, 1 blue; 4 blue, 7 green, 4 red\\nGame 75: 3 green, 2 blue, 10 red; 17 red, 14 green, 2 blue; 2 green, 1 blue, 14 red; 16 red, 1 blue, 9 green; 14 red, 1 blue, 9 green\\nGame 76: 1 red, 10 green, 4 blue; 4 blue, 4 red, 7 green; 1 red, 2 blue, 15 green; 5 blue, 7 green, 1 red; 5 blue, 3 red, 17 green; 18 green, 4 blue, 1 red\\nGame 77: 4 green, 5 blue, 7 red; 3 blue, 4 red, 5 green; 1 red, 1 green; 6 green, 4 blue, 16 red\\nGame 78: 2 blue, 9 red; 7 red, 3 blue, 18 green; 2 blue, 12 green\\nGame 79: 3 red, 10 green, 10 blue; 10 blue, 12 green; 7 green, 10 blue, 3 red\\nGame 80: 10 green, 2 blue, 14 red; 3 blue, 4 red; 12 green; 3 red, 2 blue, 1 green; 10 red, 12 green, 2 blue\\nGame 81: 1 green, 3 red, 6 blue; 5 blue, 1 red, 1 green; 6 blue, 9 red\\nGame 82: 3 blue, 11 red, 20 green; 15 red, 5 green, 3 blue; 4 red, 7 green, 3 blue\\nGame 83: 5 red, 12 blue, 6 green; 11 green, 9 blue, 6 red; 6 green, 1 red, 7 blue; 16 blue, 4 red; 3 green, 6 blue\\nGame 84: 3 red, 3 blue, 2 green; 3 red, 9 green; 2 blue, 11 green, 1 red; 1 red, 11 green, 1 blue\\nGame 85: 11 green, 1 red, 2 blue; 6 red, 8 green, 14 blue; 3 red, 6 green, 15 blue; 9 blue, 7 red, 1 green; 19 blue, 2 green, 5 red; 6 blue, 7 red, 6 green\\nGame 86: 11 red, 4 green; 2 green, 1 blue, 10 red; 11 red, 3 blue, 9 green\\nGame 87: 2 green, 17 blue; 12 blue, 3 red, 2 green; 3 green, 2 blue, 13 red; 6 red, 3 green; 13 blue, 11 red, 3 green; 5 blue, 7 red, 1 green\\nGame 88: 1 red, 12 green; 4 green, 3 blue; 6 blue, 12 green; 1 red, 2 blue\\nGame 89: 9 green, 2 red, 12 blue; 19 green, 12 blue, 3 red; 2 red, 8 blue, 11 green; 13 blue, 8 red, 9 green\\nGame 90: 2 red, 2 blue, 7 green; 7 green, 2 red, 12 blue; 6 red, 9 green, 5 blue\\nGame 91: 14 blue, 2 red, 7 green; 7 blue, 7 green; 1 red, 5 green, 10 blue; 4 red, 7 blue, 4 green; 5 green, 1 red, 13 blue; 5 green, 1 red\\nGame 92: 6 green, 4 blue, 7 red; 18 blue, 3 red; 6 red, 2 blue; 16 blue, 5 red, 3 green\\nGame 93: 6 red, 17 blue, 5 green; 14 red, 16 blue, 10 green; 11 blue, 7 red, 11 green; 6 blue, 7 green, 3 red; 17 blue, 1 green\\nGame 94: 4 green, 9 blue; 2 green, 6 red, 3 blue; 5 red, 4 green, 8 blue; 4 green, 5 red, 6 blue; 7 green, 7 red, 6 blue\\nGame 95: 6 blue, 2 red, 3 green; 9 green, 2 blue; 2 red, 4 blue, 11 green; 4 blue, 4 red, 8 green; 13 green, 5 red, 7 blue; 4 red, 15 green, 2 blue\\nGame 96: 5 red, 8 blue, 5 green; 12 blue, 2 red; 15 blue, 2 red, 1 green; 4 red, 1 green\\nGame 97: 5 red, 5 blue; 1 red, 11 blue; 3 green, 10 blue; 3 green, 1 red, 7 blue; 2 blue, 6 red; 1 red, 1 green, 8 blue\\nGame 98: 4 red, 3 blue, 8 green; 5 blue, 2 red, 8 green; 7 green, 10 red, 2 blue; 11 blue, 9 red, 9 green; 6 blue, 10 green, 11 red\\nGame 99: 7 green, 3 red, 9 blue; 3 blue, 5 red, 4 green; 2 red, 6 green, 1 blue; 12 blue, 1 red, 1 green; 11 green, 1 red, 12 blue\\nGame 100: 2 blue, 1 red; 4 blue, 2 red, 1 green; 7 red, 5 blue; 2 red, 1 green, 5 blue\\n'"
      ]
     },
     "execution_count": 3,
     "metadata": {},
     "output_type": "execute_result"
    }
   ],
   "source": [
    "raw_data"
   ]
  },
  {
   "cell_type": "code",
   "execution_count": 28,
   "id": "8b7902b5a506984d",
   "metadata": {
    "ExecuteTime": {
     "end_time": "2024-03-13T17:43:27.670341Z",
     "start_time": "2024-03-13T17:43:27.662407Z"
    },
    "collapsed": false
   },
   "outputs": [],
   "source": [
    "class BagValidator:\n",
    "    \n",
    "    def __init__(self, red, green, blue):\n",
    "        self.red = red\n",
    "        self.green = green\n",
    "        self.blue = blue\n",
    "        \n",
    "    def validate_games(self, games):\n",
    "        \n",
    "        return sum(map(self.validate_game, games.splitlines()))\n",
    "    \n",
    "    def validate_game(self, game):\n",
    "        \n",
    "        observations = re.findall('(\\d+) (\\w+)', game)\n",
    "        \n",
    "        red = max([int(x[0]) for x in observations if x[1] == 'red'])\n",
    "        green = max([int(x[0]) for x in observations if x[1] == 'green'])\n",
    "        blue = max([int(x[0]) for x in observations if x[1] == 'blue'])\n",
    "        \n",
    "        if red <= self.red and green <= self.green and blue <= self.blue:\n",
    "        \n",
    "            return int(re.search('Game (\\d+)', game)[1])\n",
    "        \n",
    "        else:\n",
    "            return 0"
   ]
  },
  {
   "cell_type": "code",
   "execution_count": 30,
   "id": "d05e50d3fdc9554e",
   "metadata": {
    "ExecuteTime": {
     "end_time": "2024-03-13T17:43:42.857899Z",
     "start_time": "2024-03-13T17:43:42.852315Z"
    },
    "collapsed": false
   },
   "outputs": [
    {
     "data": {
      "text/plain": [
       "2439"
      ]
     },
     "execution_count": 30,
     "metadata": {},
     "output_type": "execute_result"
    }
   ],
   "source": [
    "validator = BagValidator(12,13,14)\n",
    "validator.validate_games(raw_data)"
   ]
  },
  {
   "cell_type": "code",
   "execution_count": 18,
   "id": "da5d3e95dbb8fe5a",
   "metadata": {
    "ExecuteTime": {
     "end_time": "2024-03-13T17:33:01.840162Z",
     "start_time": "2024-03-13T17:33:01.836039Z"
    },
    "collapsed": false
   },
   "outputs": [
    {
     "data": {
      "text/plain": [
       "[('1', 'blue'),\n",
       " ('1', 'red'),\n",
       " ('10', 'red'),\n",
       " ('8', 'red'),\n",
       " ('1', 'blue'),\n",
       " ('1', 'green'),\n",
       " ('1', 'green'),\n",
       " ('5', 'blue')]"
      ]
     },
     "execution_count": 18,
     "metadata": {},
     "output_type": "execute_result"
    }
   ],
   "source": [
    "re.findall('(\\d+) (\\w+)', raw_data.splitlines()[0])"
   ]
  },
  {
   "cell_type": "code",
   "execution_count": 31,
   "id": "2c4121de4b3d8572",
   "metadata": {
    "ExecuteTime": {
     "end_time": "2024-03-13T17:47:29.377903Z",
     "start_time": "2024-03-13T17:47:29.368098Z"
    },
    "collapsed": false
   },
   "outputs": [],
   "source": [
    "class FewestValidator(BagValidator):\n",
    "    \n",
    "    def __init__(self):\n",
    "        pass\n",
    "    \n",
    "    def validate_game(self, game):\n",
    "        \n",
    "        observations = re.findall('(\\d+) (\\w+)', game)\n",
    "        \n",
    "        red = max([int(x[0]) for x in observations if x[1] == 'red'])\n",
    "        green = max([int(x[0]) for x in observations if x[1] == 'green'])\n",
    "        blue = max([int(x[0]) for x in observations if x[1] == 'blue'])\n",
    "        \n",
    "        return red * green * blue\n",
    "        "
   ]
  },
  {
   "cell_type": "code",
   "execution_count": 32,
   "id": "d5c22590f2febd5d",
   "metadata": {
    "ExecuteTime": {
     "end_time": "2024-03-13T17:47:44.396663Z",
     "start_time": "2024-03-13T17:47:44.385454Z"
    },
    "collapsed": false
   },
   "outputs": [
    {
     "data": {
      "text/plain": [
       "63711"
      ]
     },
     "execution_count": 32,
     "metadata": {},
     "output_type": "execute_result"
    }
   ],
   "source": [
    "validator = FewestValidator()\n",
    "validator.validate_games(raw_data)"
   ]
  },
  {
   "cell_type": "code",
   "execution_count": null,
   "id": "9bca77caab14ce8",
   "metadata": {
    "collapsed": false
   },
   "outputs": [],
   "source": []
  },
  {
   "cell_type": "markdown",
   "id": "b8a37c396edfb72e",
   "metadata": {},
   "source": [
    "# Day 3"
   ]
  },
  {
   "cell_type": "code",
   "execution_count": 2,
   "id": "6828a81eb12b5480",
   "metadata": {
    "ExecuteTime": {
     "end_time": "2024-03-13T18:41:35.530506Z",
     "start_time": "2024-03-13T18:41:35.379374Z"
    },
    "collapsed": false
   },
   "outputs": [],
   "source": [
    "raw_data = aoc.get_data(2023, 3)"
   ]
  },
  {
   "cell_type": "code",
   "execution_count": 3,
   "id": "26e4b4527dacac68",
   "metadata": {
    "ExecuteTime": {
     "end_time": "2024-03-13T18:41:37.146532Z",
     "start_time": "2024-03-13T18:41:37.144615Z"
    },
    "collapsed": false
   },
   "outputs": [],
   "source": [
    "example = \"\"\"467..114..\n",
    "...*......\n",
    "..35..633.\n",
    "......#...\n",
    "617*......\n",
    ".....+.58.\n",
    "..592.....\n",
    "......755.\n",
    "...$.*....\n",
    ".664.598..\n",
    "\"\"\""
   ]
  },
  {
   "cell_type": "code",
   "execution_count": 44,
   "id": "e537bf9cfa3617b7",
   "metadata": {
    "ExecuteTime": {
     "end_time": "2024-03-13T18:14:50.047325Z",
     "start_time": "2024-03-13T18:14:50.034803Z"
    },
    "collapsed": false
   },
   "outputs": [],
   "source": [
    "class PartNumberValidator:\n",
    "    \n",
    "    def __init__(self, schematic):\n",
    "        self.schematic = schematic\n",
    "        \n",
    "        \n",
    "    def get_symbols(self):\n",
    "        \n",
    "        return set(re.findall('[^\\d\\n\\,]', self.schematic, re.M))"
   ]
  },
  {
   "cell_type": "code",
   "execution_count": 49,
   "id": "aa66187d1a8d52fe",
   "metadata": {
    "ExecuteTime": {
     "end_time": "2024-03-13T18:39:37.551511Z",
     "start_time": "2024-03-13T18:39:37.542671Z"
    },
    "collapsed": false
   },
   "outputs": [],
   "source": [
    "validator = PartNumberValidator(example)"
   ]
  },
  {
   "cell_type": "code",
   "execution_count": 50,
   "id": "52d03cb7b6fc4c48",
   "metadata": {
    "ExecuteTime": {
     "end_time": "2024-03-13T18:39:38.310581Z",
     "start_time": "2024-03-13T18:39:38.302696Z"
    },
    "collapsed": false
   },
   "outputs": [
    {
     "data": {
      "text/plain": [
       "{'#', '$', '*', '+', '.'}"
      ]
     },
     "execution_count": 50,
     "metadata": {},
     "output_type": "execute_result"
    }
   ],
   "source": [
    "validator.get_symbols()"
   ]
  },
  {
   "cell_type": "code",
   "execution_count": null,
   "id": "8a02b53d1d7f4059",
   "metadata": {
    "collapsed": false
   },
   "outputs": [],
   "source": []
  },
  {
   "cell_type": "markdown",
   "id": "28be3ba85500f42f",
   "metadata": {},
   "source": [
    "# Day 4"
   ]
  },
  {
   "cell_type": "code",
   "execution_count": 41,
   "id": "5214a846193f5607",
   "metadata": {
    "ExecuteTime": {
     "end_time": "2024-03-13T19:07:03.031126Z",
     "start_time": "2024-03-13T19:07:02.938876Z"
    },
    "collapsed": false
   },
   "outputs": [],
   "source": [
    "raw_data = aoc.get_data(2023, 4)\n",
    "example = \"\"\"Card 1: 41 48 83 86 17 | 83 86  6 31 17  9 48 53\n",
    "Card 2: 13 32 20 16 61 | 61 30 68 82 17 32 24 19\n",
    "Card 3:  1 21 53 59 44 | 69 82 63 72 16 21 14  1\n",
    "Card 4: 41 92 73 84 69 | 59 84 76 51 58  5 54 83\n",
    "Card 5: 87 83 26 28 32 | 88 30 70 12 93 22 82 36\n",
    "Card 6: 31 18 13 56 72 | 74 77 10 23 35 67 36 11\"\"\""
   ]
  },
  {
   "cell_type": "code",
   "execution_count": 75,
   "id": "12133eefc13f3a19",
   "metadata": {
    "ExecuteTime": {
     "end_time": "2024-03-13T19:14:58.955842Z",
     "start_time": "2024-03-13T19:14:58.951056Z"
    },
    "collapsed": false
   },
   "outputs": [],
   "source": [
    "class ScoreCard:\n",
    "    \n",
    "    def score_all_cards(self, cards):\n",
    "        return sum(map(self.score_card, cards.splitlines()))\n",
    "    \n",
    "    def score_card(self, card):\n",
    "        \n",
    "        card_id, numbers = card.split(':')\n",
    "        \n",
    "        winning_numbers, playing_numbers = numbers.split('|')\n",
    "        \n",
    "        winning_numbers = self.get_set(winning_numbers)\n",
    "        playing_numbers = self.get_set(playing_numbers)\n",
    "        \n",
    "        matches = len(winning_numbers.intersection(playing_numbers))\n",
    "        \n",
    "        return self.calculate_score(matches)\n",
    "        \n",
    "        \n",
    "    def get_set(self, numbers):\n",
    "        \n",
    "        return set([int(x) for x in re.findall('\\d+', numbers)])\n",
    "    \n",
    "        \n",
    "    def calculate_score(self, matches):\n",
    "        \n",
    "        if matches <= 1:\n",
    "            return matches\n",
    "        \n",
    "        else:\n",
    "            \n",
    "            return 2 ** (matches -1)\n",
    "\n",
    "            \n",
    "            \n",
    "        \n",
    "        "
   ]
  },
  {
   "cell_type": "code",
   "execution_count": 77,
   "id": "a83c40e0997646b3",
   "metadata": {
    "ExecuteTime": {
     "end_time": "2024-03-13T19:15:16.886195Z",
     "start_time": "2024-03-13T19:15:16.879706Z"
    },
    "collapsed": false
   },
   "outputs": [
    {
     "data": {
      "text/plain": [
       "25010"
      ]
     },
     "execution_count": 77,
     "metadata": {},
     "output_type": "execute_result"
    }
   ],
   "source": [
    "card = ScoreCard()\n",
    "card.score_all_cards(raw_data)"
   ]
  },
  {
   "cell_type": "code",
   "execution_count": 74,
   "id": "9b73d9607d030415",
   "metadata": {
    "ExecuteTime": {
     "end_time": "2024-03-13T19:14:28.538471Z",
     "start_time": "2024-03-13T19:14:28.535435Z"
    },
    "collapsed": false
   },
   "outputs": [
    {
     "data": {
      "text/plain": [
       "2"
      ]
     },
     "execution_count": 74,
     "metadata": {},
     "output_type": "execute_result"
    }
   ],
   "source": [
    "card.calculate_score(2)"
   ]
  },
  {
   "cell_type": "code",
   "execution_count": 1,
   "id": "1073171dd4161a66",
   "metadata": {
    "ExecuteTime": {
     "end_time": "2024-03-14T22:04:52.684519Z",
     "start_time": "2024-03-14T22:04:52.682821Z"
    },
    "collapsed": false
   },
   "outputs": [],
   "source": [
    "import itertools"
   ]
  },
  {
   "cell_type": "code",
   "execution_count": 2,
   "id": "be2fa78f47c7f8e9",
   "metadata": {
    "ExecuteTime": {
     "end_time": "2024-03-14T22:04:50.023576Z",
     "start_time": "2024-03-14T22:04:50.013858Z"
    },
    "collapsed": false
   },
   "outputs": [
    {
     "ename": "AttributeError",
     "evalue": "module 'itertools' has no attribute 'batched'",
     "output_type": "error",
     "traceback": [
      "\u001B[0;31m---------------------------------------------------------------------------\u001B[0m",
      "\u001B[0;31mAttributeError\u001B[0m                            Traceback (most recent call last)",
      "Cell \u001B[0;32mIn[2], line 1\u001B[0m\n\u001B[0;32m----> 1\u001B[0m [x \u001B[38;5;28;01mfor\u001B[39;00m x \u001B[38;5;129;01min\u001B[39;00m \u001B[43mitertools\u001B[49m\u001B[38;5;241;43m.\u001B[39;49m\u001B[43mbatched\u001B[49m([\u001B[38;5;241m1\u001B[39m,\u001B[38;5;241m2\u001B[39m,\u001B[38;5;241m3\u001B[39m,\u001B[38;5;241m4\u001B[39m,\u001B[38;5;241m5\u001B[39m,\u001B[38;5;241m6\u001B[39m,\u001B[38;5;241m7\u001B[39m,\u001B[38;5;241m8\u001B[39m,\u001B[38;5;241m9\u001B[39m], n\u001B[38;5;241m=\u001B[39m\u001B[38;5;241m3\u001B[39m)]\n",
      "\u001B[0;31mAttributeError\u001B[0m: module 'itertools' has no attribute 'batched'"
     ]
    }
   ],
   "source": [
    "[x for x in itertools.batched([1,2,3,4,5,6,7,8,9], n=3)]"
   ]
  },
  {
   "cell_type": "code",
   "outputs": [],
   "source": [],
   "metadata": {
    "collapsed": false
   },
   "id": "13d6c717ea4c6776"
  },
  {
   "cell_type": "markdown",
   "source": [
    "# Day 5"
   ],
   "metadata": {
    "collapsed": false
   },
   "id": "b8922a2055f8ae76"
  },
  {
   "cell_type": "code",
   "outputs": [],
   "source": [
    "raw_data = aoc.get_data(2023, 5)"
   ],
   "metadata": {
    "collapsed": false,
    "ExecuteTime": {
     "end_time": "2024-03-25T18:36:29.427230Z",
     "start_time": "2024-03-25T18:36:29.286246Z"
    }
   },
   "id": "a50275694606f325",
   "execution_count": 3
  },
  {
   "cell_type": "code",
   "outputs": [
    {
     "name": "stdout",
     "output_type": "stream",
     "text": [
      "seeds: 104847962 3583832 1212568077 114894281 3890048781 333451605 1520059863 217361990 310308287 12785610 3492562455 292968049 1901414562 516150861 2474299950 152867148 3394639029 59690410 862612782 176128197\n",
      "\n",
      "seed-to-soil map:\n",
      "2023441036 2044296880 396074363\n",
      "2419515399 3839972576 454994720\n",
      "274688417 699823315 258919718\n",
      "533608135 0 431744151\n",
      "965352286 431744151 161125324\n",
      "3391658630 2936663910 903308666\n",
      "200749950 1177785526 73938467\n",
      "2874510119 1440389999 315892137\n",
      "1916089471 2440371243 20593195\n",
      "0 977035576 200749950\n",
      "1936682666 1957538510 86758370\n",
      "1440389999 2902130623 34533287\n",
      "1126477610 592869475 106953840\n",
      "3190402256 1756282136 201256374\n",
      "1474923286 2460964438 441166185\n",
      "1233431450 958743033 18292543\n",
      "\n",
      "soil-to-fertilizer map:\n",
      "1479837493 1486696129 480988794\n",
      "3637384566 3730606485 267472485\n",
      "70483107 174821741 921411492\n",
      "3586173142 3071290434 51211424\n",
      "1960826287 1166716340 319979789\n",
      "3952751562 3398939385 283772589\n",
      "0 1096233233 70483107\n",
      "1166716340 1967684923 313121153\n",
      "3904857051 3682711974 47894511\n",
      "2902018973 3122501858 276437527\n",
      "991894599 0 174821741\n",
      "3416901681 2902018973 169271461\n",
      "3178456500 3998078970 238445181\n",
      "\n",
      "fertilizer-to-water map:\n",
      "4274676882 2765984054 20290414\n",
      "3642266392 2324011621 382224743\n",
      "3159410287 4157769177 137198119\n",
      "3437898965 2786274468 204367427\n",
      "2136710407 1497332580 94233249\n",
      "4121681656 2706236364 59747690\n",
      "2362529584 1912615374 411396247\n",
      "4181429346 3961317447 93247536\n",
      "270199336 152334204 473273308\n",
      "1977000445 3853228854 108088593\n",
      "2085089038 1304420652 51621369\n",
      "1407624846 2990641895 345516575\n",
      "908901118 638701782 307729932\n",
      "3296608406 1356042021 141290559\n",
      "743472644 625607512 13094270\n",
      "2230943656 3721642926 131585928\n",
      "0 946431714 270199336\n",
      "2773925831 3336158470 385484456\n",
      "4024491135 1815424853 97190521\n",
      "756566914 0 152334204\n",
      "1304420652 4054564983 103204194\n",
      "1753141421 1591565829 223859024\n",
      "\n",
      "water-to-light map:\n",
      "139728365 0 27290780\n",
      "4161521920 2345099742 65970280\n",
      "3549264451 2411070022 15588060\n",
      "846553766 4012820620 62155872\n",
      "3276913175 3215861697 30588309\n",
      "7256118 139495191 27523954\n",
      "3653026602 3908255344 104565276\n",
      "2007806695 3246450006 21131889\n",
      "426542603 2677155019 292403006\n",
      "3265259672 4167732422 11653503\n",
      "2959802238 3267581895 77570040\n",
      "2766290955 2562319792 114835227\n",
      "779480399 3352881787 3460872\n",
      "718945609 995514267 33385697\n",
      "908709638 1675494216 164534584\n",
      "1547970680 1643941067 31553149\n",
      "1579523829 2009572806 335526936\n",
      "782941271 2969558025 63612495\n",
      "752331306 465171569 27149093\n",
      "237284175 1454682639 189258428\n",
      "3757591878 3724399189 59699158\n",
      "2881126182 3784098347 78676056\n",
      "1520219770 2426658082 27750910\n",
      "3564852511 1366508548 88174091\n",
      "2383999106 3681454004 42945185\n",
      "4287237444 3345151935 7729852\n",
      "2242562254 3649815914 31638090\n",
      "3307501484 753751300 241762967\n",
      "34780072 27290780 104948293\n",
      "2028938584 3033170520 182691177\n",
      "3037372278 237284175 227887394\n",
      "3817291036 3356342659 5821939\n",
      "0 132239073 7256118\n",
      "1360895538 1266240382 51601463\n",
      "3823112975 492320662 230498145\n",
      "2274200344 1840028800 109798762\n",
      "4053611120 2454408992 107910800\n",
      "2426944291 1317841845 48666703\n",
      "1073244222 3362164598 287651316\n",
      "1457977942 1203998554 62241828\n",
      "2591192365 1028899964 175098590\n",
      "1412497001 3862774403 45480941\n",
      "2475610994 4179385925 115581371\n",
      "4227492200 1949827562 59745244\n",
      "1915050765 4074976492 92755930\n",
      "2211629761 722818807 30932493\n",
      "\n",
      "light-to-temperature map:\n",
      "3741602262 2758947303 142653736\n",
      "628739598 2901601039 50811783\n",
      "1842260329 1084521599 145122645\n",
      "2990409993 3493390513 390865485\n",
      "4190333929 4159289690 83510514\n",
      "984282519 2952412822 202948629\n",
      "1826968660 3155361451 15291669\n",
      "1329953386 2288178120 328046945\n",
      "830513455 3304469747 74190775\n",
      "1187231148 2616225065 142722238\n",
      "2705943734 836690664 247830935\n",
      "3381275478 1332397059 281233458\n",
      "679551381 605080109 150962074\n",
      "1987382974 756042183 44013157\n",
      "4159289690 4263923057 31044239\n",
      "1772730322 3250231409 54238338\n",
      "2549609472 2131843858 156334262\n",
      "1658000331 3378660522 114729991\n",
      "298584178 195831363 330155420\n",
      "3662508936 525986783 79093326\n",
      "4273844443 4242800204 21122853\n",
      "2953774669 800055340 36635324\n",
      "2031396131 1613630517 518213341\n",
      "265644560 162891745 32939618\n",
      "162891745 1229644244 102752815\n",
      "904704230 3170653120 79578289\n",
      "\n",
      "temperature-to-humidity map:\n",
      "671484955 1144907174 532089323\n",
      "1414132335 1960778188 125717021\n",
      "2631474761 2586973888 1058655511\n",
      "1991131055 744338927 221864400\n",
      "2212995455 192320896 28611061\n",
      "192320896 2186552402 224875394\n",
      "2241895588 966203327 169532208\n",
      "1744764149 431490014 67442815\n",
      "1812206964 2106058626 80493776\n",
      "516655377 1135735535 9171639\n",
      "1559412773 1775426812 185351376\n",
      "2622156499 2577655626 9318262\n",
      "1203574278 220931957 210558057\n",
      "3690130272 4094120212 156346211\n",
      "3946017132 3645629399 348950164\n",
      "525827016 598680988 145657939\n",
      "1892700740 1676996497 98430315\n",
      "3846476483 3994579563 99540649\n",
      "2577655626 4250466423 44500873\n",
      "1539849356 2086495209 19563417\n",
      "2241606516 598391916 289072\n",
      "417196290 498932829 99459087\n",
      "\n",
      "humidity-to-location map:\n",
      "547577859 2546258172 54451455\n",
      "2564186976 3913248498 28610653\n",
      "2460249359 129990669 103937617\n",
      "257798579 3257354132 21143365\n",
      "511274864 3365252234 24536388\n",
      "412475023 3389788622 98799841\n",
      "2843712442 3615348771 251219053\n",
      "0 2984989380 24111266\n",
      "1074541266 4051128852 126947592\n",
      "3109497668 265707418 9056683\n",
      "3268495430 1450483293 18654108\n",
      "1298820860 954974424 392849235\n",
      "1691670095 1469137401 93027519\n",
      "3886041222 2131196811 39611681\n",
      "2797706800 1347823659 46005642\n",
      "3767841776 233928286 19835810\n",
      "743957513 253764096 11943322\n",
      "4068806743 3941859151 109269701\n",
      "2754107115 1910801576 16288912\n",
      "1223331059 2244121482 75489801\n",
      "3118554351 1393829301 56653992\n",
      "3094931495 3009100646 14566173\n",
      "3991994741 893524279 61450145\n",
      "692486724 2192650693 51470789\n",
      "1008564686 2952439802 32549578\n",
      "535811252 3603582164 11766607\n",
      "1784697614 2698363640 44335967\n",
      "755900835 2353038285 193219887\n",
      "278941944 1777268497 133533079\n",
      "3925652903 3488588463 66341838\n",
      "3558101581 2742699607 209740195\n",
      "949120722 3305808270 59443964\n",
      "2624116446 0 129990669\n",
      "1939852817 274764101 520396542\n",
      "3175208343 2037909724 93287087\n",
      "3287149538 2600709627 97654013\n",
      "650681177 1562164920 41805547\n",
      "3787677586 795160643 98363636\n",
      "1829033581 1927090488 110819236\n",
      "4053444886 3897886641 15361857\n",
      "1201488858 2170808492 21842201\n",
      "3384803551 1603970467 173298030\n",
      "2770396027 3278497497 27310773\n",
      "1041114264 2319611283 33427002\n",
      "602029314 3554930301 48651863\n",
      "2592797629 3866567824 31318817\n",
      "24111266 3023666819 233687313\n"
     ]
    }
   ],
   "source": [
    "print(raw_data)"
   ],
   "metadata": {
    "collapsed": false,
    "ExecuteTime": {
     "end_time": "2024-03-25T18:41:04.894202Z",
     "start_time": "2024-03-25T18:41:04.892324Z"
    }
   },
   "id": "49fa865b03bbdad9",
   "execution_count": 6
  },
  {
   "cell_type": "code",
   "outputs": [],
   "source": [
    "data = raw_data.split('\\n\\n')"
   ],
   "metadata": {
    "collapsed": false,
    "ExecuteTime": {
     "end_time": "2024-03-25T18:41:33.844157Z",
     "start_time": "2024-03-25T18:41:33.836691Z"
    }
   },
   "id": "5e3482d2bfe4b943",
   "execution_count": 7
  },
  {
   "cell_type": "code",
   "outputs": [
    {
     "data": {
      "text/plain": "['seeds: 104847962 3583832 1212568077 114894281 3890048781 333451605 1520059863 217361990 310308287 12785610 3492562455 292968049 1901414562 516150861 2474299950 152867148 3394639029 59690410 862612782 176128197',\n 'seed-to-soil map:\\n2023441036 2044296880 396074363\\n2419515399 3839972576 454994720\\n274688417 699823315 258919718\\n533608135 0 431744151\\n965352286 431744151 161125324\\n3391658630 2936663910 903308666\\n200749950 1177785526 73938467\\n2874510119 1440389999 315892137\\n1916089471 2440371243 20593195\\n0 977035576 200749950\\n1936682666 1957538510 86758370\\n1440389999 2902130623 34533287\\n1126477610 592869475 106953840\\n3190402256 1756282136 201256374\\n1474923286 2460964438 441166185\\n1233431450 958743033 18292543',\n 'soil-to-fertilizer map:\\n1479837493 1486696129 480988794\\n3637384566 3730606485 267472485\\n70483107 174821741 921411492\\n3586173142 3071290434 51211424\\n1960826287 1166716340 319979789\\n3952751562 3398939385 283772589\\n0 1096233233 70483107\\n1166716340 1967684923 313121153\\n3904857051 3682711974 47894511\\n2902018973 3122501858 276437527\\n991894599 0 174821741\\n3416901681 2902018973 169271461\\n3178456500 3998078970 238445181',\n 'fertilizer-to-water map:\\n4274676882 2765984054 20290414\\n3642266392 2324011621 382224743\\n3159410287 4157769177 137198119\\n3437898965 2786274468 204367427\\n2136710407 1497332580 94233249\\n4121681656 2706236364 59747690\\n2362529584 1912615374 411396247\\n4181429346 3961317447 93247536\\n270199336 152334204 473273308\\n1977000445 3853228854 108088593\\n2085089038 1304420652 51621369\\n1407624846 2990641895 345516575\\n908901118 638701782 307729932\\n3296608406 1356042021 141290559\\n743472644 625607512 13094270\\n2230943656 3721642926 131585928\\n0 946431714 270199336\\n2773925831 3336158470 385484456\\n4024491135 1815424853 97190521\\n756566914 0 152334204\\n1304420652 4054564983 103204194\\n1753141421 1591565829 223859024',\n 'water-to-light map:\\n139728365 0 27290780\\n4161521920 2345099742 65970280\\n3549264451 2411070022 15588060\\n846553766 4012820620 62155872\\n3276913175 3215861697 30588309\\n7256118 139495191 27523954\\n3653026602 3908255344 104565276\\n2007806695 3246450006 21131889\\n426542603 2677155019 292403006\\n3265259672 4167732422 11653503\\n2959802238 3267581895 77570040\\n2766290955 2562319792 114835227\\n779480399 3352881787 3460872\\n718945609 995514267 33385697\\n908709638 1675494216 164534584\\n1547970680 1643941067 31553149\\n1579523829 2009572806 335526936\\n782941271 2969558025 63612495\\n752331306 465171569 27149093\\n237284175 1454682639 189258428\\n3757591878 3724399189 59699158\\n2881126182 3784098347 78676056\\n1520219770 2426658082 27750910\\n3564852511 1366508548 88174091\\n2383999106 3681454004 42945185\\n4287237444 3345151935 7729852\\n2242562254 3649815914 31638090\\n3307501484 753751300 241762967\\n34780072 27290780 104948293\\n2028938584 3033170520 182691177\\n3037372278 237284175 227887394\\n3817291036 3356342659 5821939\\n0 132239073 7256118\\n1360895538 1266240382 51601463\\n3823112975 492320662 230498145\\n2274200344 1840028800 109798762\\n4053611120 2454408992 107910800\\n2426944291 1317841845 48666703\\n1073244222 3362164598 287651316\\n1457977942 1203998554 62241828\\n2591192365 1028899964 175098590\\n1412497001 3862774403 45480941\\n2475610994 4179385925 115581371\\n4227492200 1949827562 59745244\\n1915050765 4074976492 92755930\\n2211629761 722818807 30932493',\n 'light-to-temperature map:\\n3741602262 2758947303 142653736\\n628739598 2901601039 50811783\\n1842260329 1084521599 145122645\\n2990409993 3493390513 390865485\\n4190333929 4159289690 83510514\\n984282519 2952412822 202948629\\n1826968660 3155361451 15291669\\n1329953386 2288178120 328046945\\n830513455 3304469747 74190775\\n1187231148 2616225065 142722238\\n2705943734 836690664 247830935\\n3381275478 1332397059 281233458\\n679551381 605080109 150962074\\n1987382974 756042183 44013157\\n4159289690 4263923057 31044239\\n1772730322 3250231409 54238338\\n2549609472 2131843858 156334262\\n1658000331 3378660522 114729991\\n298584178 195831363 330155420\\n3662508936 525986783 79093326\\n4273844443 4242800204 21122853\\n2953774669 800055340 36635324\\n2031396131 1613630517 518213341\\n265644560 162891745 32939618\\n162891745 1229644244 102752815\\n904704230 3170653120 79578289',\n 'temperature-to-humidity map:\\n671484955 1144907174 532089323\\n1414132335 1960778188 125717021\\n2631474761 2586973888 1058655511\\n1991131055 744338927 221864400\\n2212995455 192320896 28611061\\n192320896 2186552402 224875394\\n2241895588 966203327 169532208\\n1744764149 431490014 67442815\\n1812206964 2106058626 80493776\\n516655377 1135735535 9171639\\n1559412773 1775426812 185351376\\n2622156499 2577655626 9318262\\n1203574278 220931957 210558057\\n3690130272 4094120212 156346211\\n3946017132 3645629399 348950164\\n525827016 598680988 145657939\\n1892700740 1676996497 98430315\\n3846476483 3994579563 99540649\\n2577655626 4250466423 44500873\\n1539849356 2086495209 19563417\\n2241606516 598391916 289072\\n417196290 498932829 99459087',\n 'humidity-to-location map:\\n547577859 2546258172 54451455\\n2564186976 3913248498 28610653\\n2460249359 129990669 103937617\\n257798579 3257354132 21143365\\n511274864 3365252234 24536388\\n412475023 3389788622 98799841\\n2843712442 3615348771 251219053\\n0 2984989380 24111266\\n1074541266 4051128852 126947592\\n3109497668 265707418 9056683\\n3268495430 1450483293 18654108\\n1298820860 954974424 392849235\\n1691670095 1469137401 93027519\\n3886041222 2131196811 39611681\\n2797706800 1347823659 46005642\\n3767841776 233928286 19835810\\n743957513 253764096 11943322\\n4068806743 3941859151 109269701\\n2754107115 1910801576 16288912\\n1223331059 2244121482 75489801\\n3118554351 1393829301 56653992\\n3094931495 3009100646 14566173\\n3991994741 893524279 61450145\\n692486724 2192650693 51470789\\n1008564686 2952439802 32549578\\n535811252 3603582164 11766607\\n1784697614 2698363640 44335967\\n755900835 2353038285 193219887\\n278941944 1777268497 133533079\\n3925652903 3488588463 66341838\\n3558101581 2742699607 209740195\\n949120722 3305808270 59443964\\n2624116446 0 129990669\\n1939852817 274764101 520396542\\n3175208343 2037909724 93287087\\n3287149538 2600709627 97654013\\n650681177 1562164920 41805547\\n3787677586 795160643 98363636\\n1829033581 1927090488 110819236\\n4053444886 3897886641 15361857\\n1201488858 2170808492 21842201\\n3384803551 1603970467 173298030\\n2770396027 3278497497 27310773\\n1041114264 2319611283 33427002\\n602029314 3554930301 48651863\\n2592797629 3866567824 31318817\\n24111266 3023666819 233687313\\n']"
     },
     "execution_count": 8,
     "metadata": {},
     "output_type": "execute_result"
    }
   ],
   "source": [
    "data"
   ],
   "metadata": {
    "collapsed": false,
    "ExecuteTime": {
     "end_time": "2024-03-25T18:41:36.397409Z",
     "start_time": "2024-03-25T18:41:36.393788Z"
    }
   },
   "id": "b9c4817813b7cdea",
   "execution_count": 8
  },
  {
   "cell_type": "code",
   "outputs": [],
   "source": [
    "class AlmanacMap:\n",
    "    \n",
    "    def __init__(self, almanac_entry):\n",
    "        name, *entries = almanac_entry.splitlines()\n",
    "        self.name = name\n",
    "        self.source = list()\n",
    "        self.destination = list()\n",
    "        self.map_range = list()\n",
    "        \n",
    "        for entry in entries:\n",
    "            destination , source , map_range = [int(x) for x in entry.split()]\n",
    "            self.source.append(source)\n",
    "            self.destination.append(destination)\n",
    "            self.map_range.append(map_range)\n",
    "    \n",
    "    def get_mapped_value(self, value):\n",
    "        \n",
    "        for destination, source, map_range in zip(self.destination, self.source, self.map_range):\n",
    "            \n",
    "            if source <= value < source + map_range:\n",
    "                \n",
    "                return destination + (value - source)\n",
    "            \n",
    "            \n",
    "        return value\n",
    "        \n",
    "\n",
    "    def __repr__(self):\n",
    "        return f\"{self.name[:-1]}\"\n",
    "\n",
    "class Almanac:\n",
    "    \n",
    "    def __init__(self, almanac):\n",
    "        \n",
    "        seeds, *almanac_maps = almanac.split('\\n\\n')\n",
    "        \n",
    "        self.maps = [AlmanacMap(map) for map in almanac_maps]\n",
    "        \n",
    "        self.seeds = [int(x) for x in re.findall('\\d+', seeds)]\n",
    "        \n",
    "        \n",
    "    def find_seed_location(self, seed):\n",
    "        \n",
    "        value = seed\n",
    "        \n",
    "        for map in self.maps:\n",
    "            value = map.get_mapped_value(value)\n",
    "            \n",
    "        return value\n",
    "        \n",
    "    def find_seed_locations(self):\n",
    "        \n",
    "        return [self.find_seed_location(x) for x in self.seeds]\n",
    "    "
   ],
   "metadata": {
    "collapsed": false,
    "ExecuteTime": {
     "end_time": "2024-03-25T19:34:31.235724Z",
     "start_time": "2024-03-25T19:34:31.230860Z"
    }
   },
   "id": "e3a477711758b28d",
   "execution_count": 61
  },
  {
   "cell_type": "code",
   "outputs": [],
   "source": [
    "example = \"\"\"seeds: 79 14 55 13\n",
    "\n",
    "seed-to-soil map:\n",
    "50 98 2\n",
    "52 50 48\n",
    "\n",
    "soil-to-fertilizer map:\n",
    "0 15 37\n",
    "37 52 2\n",
    "39 0 15\n",
    "\n",
    "fertilizer-to-water map:\n",
    "49 53 8\n",
    "0 11 42\n",
    "42 0 7\n",
    "57 7 4\n",
    "\n",
    "water-to-light map:\n",
    "88 18 7\n",
    "18 25 70\n",
    "\n",
    "light-to-temperature map:\n",
    "45 77 23\n",
    "81 45 19\n",
    "68 64 13\n",
    "\n",
    "temperature-to-humidity map:\n",
    "0 69 1\n",
    "1 0 69\n",
    "\n",
    "humidity-to-location map:\n",
    "60 56 37\n",
    "56 93 4\"\"\""
   ],
   "metadata": {
    "collapsed": false,
    "ExecuteTime": {
     "end_time": "2024-03-25T19:34:32.247414Z",
     "start_time": "2024-03-25T19:34:32.245226Z"
    }
   },
   "id": "965f25c1af68b486",
   "execution_count": 62
  },
  {
   "cell_type": "code",
   "outputs": [],
   "source": [
    "almanac = Almanac(raw_data)"
   ],
   "metadata": {
    "collapsed": false,
    "ExecuteTime": {
     "end_time": "2024-03-25T19:34:59.798120Z",
     "start_time": "2024-03-25T19:34:59.795642Z"
    }
   },
   "id": "9b15888cbe27d3a0",
   "execution_count": 66
  },
  {
   "cell_type": "code",
   "outputs": [
    {
     "data": {
      "text/plain": "88151870"
     },
     "execution_count": 67,
     "metadata": {},
     "output_type": "execute_result"
    }
   ],
   "source": [
    "min(almanac.find_seed_locations())"
   ],
   "metadata": {
    "collapsed": false,
    "ExecuteTime": {
     "end_time": "2024-03-25T19:35:01.185752Z",
     "start_time": "2024-03-25T19:35:01.182024Z"
    }
   },
   "id": "b301c3ec3b1134b",
   "execution_count": 67
  },
  {
   "cell_type": "code",
   "outputs": [
    {
     "data": {
      "text/plain": "[104847962,\n 3583832,\n 1212568077,\n 114894281,\n 3890048781,\n 333451605,\n 1520059863,\n 217361990,\n 310308287,\n 12785610,\n 3492562455,\n 292968049,\n 1901414562,\n 516150861,\n 2474299950,\n 152867148,\n 3394639029,\n 59690410,\n 862612782,\n 176128197]"
     },
     "execution_count": 68,
     "metadata": {},
     "output_type": "execute_result"
    }
   ],
   "source": [
    "almanac.seeds"
   ],
   "metadata": {
    "collapsed": false,
    "ExecuteTime": {
     "end_time": "2024-03-25T19:36:26.267270Z",
     "start_time": "2024-03-25T19:36:26.264587Z"
    }
   },
   "id": "16c62f248014ab3f",
   "execution_count": 68
  },
  {
   "cell_type": "code",
   "outputs": [],
   "source": [],
   "metadata": {
    "collapsed": false
   },
   "id": "645e8d3985d3949"
  }
 ],
 "metadata": {
  "kernelspec": {
   "display_name": "Python 3 (ipykernel)",
   "language": "python",
   "name": "python3"
  },
  "language_info": {
   "codemirror_mode": {
    "name": "ipython",
    "version": 3
   },
   "file_extension": ".py",
   "mimetype": "text/x-python",
   "name": "python",
   "nbconvert_exporter": "python",
   "pygments_lexer": "ipython3",
   "version": "3.10.13"
  }
 },
 "nbformat": 4,
 "nbformat_minor": 5
}
