{
 "cells": [
  {
   "cell_type": "code",
   "execution_count": 1,
   "id": "initial_id",
   "metadata": {
    "collapsed": true,
    "ExecuteTime": {
     "end_time": "2023-12-01T17:02:40.792075Z",
     "start_time": "2023-12-01T17:02:40.760072Z"
    }
   },
   "outputs": [],
   "source": [
    "import aoc\n",
    "import re"
   ]
  },
  {
   "cell_type": "code",
   "execution_count": 2,
   "outputs": [],
   "source": [
    "raw_data = aoc.get_data(2023, 1)"
   ],
   "metadata": {
    "collapsed": false,
    "ExecuteTime": {
     "end_time": "2023-12-01T17:02:49.345739Z",
     "start_time": "2023-12-01T17:02:49.230523Z"
    }
   },
   "id": "2d89c10957359a03"
  },
  {
   "cell_type": "code",
   "execution_count": 3,
   "outputs": [],
   "source": [
    "data = raw_data.splitlines()"
   ],
   "metadata": {
    "collapsed": false,
    "ExecuteTime": {
     "end_time": "2023-12-01T17:03:02.560814Z",
     "start_time": "2023-12-01T17:03:02.530167Z"
    }
   },
   "id": "724179d08fd26608"
  },
  {
   "cell_type": "code",
   "execution_count": 4,
   "outputs": [
    {
     "data": {
      "text/plain": "['2', '3']"
     },
     "execution_count": 4,
     "metadata": {},
     "output_type": "execute_result"
    }
   ],
   "source": [
    "re.findall(r'\\d', data[0])"
   ],
   "metadata": {
    "collapsed": false,
    "ExecuteTime": {
     "end_time": "2023-12-01T17:03:32.489490Z",
     "start_time": "2023-12-01T17:03:32.442836Z"
    }
   },
   "id": "d6c67424c49806f3"
  },
  {
   "cell_type": "code",
   "execution_count": 5,
   "outputs": [],
   "source": [
    "def extract_number(string):\n",
    "    \n",
    "    numbers = re.findall(r'\\d', string)\n",
    "    \n",
    "    return int(numbers[0] + numbers[-1])"
   ],
   "metadata": {
    "collapsed": false,
    "ExecuteTime": {
     "end_time": "2023-12-01T17:05:04.604374Z",
     "start_time": "2023-12-01T17:05:04.579674Z"
    }
   },
   "id": "942f4237b2770db7"
  },
  {
   "cell_type": "code",
   "execution_count": 6,
   "outputs": [
    {
     "data": {
      "text/plain": "54667"
     },
     "execution_count": 6,
     "metadata": {},
     "output_type": "execute_result"
    }
   ],
   "source": [
    "sum(map(extract_number, data))"
   ],
   "metadata": {
    "collapsed": false,
    "ExecuteTime": {
     "end_time": "2023-12-01T17:05:20.086723Z",
     "start_time": "2023-12-01T17:05:20.053672Z"
    }
   },
   "id": "bbc2414d2a48542d"
  },
  {
   "cell_type": "code",
   "execution_count": 13,
   "outputs": [],
   "source": [
    "number_words = {'zero': '0', 'one': '1', 'two': '2', 'three': '3', 'four': '4', 'five': '5', 'six': '6', 'seven': '7', 'eight': '8', 'nine': '9'}"
   ],
   "metadata": {
    "collapsed": false,
    "ExecuteTime": {
     "end_time": "2023-12-01T17:11:59.969751Z",
     "start_time": "2023-12-01T17:11:59.948717Z"
    }
   },
   "id": "78311b9672ef9111"
  },
  {
   "cell_type": "code",
   "execution_count": 16,
   "outputs": [],
   "source": [
    "def extract_more_numbers(string):\n",
    "    \n",
    "    numbers = re.findall('|'.join(number_words.keys())+r'|\\d', string)\n",
    "    return int(number_words.get(numbers[0], numbers[0]) + number_words.get(numbers[-1], numbers[-1]))"
   ],
   "metadata": {
    "collapsed": false,
    "ExecuteTime": {
     "end_time": "2023-12-01T17:12:47.307233Z",
     "start_time": "2023-12-01T17:12:47.286311Z"
    }
   },
   "id": "7cc73da7fa24a818"
  },
  {
   "cell_type": "code",
   "execution_count": 17,
   "outputs": [
    {
     "data": {
      "text/plain": "21"
     },
     "execution_count": 17,
     "metadata": {},
     "output_type": "execute_result"
    }
   ],
   "source": [
    "extract_more_numbers(data[0])"
   ],
   "metadata": {
    "collapsed": false,
    "ExecuteTime": {
     "end_time": "2023-12-01T17:12:48.596069Z",
     "start_time": "2023-12-01T17:12:48.577438Z"
    }
   },
   "id": "7ba9f2326f84d4d3"
  },
  {
   "cell_type": "code",
   "execution_count": 26,
   "outputs": [
    {
     "data": {
      "text/plain": "54185"
     },
     "execution_count": 26,
     "metadata": {},
     "output_type": "execute_result"
    }
   ],
   "source": [
    "sum(map(extract_more_numbers, data))"
   ],
   "metadata": {
    "collapsed": false,
    "ExecuteTime": {
     "end_time": "2023-12-01T17:16:48.696846Z",
     "start_time": "2023-12-01T17:16:48.682233Z"
    }
   },
   "id": "29cd341f74d7b822"
  },
  {
   "cell_type": "code",
   "execution_count": 25,
   "outputs": [
    {
     "data": {
      "text/plain": "76"
     },
     "execution_count": 25,
     "metadata": {},
     "output_type": "execute_result"
    }
   ],
   "source": [
    "extract_more_numbers('7pqrstsixteen')"
   ],
   "metadata": {
    "collapsed": false,
    "ExecuteTime": {
     "end_time": "2023-12-01T17:16:40.857436Z",
     "start_time": "2023-12-01T17:16:40.833553Z"
    }
   },
   "id": "ccc202394254cc0c"
  },
  {
   "cell_type": "code",
   "execution_count": 27,
   "outputs": [
    {
     "data": {
      "text/plain": "54185"
     },
     "execution_count": 27,
     "metadata": {},
     "output_type": "execute_result"
    }
   ],
   "source": [
    "sum(map(extract_more_numbers, data))"
   ],
   "metadata": {
    "collapsed": false,
    "ExecuteTime": {
     "end_time": "2023-12-01T17:16:56.217764Z",
     "start_time": "2023-12-01T17:16:56.201927Z"
    }
   },
   "id": "d8cd209f2282512f"
  },
  {
   "cell_type": "code",
   "execution_count": 30,
   "outputs": [
    {
     "name": "stdout",
     "output_type": "stream",
     "text": [
      "23krgjlpone 21\n",
      "kfxone67bzb2 12\n",
      "8jjpseven 87\n",
      "236twoknbxlczgd 22\n",
      "sevensrncljm5zmvvrtthreejjd85twonepvj 72\n",
      "1dgzljrtcndqqrqkgxseventhreessnthree 13\n",
      "s2eight6bhshvmsevensix 26\n",
      "5tpbsrf 55\n",
      "two35kxjtnbhxrmdhbgzeight 28\n",
      "khgdlljfjxt6sevenfour35pxone 61\n"
     ]
    }
   ],
   "source": [
    "for x in data[:10]:\n",
    "    \n",
    "    print(x , extract_more_numbers(x))"
   ],
   "metadata": {
    "collapsed": false,
    "ExecuteTime": {
     "end_time": "2023-12-01T17:18:15.071527Z",
     "start_time": "2023-12-01T17:18:15.048408Z"
    }
   },
   "id": "3cc3831fab599e19"
  },
  {
   "cell_type": "code",
   "execution_count": 38,
   "outputs": [
    {
     "data": {
      "text/plain": "['eight', 'three']"
     },
     "execution_count": 38,
     "metadata": {},
     "output_type": "execute_result"
    }
   ],
   "source": [
    "re.findall('|'.join(number_words.keys())+r'|\\d', 'eightwothree')"
   ],
   "metadata": {
    "collapsed": false,
    "ExecuteTime": {
     "end_time": "2023-12-01T17:34:47.798691Z",
     "start_time": "2023-12-01T17:34:47.781834Z"
    }
   },
   "id": "bc69d3fa47b41b8a"
  },
  {
   "cell_type": "code",
   "execution_count": 36,
   "outputs": [
    {
     "data": {
      "text/plain": "'zero|one|two|three|four|five|six|seven|eight|nine|\\\\d'"
     },
     "execution_count": 36,
     "metadata": {},
     "output_type": "execute_result"
    }
   ],
   "source": [
    "'|'.join(number_words.keys())+r'|\\d'"
   ],
   "metadata": {
    "collapsed": false,
    "ExecuteTime": {
     "end_time": "2023-12-01T17:32:17.313545Z",
     "start_time": "2023-12-01T17:32:17.286399Z"
    }
   },
   "id": "c24f20833feeb48d"
  },
  {
   "cell_type": "code",
   "execution_count": null,
   "outputs": [],
   "source": [],
   "metadata": {
    "collapsed": false
   },
   "id": "c70044d99268a692"
  }
 ],
 "metadata": {
  "kernelspec": {
   "display_name": "Python 3",
   "language": "python",
   "name": "python3"
  },
  "language_info": {
   "codemirror_mode": {
    "name": "ipython",
    "version": 2
   },
   "file_extension": ".py",
   "mimetype": "text/x-python",
   "name": "python",
   "nbconvert_exporter": "python",
   "pygments_lexer": "ipython2",
   "version": "2.7.6"
  }
 },
 "nbformat": 4,
 "nbformat_minor": 5
}
