{
 "cells": [
  {
   "cell_type": "code",
   "execution_count": 1,
   "id": "01519179-72d3-4663-abab-975c4cff772e",
   "metadata": {},
   "outputs": [],
   "source": [
    "import aoc"
   ]
  },
  {
   "cell_type": "code",
   "execution_count": 2,
   "id": "b0e94d65-408b-4f97-97f5-8dac1ed0b5b3",
   "metadata": {},
   "outputs": [],
   "source": [
    "raw_data = aoc.get_data(2017,4)"
   ]
  },
  {
   "cell_type": "code",
   "execution_count": 4,
   "id": "0760b157-b0b5-404e-8a95-5778f504474b",
   "metadata": {},
   "outputs": [],
   "source": [
    "data = raw_data.splitlines()"
   ]
  },
  {
   "cell_type": "code",
   "execution_count": 6,
   "id": "3d05ba0c-442d-43be-aa4f-de4f45b2c108",
   "metadata": {},
   "outputs": [
    {
     "data": {
      "text/plain": [
       "386"
      ]
     },
     "execution_count": 6,
     "metadata": {},
     "output_type": "execute_result"
    }
   ],
   "source": [
    "sum([len(x.split()) == len(set(x.split())) for x in data])"
   ]
  },
  {
   "cell_type": "code",
   "execution_count": 8,
   "id": "7a2afeac-5db3-462d-9d78-f41272570a5d",
   "metadata": {},
   "outputs": [
    {
     "data": {
      "text/plain": [
       "{'a', 'b', 'c', 'd'}"
      ]
     },
     "execution_count": 8,
     "metadata": {},
     "output_type": "execute_result"
    }
   ],
   "source": [
    "set('abcd')"
   ]
  },
  {
   "cell_type": "code",
   "execution_count": 10,
   "id": "11821fed-8947-45b9-9ddd-992da5ff698c",
   "metadata": {},
   "outputs": [
    {
     "data": {
      "text/plain": [
       "208"
      ]
     },
     "execution_count": 10,
     "metadata": {},
     "output_type": "execute_result"
    }
   ],
   "source": [
    "sum([len({frozenset(y) for y in x.split()}) == len(x.split()) for x in data])"
   ]
  },
  {
   "cell_type": "code",
   "execution_count": null,
   "id": "94804c9a-9ffa-4807-b590-08eb127bc25d",
   "metadata": {},
   "outputs": [],
   "source": []
  }
 ],
 "metadata": {
  "kernelspec": {
   "display_name": "Python 3 (ipykernel)",
   "language": "python",
   "name": "python3"
  },
  "language_info": {
   "codemirror_mode": {
    "name": "ipython",
    "version": 3
   },
   "file_extension": ".py",
   "mimetype": "text/x-python",
   "name": "python",
   "nbconvert_exporter": "python",
   "pygments_lexer": "ipython3",
   "version": "3.11.9"
  }
 },
 "nbformat": 4,
 "nbformat_minor": 5
}
