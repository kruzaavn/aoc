{
 "cells": [
  {
   "cell_type": "code",
   "execution_count": 1,
   "id": "91cf450f-aad9-4ed4-8524-855230c3f0b1",
   "metadata": {},
   "outputs": [],
   "source": [
    "import aoc\n",
    "import math"
   ]
  },
  {
   "cell_type": "markdown",
   "id": "3d2a4ed2-b244-4d9c-ba76-7a4e5dc3338b",
   "metadata": {
    "tags": []
   },
   "source": [
    "# Day 1"
   ]
  },
  {
   "cell_type": "code",
   "execution_count": 2,
   "id": "00194049-146a-45b9-8f27-a64f41b38d29",
   "metadata": {},
   "outputs": [],
   "source": [
    "raw_data = aoc.get_data(2019, 1)"
   ]
  },
  {
   "cell_type": "code",
   "execution_count": 3,
   "id": "8226da9a-0090-47e1-9de6-457d5e4ba67e",
   "metadata": {},
   "outputs": [],
   "source": [
    "data = list(map(int, raw_data.splitlines()))"
   ]
  },
  {
   "cell_type": "code",
   "execution_count": 4,
   "id": "cc472b12-148d-408f-9a5a-d54f960de6b7",
   "metadata": {},
   "outputs": [],
   "source": [
    "def get_fuel(mass):\n",
    "    \n",
    "    return math.floor(mass / 3) - 2"
   ]
  },
  {
   "cell_type": "code",
   "execution_count": 5,
   "id": "5aaa7d61-b6a9-4c6c-88ac-39bb8c9f4fd0",
   "metadata": {},
   "outputs": [
    {
     "data": {
      "text/plain": [
       "3331523"
      ]
     },
     "execution_count": 5,
     "metadata": {},
     "output_type": "execute_result"
    }
   ],
   "source": [
    "sum(map(get_fuel, data))"
   ]
  },
  {
   "cell_type": "code",
   "execution_count": 6,
   "id": "78705366-224a-46c0-bd67-39d56e0224e2",
   "metadata": {},
   "outputs": [],
   "source": [
    "def get_fuel_compounded(mass):\n",
    "    \n",
    "    \n",
    "    fuel_mass = math.floor(mass /3) -2\n",
    "    \n",
    "    if fuel_mass > 0:\n",
    "        \n",
    "        return fuel_mass + get_fuel_compounded(fuel_mass)\n",
    "    \n",
    "    else: \n",
    "        \n",
    "        return 0"
   ]
  },
  {
   "cell_type": "code",
   "execution_count": 7,
   "id": "1401d7ea-fb25-4da8-93ef-bd6b6ba7de71",
   "metadata": {},
   "outputs": [
    {
     "data": {
      "text/plain": [
       "4994396"
      ]
     },
     "execution_count": 7,
     "metadata": {},
     "output_type": "execute_result"
    }
   ],
   "source": [
    "sum(map(get_fuel_compounded, data))"
   ]
  },
  {
   "cell_type": "markdown",
   "id": "c54c3b95-2e42-453d-b000-857247d9cfd5",
   "metadata": {
    "tags": []
   },
   "source": [
    "# Day 2"
   ]
  },
  {
   "cell_type": "code",
   "execution_count": 8,
   "id": "f768ffbf-11a9-4032-b421-837f4c24dee2",
   "metadata": {},
   "outputs": [],
   "source": [
    "raw_data = aoc.get_data(2019, 2)"
   ]
  },
  {
   "cell_type": "code",
   "execution_count": 9,
   "id": "9367c885-3cbb-4507-b360-208e0f166388",
   "metadata": {},
   "outputs": [
    {
     "data": {
      "text/plain": [
       "'1,0,0,3,1,1,2,3,1,3,4,3,1,5,0,3,2,13,1,19,1,19,10,23,1,23,6,27,1,6,27,31,1,13,31,35,1,13,35,39,1,39,13,43,2,43,9,47,2,6,47,51,1,51,9,55,1,55,9,59,1,59,6,63,1,9,63,67,2,67,10,71,2,71,13,75,1,10,75,79,2,10,79,83,1,83,6,87,2,87,10,91,1,91,6,95,1,95,13,99,1,99,13,103,2,103,9,107,2,107,10,111,1,5,111,115,2,115,9,119,1,5,119,123,1,123,9,127,1,127,2,131,1,5,131,0,99,2,0,14,0\\n'"
      ]
     },
     "execution_count": 9,
     "metadata": {},
     "output_type": "execute_result"
    }
   ],
   "source": [
    "raw_data"
   ]
  },
  {
   "cell_type": "code",
   "execution_count": 10,
   "id": "1c014344-7ed6-42e6-a391-53466388cf2f",
   "metadata": {},
   "outputs": [],
   "source": [
    "\n",
    "class BasicIntCodeComputer:\n",
    "    \n",
    "    def __init__(self):\n",
    "        \n",
    "        self.pointer = 0\n",
    "        self.tape = None\n",
    "        self.halt = None\n",
    "        self.codes = {\n",
    "            1: self.add,\n",
    "            2: self.multiply,\n",
    "            99: self.halt_execution\n",
    "        }\n",
    "        \n",
    "    def get_value(self, loc):\n",
    "        return self.tape[self.tape[loc]]\n",
    "        \n",
    "    def set_value(self, loc, value):\n",
    "        self.tape[loc] = value\n",
    "        \n",
    "    def add(self):\n",
    "        x = self.get_value(self.pointer +1)\n",
    "        y = self.get_value(self.pointer +2)\n",
    "        \n",
    "        result = self.tape[self.pointer + 3]\n",
    "        \n",
    "        self.set_value(result, x+y)\n",
    "        self.pointer += 4\n",
    "    \n",
    "    def multiply(self):\n",
    "        x = self.get_value(self.pointer + 1)\n",
    "        y = self.get_value(self.pointer + 2)\n",
    "        \n",
    "        result = self.tape[self.pointer + 3]\n",
    "        \n",
    "        self.set_value(result, x*y)\n",
    "        self.pointer += 4\n",
    "        \n",
    "    def halt_execution(self):\n",
    "        self.halt = True\n",
    "    \n",
    "    def run(self, tape):\n",
    "        \n",
    "        self.tape = [*tape]\n",
    "        self.pointer = 0\n",
    "        self.halt = False\n",
    "        \n",
    "        while not self.halt:\n",
    "            \n",
    "            func = self.codes[self.tape[self.pointer]]\n",
    "            func()\n",
    "            "
   ]
  },
  {
   "cell_type": "code",
   "execution_count": 11,
   "id": "cb4b9c67-ca33-4d29-b827-9648f793dec8",
   "metadata": {},
   "outputs": [],
   "source": [
    "computer = BasicIntCodeComputer()"
   ]
  },
  {
   "cell_type": "code",
   "execution_count": 12,
   "id": "99f3db4e-8fc0-4f45-9bf3-745987b8b32f",
   "metadata": {},
   "outputs": [
    {
     "data": {
      "text/plain": [
       "5866714"
      ]
     },
     "execution_count": 12,
     "metadata": {},
     "output_type": "execute_result"
    }
   ],
   "source": [
    "data = list(map(int, raw_data.split(',')))\n",
    "\n",
    "data[1] = 12\n",
    "data[2] = 2\n",
    "\n",
    "computer.run(data)\n",
    "\n",
    "computer.tape[0]"
   ]
  },
  {
   "cell_type": "code",
   "execution_count": 13,
   "id": "be23b3de-e0eb-41e2-aee9-ab7a985f8c31",
   "metadata": {},
   "outputs": [
    {
     "name": "stdout",
     "output_type": "stream",
     "text": [
      "5208\n"
     ]
    }
   ],
   "source": [
    "for noun in range(0, 100):\n",
    "    for verb in range(0,100):\n",
    "        \n",
    "        data = list(map(int, raw_data.split(',')))\n",
    "\n",
    "        data[1] = noun\n",
    "        data[2] = verb\n",
    "\n",
    "        computer.run(data)\n",
    "\n",
    "        if computer.tape[0] == 19690720:\n",
    "            \n",
    "            print(100 * noun + verb)\n",
    "            break\n",
    "            break\n",
    "        "
   ]
  },
  {
   "cell_type": "markdown",
   "id": "89019c3f-66e6-4886-bb0a-4eeb2e9fd290",
   "metadata": {},
   "source": [
    "# Day 3"
   ]
  },
  {
   "cell_type": "code",
   "execution_count": null,
   "id": "fed9024c-fda9-4d5e-9bc5-175fee0f838c",
   "metadata": {},
   "outputs": [],
   "source": [
    "raw_data = aoc.get_data(2019, 3)\n",
    "\n",
    "raw_data.split(',')"
   ]
  },
  {
   "cell_type": "markdown",
   "id": "a0ee8d02-36d7-4402-97c9-b80d0706f524",
   "metadata": {},
   "source": [
    "# Day 4"
   ]
  },
  {
   "cell_type": "code",
   "execution_count": 15,
   "id": "8ea0a868-f7d5-4339-8edd-5fe49b62a72f",
   "metadata": {},
   "outputs": [
    {
     "data": {
      "text/plain": [
       "['357253-892942\\n']"
      ]
     },
     "execution_count": 15,
     "metadata": {},
     "output_type": "execute_result"
    }
   ],
   "source": [
    "raw_data = aoc.get_data(2019, 4)\n",
    "\n",
    "raw_data.split(',')"
   ]
  },
  {
   "cell_type": "markdown",
   "id": "a1d37fd1-c5db-4001-9224-f1e0cc9285c5",
   "metadata": {},
   "source": [
    "# Day 5"
   ]
  },
  {
   "cell_type": "code",
   "execution_count": 16,
   "id": "60fbf0aa-d1ee-49dc-8f02-b4ea22725b91",
   "metadata": {},
   "outputs": [
    {
     "data": {
      "text/plain": [
       "'3,225,1,225,6,6,1100,1,238,225,104,0,1102,72,20,224,1001,224,-1440,224,4,224,102,8,223,223,1001,224,5,224,1,224,223,223,1002,147,33,224,101,-3036,224,224,4,224,102,8,223,223,1001,224,5,224,1,224,223,223,1102,32,90,225,101,65,87,224,101,-85,224,224,4,224,1002,223,8,223,101,4,224,224,1,223,224,223,1102,33,92,225,1102,20,52,225,1101,76,89,225,1,117,122,224,101,-78,224,224,4,224,102,8,223,223,101,1,224,224,1,223,224,223,1102,54,22,225,1102,5,24,225,102,50,84,224,101,-4600,224,224,4,224,1002,223,8,223,101,3,224,224,1,223,224,223,1102,92,64,225,1101,42,83,224,101,-125,224,224,4,224,102,8,223,223,101,5,224,224,1,224,223,223,2,58,195,224,1001,224,-6840,224,4,224,102,8,223,223,101,1,224,224,1,223,224,223,1101,76,48,225,1001,92,65,224,1001,224,-154,224,4,224,1002,223,8,223,101,5,224,224,1,223,224,223,4,223,99,0,0,0,677,0,0,0,0,0,0,0,0,0,0,0,1105,0,99999,1105,227,247,1105,1,99999,1005,227,99999,1005,0,256,1105,1,99999,1106,227,99999,1106,0,265,1105,1,99999,1006,0,99999,1006,227,274,1105,1,99999,1105,1,280,1105,1,99999,1,225,225,225,1101,294,0,0,105,1,0,1105,1,99999,1106,0,300,1105,1,99999,1,225,225,225,1101,314,0,0,106,0,0,1105,1,99999,1107,677,226,224,1002,223,2,223,1005,224,329,101,1,223,223,7,677,226,224,102,2,223,223,1005,224,344,1001,223,1,223,1107,226,226,224,1002,223,2,223,1006,224,359,1001,223,1,223,8,226,226,224,1002,223,2,223,1006,224,374,101,1,223,223,108,226,226,224,102,2,223,223,1005,224,389,1001,223,1,223,1008,226,226,224,1002,223,2,223,1005,224,404,101,1,223,223,1107,226,677,224,1002,223,2,223,1006,224,419,101,1,223,223,1008,226,677,224,1002,223,2,223,1006,224,434,101,1,223,223,108,677,677,224,1002,223,2,223,1006,224,449,101,1,223,223,1108,677,226,224,102,2,223,223,1006,224,464,1001,223,1,223,107,677,677,224,102,2,223,223,1005,224,479,101,1,223,223,7,226,677,224,1002,223,2,223,1006,224,494,1001,223,1,223,7,677,677,224,102,2,223,223,1006,224,509,101,1,223,223,107,226,677,224,1002,223,2,223,1006,224,524,1001,223,1,223,1007,226,226,224,102,2,223,223,1006,224,539,1001,223,1,223,108,677,226,224,102,2,223,223,1005,224,554,101,1,223,223,1007,677,677,224,102,2,223,223,1006,224,569,101,1,223,223,8,677,226,224,102,2,223,223,1006,224,584,1001,223,1,223,1008,677,677,224,1002,223,2,223,1006,224,599,1001,223,1,223,1007,677,226,224,1002,223,2,223,1005,224,614,101,1,223,223,1108,226,677,224,1002,223,2,223,1005,224,629,101,1,223,223,1108,677,677,224,1002,223,2,223,1005,224,644,1001,223,1,223,8,226,677,224,1002,223,2,223,1006,224,659,101,1,223,223,107,226,226,224,102,2,223,223,1005,224,674,101,1,223,223,4,223,99,226\\n'"
      ]
     },
     "execution_count": 16,
     "metadata": {},
     "output_type": "execute_result"
    }
   ],
   "source": [
    "raw_data = aoc.get_data(2019, 5)\n",
    "\n",
    "raw_data"
   ]
  },
  {
   "cell_type": "code",
   "execution_count": null,
   "id": "91839147-f9b6-4e18-85dd-da054980f038",
   "metadata": {},
   "outputs": [],
   "source": [
    "class ParameterIntCodeComputer(BasicIntCodeComputer):\n",
    "    \n",
    "    def __init__(self):\n",
    "        super().__init__()\n",
    "        \n",
    "        self.codes[3] = self.input\n",
    "        self.codes[4] = self.output\n",
    "        \n",
    "    def input(self):\n",
    "        self.pointer += 2\n",
    "    \n",
    "    def output(self):\n",
    "        pass"
   ]
  }
 ],
 "metadata": {
  "kernelspec": {
   "display_name": "Python 3 (ipykernel)",
   "language": "python",
   "name": "python3"
  },
  "language_info": {
   "codemirror_mode": {
    "name": "ipython",
    "version": 3
   },
   "file_extension": ".py",
   "mimetype": "text/x-python",
   "name": "python",
   "nbconvert_exporter": "python",
   "pygments_lexer": "ipython3",
   "version": "3.10.11"
  }
 },
 "nbformat": 4,
 "nbformat_minor": 5
}
