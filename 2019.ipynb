{
 "cells": [
  {
   "cell_type": "code",
   "execution_count": 6,
   "id": "91cf450f-aad9-4ed4-8524-855230c3f0b1",
   "metadata": {},
   "outputs": [],
   "source": [
    "import aoc\n",
    "import math"
   ]
  },
  {
   "cell_type": "markdown",
   "id": "3d2a4ed2-b244-4d9c-ba76-7a4e5dc3338b",
   "metadata": {},
   "source": [
    "# Day 1"
   ]
  },
  {
   "cell_type": "code",
   "execution_count": 7,
   "id": "00194049-146a-45b9-8f27-a64f41b38d29",
   "metadata": {},
   "outputs": [],
   "source": [
    "raw_data = aoc.get_data(2019, 1)"
   ]
  },
  {
   "cell_type": "code",
   "execution_count": 31,
   "id": "8226da9a-0090-47e1-9de6-457d5e4ba67e",
   "metadata": {},
   "outputs": [],
   "source": [
    "data = list(map(int, raw_data.splitlines()))"
   ]
  },
  {
   "cell_type": "code",
   "execution_count": 32,
   "id": "cc472b12-148d-408f-9a5a-d54f960de6b7",
   "metadata": {},
   "outputs": [],
   "source": [
    "def get_fuel(mass):\n",
    "    \n",
    "    return math.floor(mass / 3) - 2"
   ]
  },
  {
   "cell_type": "code",
   "execution_count": 33,
   "id": "5aaa7d61-b6a9-4c6c-88ac-39bb8c9f4fd0",
   "metadata": {},
   "outputs": [
    {
     "data": {
      "text/plain": [
       "3331523"
      ]
     },
     "execution_count": 33,
     "metadata": {},
     "output_type": "execute_result"
    }
   ],
   "source": [
    "sum(map(get_fuel, data))"
   ]
  },
  {
   "cell_type": "code",
   "execution_count": 34,
   "id": "78705366-224a-46c0-bd67-39d56e0224e2",
   "metadata": {},
   "outputs": [],
   "source": [
    "def get_fuel_compounded(mass):\n",
    "    \n",
    "    \n",
    "    fuel_mass = math.floor(mass /3) -2\n",
    "    \n",
    "    if fuel_mass > 0:\n",
    "        \n",
    "        return fuel_mass + get_fuel_compounded(fuel_mass)\n",
    "    \n",
    "    else: \n",
    "        \n",
    "        return 0"
   ]
  },
  {
   "cell_type": "code",
   "execution_count": 36,
   "id": "1401d7ea-fb25-4da8-93ef-bd6b6ba7de71",
   "metadata": {},
   "outputs": [
    {
     "data": {
      "text/plain": [
       "4994396"
      ]
     },
     "execution_count": 36,
     "metadata": {},
     "output_type": "execute_result"
    }
   ],
   "source": [
    "sum(map(get_fuel_compounded, data))"
   ]
  },
  {
   "cell_type": "markdown",
   "id": "c54c3b95-2e42-453d-b000-857247d9cfd5",
   "metadata": {},
   "source": [
    "# Day 2"
   ]
  },
  {
   "cell_type": "code",
   "execution_count": 37,
   "id": "f768ffbf-11a9-4032-b421-837f4c24dee2",
   "metadata": {},
   "outputs": [],
   "source": [
    "raw_data = aoc.get_data(2019, 2)"
   ]
  },
  {
   "cell_type": "code",
   "execution_count": 38,
   "id": "9367c885-3cbb-4507-b360-208e0f166388",
   "metadata": {},
   "outputs": [
    {
     "data": {
      "text/plain": [
       "'1,0,0,3,1,1,2,3,1,3,4,3,1,5,0,3,2,13,1,19,1,19,10,23,1,23,6,27,1,6,27,31,1,13,31,35,1,13,35,39,1,39,13,43,2,43,9,47,2,6,47,51,1,51,9,55,1,55,9,59,1,59,6,63,1,9,63,67,2,67,10,71,2,71,13,75,1,10,75,79,2,10,79,83,1,83,6,87,2,87,10,91,1,91,6,95,1,95,13,99,1,99,13,103,2,103,9,107,2,107,10,111,1,5,111,115,2,115,9,119,1,5,119,123,1,123,9,127,1,127,2,131,1,5,131,0,99,2,0,14,0\\n'"
      ]
     },
     "execution_count": 38,
     "metadata": {},
     "output_type": "execute_result"
    }
   ],
   "source": [
    "raw_data"
   ]
  },
  {
   "cell_type": "code",
   "execution_count": 87,
   "id": "1c014344-7ed6-42e6-a391-53466388cf2f",
   "metadata": {},
   "outputs": [],
   "source": [
    "\n",
    "class IntCodeComputer:\n",
    "    \n",
    "    def __init__(self):\n",
    "        \n",
    "        self.pointer = 0\n",
    "        self.tape = None\n",
    "        self.halt = None\n",
    "        self.codes = {\n",
    "            1: self.add,\n",
    "            2: self.multiply,\n",
    "            99: self.halt_execution\n",
    "        }\n",
    "        \n",
    "    def get_value(self, loc):\n",
    "        return self.tape[self.tape[loc]]\n",
    "        \n",
    "    def set_value(self, loc, value):\n",
    "        self.tape[loc] = value\n",
    "        \n",
    "    def add(self):\n",
    "        x = self.get_value(self.pointer +1)\n",
    "        y = self.get_value(self.pointer +2)\n",
    "        \n",
    "        result = self.tape[self.pointer + 3]\n",
    "        \n",
    "        self.set_value(result, x+y)\n",
    "        self.pointer += 4\n",
    "    \n",
    "    def multiply(self):\n",
    "        x = self.get_value(self.pointer + 1)\n",
    "        y = self.get_value(self.pointer + 2)\n",
    "        \n",
    "        result = self.tape[self.pointer + 3]\n",
    "        \n",
    "        print(result, self.pointer)\n",
    "        \n",
    "        self.set_value(result, x*y)\n",
    "        self.pointer += 4\n",
    "        \n",
    "    def halt_execution(self):\n",
    "        self.halt = True\n",
    "    \n",
    "    def run(self, tape):\n",
    "        \n",
    "        self.tape = tape\n",
    "        self.pointer = 0\n",
    "        self.halt = False\n",
    "        \n",
    "        while not self.halt:\n",
    "            \n",
    "            func = self.codes[self.tape[self.pointer]]\n",
    "            func()\n",
    "            "
   ]
  },
  {
   "cell_type": "code",
   "execution_count": 93,
   "id": "cb4b9c67-ca33-4d29-b827-9648f793dec8",
   "metadata": {},
   "outputs": [],
   "source": [
    "computer = IntCodeComputer()"
   ]
  },
  {
   "cell_type": "code",
   "execution_count": 97,
   "id": "06ea8efd-f317-4b38-b193-8b09b296f6f4",
   "metadata": {},
   "outputs": [],
   "source": [
    "data = list(map(int, raw_data.split(',')))"
   ]
  },
  {
   "cell_type": "code",
   "execution_count": 99,
   "id": "3e712df2-7fd2-4ccf-a796-3982dff0685d",
   "metadata": {},
   "outputs": [
    {
     "name": "stdout",
     "output_type": "stream",
     "text": [
      "19 16\n",
      "47 44\n",
      "51 48\n",
      "71 68\n",
      "75 72\n",
      "83 80\n",
      "91 88\n",
      "107 104\n",
      "111 108\n",
      "119 116\n"
     ]
    }
   ],
   "source": [
    "data[1] = 12\n",
    "data[2] = 2\n",
    "\n",
    "computer.run(data)"
   ]
  },
  {
   "cell_type": "code",
   "execution_count": 100,
   "id": "e005f433-b99a-47c3-95ba-771f5cef5a53",
   "metadata": {},
   "outputs": [
    {
     "data": {
      "text/plain": [
       "[5866714,\n",
       " 12,\n",
       " 2,\n",
       " 2,\n",
       " 1,\n",
       " 1,\n",
       " 2,\n",
       " 3,\n",
       " 1,\n",
       " 3,\n",
       " 4,\n",
       " 3,\n",
       " 1,\n",
       " 5,\n",
       " 0,\n",
       " 3,\n",
       " 2,\n",
       " 13,\n",
       " 1,\n",
       " 60,\n",
       " 1,\n",
       " 19,\n",
       " 10,\n",
       " 64,\n",
       " 1,\n",
       " 23,\n",
       " 6,\n",
       " 66,\n",
       " 1,\n",
       " 6,\n",
       " 27,\n",
       " 68,\n",
       " 1,\n",
       " 13,\n",
       " 31,\n",
       " 73,\n",
       " 1,\n",
       " 13,\n",
       " 35,\n",
       " 78,\n",
       " 1,\n",
       " 39,\n",
       " 13,\n",
       " 83,\n",
       " 2,\n",
       " 43,\n",
       " 9,\n",
       " 249,\n",
       " 2,\n",
       " 6,\n",
       " 47,\n",
       " 498,\n",
       " 1,\n",
       " 51,\n",
       " 9,\n",
       " 501,\n",
       " 1,\n",
       " 55,\n",
       " 9,\n",
       " 504,\n",
       " 1,\n",
       " 59,\n",
       " 6,\n",
       " 506,\n",
       " 1,\n",
       " 9,\n",
       " 63,\n",
       " 509,\n",
       " 2,\n",
       " 67,\n",
       " 10,\n",
       " 2036,\n",
       " 2,\n",
       " 71,\n",
       " 13,\n",
       " 10180,\n",
       " 1,\n",
       " 10,\n",
       " 75,\n",
       " 10184,\n",
       " 2,\n",
       " 10,\n",
       " 79,\n",
       " 40736,\n",
       " 1,\n",
       " 83,\n",
       " 6,\n",
       " 40738,\n",
       " 2,\n",
       " 87,\n",
       " 10,\n",
       " 162952,\n",
       " 1,\n",
       " 91,\n",
       " 6,\n",
       " 162954,\n",
       " 1,\n",
       " 95,\n",
       " 13,\n",
       " 162959,\n",
       " 1,\n",
       " 99,\n",
       " 13,\n",
       " 162964,\n",
       " 2,\n",
       " 103,\n",
       " 9,\n",
       " 488892,\n",
       " 2,\n",
       " 107,\n",
       " 10,\n",
       " 1955568,\n",
       " 1,\n",
       " 5,\n",
       " 111,\n",
       " 1955569,\n",
       " 2,\n",
       " 115,\n",
       " 9,\n",
       " 5866707,\n",
       " 1,\n",
       " 5,\n",
       " 119,\n",
       " 5866708,\n",
       " 1,\n",
       " 123,\n",
       " 9,\n",
       " 5866711,\n",
       " 1,\n",
       " 127,\n",
       " 2,\n",
       " 5866713,\n",
       " 1,\n",
       " 5,\n",
       " 131,\n",
       " 0,\n",
       " 99,\n",
       " 2,\n",
       " 0,\n",
       " 14,\n",
       " 0]"
      ]
     },
     "execution_count": 100,
     "metadata": {},
     "output_type": "execute_result"
    }
   ],
   "source": [
    "computer.tape"
   ]
  },
  {
   "cell_type": "code",
   "execution_count": null,
   "id": "be23b3de-e0eb-41e2-aee9-ab7a985f8c31",
   "metadata": {},
   "outputs": [],
   "source": []
  }
 ],
 "metadata": {
  "kernelspec": {
   "display_name": "Python 3 (ipykernel)",
   "language": "python",
   "name": "python3"
  },
  "language_info": {
   "codemirror_mode": {
    "name": "ipython",
    "version": 3
   },
   "file_extension": ".py",
   "mimetype": "text/x-python",
   "name": "python",
   "nbconvert_exporter": "python",
   "pygments_lexer": "ipython3",
   "version": "3.10.11"
  }
 },
 "nbformat": 4,
 "nbformat_minor": 5
}
