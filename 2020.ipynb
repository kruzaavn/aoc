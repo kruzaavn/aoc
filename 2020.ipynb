{
 "cells": [
  {
   "cell_type": "code",
   "execution_count": null,
   "id": "ae8cf12a-b348-4f78-ac55-6309151c7879",
   "metadata": {},
   "outputs": [],
   "source": [
    "import aoc\n",
    "import numpy as np\n",
    "import math\n",
    "import re\n",
    "import itertools\n",
    "from functools import reduce\n",
    "import networkx as nx\n",
    "import matplotlib.pyplot as plt"
   ]
  },
  {
   "cell_type": "markdown",
   "id": "bc596587-318a-4f7e-8d4a-fedc9c55f6ac",
   "metadata": {
    "tags": []
   },
   "source": [
    "# Day 3"
   ]
  },
  {
   "cell_type": "code",
   "execution_count": null,
   "id": "4e3a217a-baf8-45c6-9993-9deea5fecc3e",
   "metadata": {},
   "outputs": [],
   "source": [
    "raw_data = aoc.get_data(2020, 3)"
   ]
  },
  {
   "cell_type": "code",
   "execution_count": null,
   "id": "1cb4e3b0-472d-411f-8db7-e12221e09afa",
   "metadata": {},
   "outputs": [],
   "source": [
    "data = raw_data.replace('.', '0').replace('#', '1').splitlines()"
   ]
  },
  {
   "cell_type": "code",
   "execution_count": null,
   "id": "4bd92b75-798f-495a-9daa-fd5fbb0a4ec2",
   "metadata": {},
   "outputs": [],
   "source": [
    "data"
   ]
  },
  {
   "cell_type": "code",
   "execution_count": null,
   "id": "8ff240a9-45dc-4540-8c4a-da4314130970",
   "metadata": {},
   "outputs": [],
   "source": [
    "patch = np.array([[int(y) for y in x] for x in data])"
   ]
  },
  {
   "cell_type": "code",
   "execution_count": null,
   "id": "8d78c0e5-ffb6-4ec4-8d55-9c0648db4486",
   "metadata": {},
   "outputs": [],
   "source": [
    "slope = (3, 1)"
   ]
  },
  {
   "cell_type": "code",
   "execution_count": null,
   "id": "01c7cc1f-e1d0-49bd-bbd5-bda2762abea1",
   "metadata": {},
   "outputs": [],
   "source": [
    "def make_forest(patch, slope):\n",
    "    \n",
    "    shape = patch.shape\n",
    "    \n",
    "    max_down = shape[0] * slope[1]\n",
    "    \n",
    "    max_right = max_down * slope[0]\n",
    "    \n",
    "    return np.concatenate([patch] * math.ceil(max_right / shape[1]), axis=1)"
   ]
  },
  {
   "cell_type": "code",
   "execution_count": null,
   "id": "d1e455a7-100d-4b73-b38c-8635641eaefd",
   "metadata": {},
   "outputs": [],
   "source": [
    "forest = make_forest(patch, (1, 3))"
   ]
  },
  {
   "cell_type": "code",
   "execution_count": null,
   "id": "345550e1-21d8-4a90-a0ed-ceebc3306a77",
   "metadata": {},
   "outputs": [],
   "source": [
    "forest.shape"
   ]
  },
  {
   "cell_type": "code",
   "execution_count": null,
   "id": "c9e1b2d8-d3e5-4c64-93fc-ea92c7aefd86",
   "metadata": {},
   "outputs": [],
   "source": [
    "def count_trees(forest, slope):\n",
    "    \n",
    "    x = 0\n",
    "    y = 0\n",
    "    \n",
    "    trees = []\n",
    "    \n",
    "    while True:\n",
    "        try: \n",
    "            x += slope[0]\n",
    "            y += slope[1]\n",
    "        \n",
    "            trees.append(forest[y, x])\n",
    "        except IndexError:\n",
    "            break\n",
    "    \n",
    "    return sum(trees)"
   ]
  },
  {
   "cell_type": "code",
   "execution_count": null,
   "id": "04e5cfef-30aa-4031-948b-16240b6b34e0",
   "metadata": {},
   "outputs": [],
   "source": [
    "count_trees(forest, slope)"
   ]
  },
  {
   "cell_type": "markdown",
   "id": "dbab44f5-d394-49bb-aca8-10e1862642bc",
   "metadata": {
    "jp-MarkdownHeadingCollapsed": true,
    "tags": []
   },
   "source": [
    "# Day 4"
   ]
  },
  {
   "cell_type": "code",
   "execution_count": null,
   "id": "a240a898-dbf7-4a0c-baad-69589c6b571e",
   "metadata": {},
   "outputs": [],
   "source": [
    "raw_data = aoc.get_data(2020, 4)"
   ]
  },
  {
   "cell_type": "code",
   "execution_count": null,
   "id": "ccd009cb-9655-4281-94a8-54b3d430cccd",
   "metadata": {},
   "outputs": [],
   "source": [
    "passports = raw_data.split('\\n\\n')"
   ]
  },
  {
   "cell_type": "code",
   "execution_count": null,
   "id": "80ae9d3b-2c74-4f67-9ddf-f00ed9a2f6fb",
   "metadata": {},
   "outputs": [],
   "source": [
    "test = \"\"\"eyr:1972 cid:100\n",
    "hcl:#18171d ecl:amb hgt:170 pid:186cm iyr:2018 byr:1926\n",
    "\n",
    "iyr:2019\n",
    "hcl:#602927 eyr:1967 hgt:170cm\n",
    "ecl:grn pid:012533040 byr:1946\n",
    "\n",
    "hcl:dab227 iyr:2012\n",
    "ecl:brn hgt:182cm pid:021572410 eyr:2020 byr:1992 cid:277\n",
    "\n",
    "hgt:59cm ecl:zzz\n",
    "eyr:2038 hcl:74454a iyr:2023\n",
    "pid:3556412378 byr:2007\"\"\".split('\\n\\n')"
   ]
  },
  {
   "cell_type": "code",
   "execution_count": null,
   "id": "567a6468-eb4e-4d65-b2b7-a73e3d5f23e0",
   "metadata": {},
   "outputs": [],
   "source": [
    "test"
   ]
  },
  {
   "cell_type": "code",
   "execution_count": null,
   "id": "d39c05f7-d8f3-48e0-a366-efe7a7079412",
   "metadata": {},
   "outputs": [],
   "source": [
    "required_keys = {'byr', 'iyr', \n",
    "'eyr' ,\n",
    "'hgt' ,\n",
    "'hcl' ,'ecl', \n",
    "'pid' ,\n",
    "}"
   ]
  },
  {
   "cell_type": "code",
   "execution_count": null,
   "id": "ec1ec711-22f3-4090-ade8-60fe45437471",
   "metadata": {},
   "outputs": [],
   "source": [
    "required_keys"
   ]
  },
  {
   "cell_type": "code",
   "execution_count": null,
   "id": "aa1f9621-7645-44ea-ae4e-029b2b779be4",
   "metadata": {},
   "outputs": [],
   "source": [
    "def validate_all_passport_fields(passport):\n",
    "    \n",
    "    items = passport.replace(' ', '\\n').splitlines()\n",
    "    \n",
    "    document = dict()\n",
    "    \n",
    "    for item in items:\n",
    "    \n",
    "        key, value = item.split(':')\n",
    "        \n",
    "        document[key] = value\n",
    "    \n",
    "    if set(document.keys()).intersection(required_keys) == required_keys:\n",
    "        \n",
    "        return document\n",
    "    \n",
    "    \n",
    "def valid_between(value, low, high):\n",
    "    \n",
    "    value = int(value)\n",
    "    \n",
    "    return low <= value <= high\n",
    "\n",
    "\n",
    "def valid_height(value):\n",
    "\n",
    "    if re.search('\\d*in', value) is not None:\n",
    "        \n",
    "        return valid_between(value[:-2], 59, 76)\n",
    "    \n",
    "    elif re.search('\\d*cm', value) is not None:\n",
    "        \n",
    "        return valid_between(value[:-2], 150, 193)\n",
    "        \n",
    "    else:\n",
    "        return False\n",
    "\n",
    "def valid_hair(value):\n",
    "\n",
    "    return re.search('#[0-9a-f]{6}', value) is not None\n",
    "\n",
    "def valid_eye(value):\n",
    "\n",
    "    return value in {'amb', 'blu', 'brn', 'gry', 'grn', 'hzl', 'oth'}\n",
    "\n",
    "def valid_passport_number(value):\n",
    "    \n",
    "    return re.search('^\\d{9}$', value) is not None\n",
    "\n",
    "    \n",
    "def validate_passport(passport):\n",
    "    \n",
    "    document = validate_all_passport_fields(passport)\n",
    "    \n",
    "    if document:\n",
    "        \n",
    "        return all([\n",
    "            valid_between(document['byr'], 1920, 2002),\n",
    "            valid_between(document['iyr'], 2010, 2020),\n",
    "            valid_between(document['eyr'], 2020, 2030),\n",
    "            valid_height(document['hgt']),\n",
    "            valid_hair(document['hcl']), \n",
    "            valid_eye(document['ecl']), \n",
    "            valid_passport_number(document['pid'])])\n",
    "    else:\n",
    "        return False\n",
    "            \n",
    "        "
   ]
  },
  {
   "cell_type": "code",
   "execution_count": null,
   "id": "51eab265-d4a0-4b31-8f06-3b78f1f75788",
   "metadata": {},
   "outputs": [],
   "source": [
    "sum(map(lambda x: x is not None , map(validate_all_passport_fields, passports)))"
   ]
  },
  {
   "cell_type": "code",
   "execution_count": null,
   "id": "d9831461-48b8-4e66-a195-37d0ebd9a778",
   "metadata": {},
   "outputs": [],
   "source": [
    "sum(map(validate_passport, passports))"
   ]
  },
  {
   "cell_type": "markdown",
   "id": "850fc113-554c-488c-a090-8dc62ce33be6",
   "metadata": {
    "jp-MarkdownHeadingCollapsed": true,
    "tags": []
   },
   "source": [
    "# Day 5"
   ]
  },
  {
   "cell_type": "code",
   "execution_count": null,
   "id": "5af46392-010d-408d-ab91-2b81bac852c7",
   "metadata": {},
   "outputs": [],
   "source": [
    "raw_data = aoc.get_data(2020, 5)"
   ]
  },
  {
   "cell_type": "code",
   "execution_count": null,
   "id": "3d10060c-7005-45a2-9e7a-fd8e05e8dd1b",
   "metadata": {},
   "outputs": [],
   "source": [
    "data = raw_data.splitlines()"
   ]
  },
  {
   "cell_type": "code",
   "execution_count": null,
   "id": "5517ac2a-985e-41d0-b98b-4e8e913bbe7a",
   "metadata": {},
   "outputs": [],
   "source": [
    "def search(string, array, low):\n",
    "    \n",
    "    array_length = len(array)\n",
    "    \n",
    "    if array_length == 1:\n",
    "        return array[0]\n",
    "    \n",
    "    comparitor = [*string].pop(0)\n",
    "    \n",
    "    if comparitor == low:\n",
    "        \n",
    "        return search(string[1:], array[: array_length//2], low)\n",
    "    else:\n",
    "        \n",
    "        return search(string[1:], array[array_length//2:], low)"
   ]
  },
  {
   "cell_type": "code",
   "execution_count": null,
   "id": "73ab4da7-b0e9-409b-8711-d81f87983c95",
   "metadata": {},
   "outputs": [],
   "source": [
    "def get_seat(code):\n",
    "    \n",
    "    row_code = code[:-3]\n",
    "    col_code = code[-3:]\n",
    "    \n",
    "    row = search(row_code, list(range(128)), 'F')\n",
    "    col = search(col_code, list(range(8)), 'L')\n",
    "    \n",
    "    return row * 8 + col\n",
    "    "
   ]
  },
  {
   "cell_type": "code",
   "execution_count": null,
   "id": "d6b890a9-15f9-42ef-b0ea-61e7f68f1d95",
   "metadata": {},
   "outputs": [],
   "source": [
    "seats = set(map(get_seat, data))"
   ]
  },
  {
   "cell_type": "code",
   "execution_count": null,
   "id": "ea7c9d27-1939-4cef-a6eb-2bcbaaf1558c",
   "metadata": {},
   "outputs": [],
   "source": [
    "max(seats)"
   ]
  },
  {
   "cell_type": "code",
   "execution_count": null,
   "id": "dd36f5dd-7176-47b7-ae29-176c29ed3fa6",
   "metadata": {},
   "outputs": [],
   "source": [
    "all_seats = set(range(min(seats), max(seats)))"
   ]
  },
  {
   "cell_type": "code",
   "execution_count": null,
   "id": "af1036cb-ceb5-4983-af7f-a39927420d96",
   "metadata": {},
   "outputs": [],
   "source": [
    "all_seats.difference(seats)"
   ]
  },
  {
   "cell_type": "markdown",
   "id": "4c191c91-3549-42ca-bf66-c1137e140220",
   "metadata": {
    "jp-MarkdownHeadingCollapsed": true,
    "tags": []
   },
   "source": [
    "# Day 6 "
   ]
  },
  {
   "cell_type": "code",
   "execution_count": null,
   "id": "d0d2effc-97c6-4f2e-ab71-4bd692c705d9",
   "metadata": {},
   "outputs": [],
   "source": [
    "raw_data = aoc.get_data(2020, 6)"
   ]
  },
  {
   "cell_type": "code",
   "execution_count": null,
   "id": "016d1140-23f1-4a1d-a5e6-8d9fe98690e5",
   "metadata": {},
   "outputs": [],
   "source": [
    "data = raw_data.split('\\n\\n')"
   ]
  },
  {
   "cell_type": "code",
   "execution_count": null,
   "id": "7e2dfaf9-7ec1-43fc-837d-890b19d1eb1b",
   "metadata": {},
   "outputs": [],
   "source": [
    "def count_unique_questions(group):\n",
    "    \n",
    "    return len(set(group.replace('\\n', '')))"
   ]
  },
  {
   "cell_type": "code",
   "execution_count": null,
   "id": "7d484a93-9885-4fb3-8c5e-f5f82cfee196",
   "metadata": {},
   "outputs": [],
   "source": [
    "sum(map(count_unique_questions, data))"
   ]
  },
  {
   "cell_type": "code",
   "execution_count": null,
   "id": "7e9156a8-1592-4f73-b904-1306b9949dd6",
   "metadata": {},
   "outputs": [],
   "source": [
    "def count_common_questions(group):\n",
    "    \n",
    "    people = [set(x) for x in group.splitlines()]\n",
    "    \n",
    "    return len(reduce(lambda a,b: a.intersection(b) , people))"
   ]
  },
  {
   "cell_type": "code",
   "execution_count": null,
   "id": "35e6ffba-031b-4aa0-aabb-049f6883f9e7",
   "metadata": {},
   "outputs": [],
   "source": [
    "sum(map(count_common_questions, data))"
   ]
  },
  {
   "cell_type": "markdown",
   "id": "005d5664-65b6-4c9f-bef9-b6f5a6c8b5e8",
   "metadata": {
    "jp-MarkdownHeadingCollapsed": true,
    "tags": []
   },
   "source": [
    "# Day 7"
   ]
  },
  {
   "cell_type": "code",
   "execution_count": null,
   "id": "585f6fde-dce3-431e-92e3-dba8933bf9d9",
   "metadata": {},
   "outputs": [],
   "source": [
    "raw_data = aoc.get_data(2020,7)"
   ]
  },
  {
   "cell_type": "code",
   "execution_count": null,
   "id": "bbfe514f-1e6f-4b93-907f-242dd8b4833f",
   "metadata": {},
   "outputs": [],
   "source": [
    "data = raw_data.splitlines()"
   ]
  },
  {
   "cell_type": "code",
   "execution_count": null,
   "id": "8e48448a-beeb-4b11-99f6-ce7022dfac8b",
   "metadata": {},
   "outputs": [],
   "source": [
    "def make_bag_dict(bag_rules):\n",
    "    \n",
    "    bags = dict()\n",
    "    \n",
    "    for rule in bag_rules:\n",
    "        \n",
    "        color, contents = rule.replace('.', '').split(' bags contain ')\n",
    "    \n",
    "        contents = contents.split(', ')\n",
    "        \n",
    "        parsed_contents = list()\n",
    "        \n",
    "        for content in contents:\n",
    "        \n",
    "            content = re.search('\\d+\\s(.*)\\sbags?', content)\n",
    "            \n",
    "            if content is None:\n",
    "                \n",
    "                bags[color] = None\n",
    "            \n",
    "            else:\n",
    "                parsed_contents.append(content.group(1))\n",
    "        \n",
    "        bags[color] = parsed_contents\n",
    "        \n",
    "    return bags\n"
   ]
  },
  {
   "cell_type": "code",
   "execution_count": null,
   "id": "17eae701-3b52-4f28-907a-43ebfa759216",
   "metadata": {},
   "outputs": [],
   "source": [
    "test = \"\"\"light red bags contain 1 bright white bag, 2 muted yellow bags.\n",
    "dark orange bags contain 3 bright white bags, 4 muted yellow bags.\n",
    "bright white bags contain 1 shiny gold bag.\n",
    "muted yellow bags contain 2 shiny gold bags, 9 faded blue bags.\n",
    "shiny gold bags contain 1 dark olive bag, 2 vibrant plum bags.\n",
    "dark olive bags contain 3 faded blue bags, 4 dotted black bags.\n",
    "vibrant plum bags contain 5 faded blue bags, 6 dotted black bags.\n",
    "faded blue bags contain no other bags.\n",
    "dotted black bags contain no other bags.\"\"\""
   ]
  },
  {
   "cell_type": "code",
   "execution_count": null,
   "id": "e93ce575-769d-4b92-9b34-ffe89a1516dc",
   "metadata": {},
   "outputs": [],
   "source": [
    "rules = make_bag_dict(data)\n",
    "len(rules.keys())"
   ]
  },
  {
   "cell_type": "code",
   "execution_count": null,
   "id": "563eed59-001d-4243-9e3f-013654924ae6",
   "metadata": {},
   "outputs": [],
   "source": [
    "target = 'shiny gold'"
   ]
  },
  {
   "cell_type": "code",
   "execution_count": null,
   "id": "4b79eb6f-521e-4ccc-a524-2a611d974cd3",
   "metadata": {},
   "outputs": [],
   "source": [
    "rules"
   ]
  },
  {
   "cell_type": "code",
   "execution_count": null,
   "id": "84981621-f4db-462f-9a85-82eeb1d318ad",
   "metadata": {},
   "outputs": [],
   "source": [
    "def find_target_bag(bag, target):\n",
    "    \n",
    "    contents = rules[bag]\n",
    "    \n",
    "    if type(contents) == bool:\n",
    "        return contents\n",
    "    \n",
    "    if target in contents:\n",
    "        \n",
    "        rules[bag] = True\n",
    "        \n",
    "        return True\n",
    "    else:\n",
    "        rules[bag] = any([find_target_bag(x, target) for x in contents])\n",
    "    "
   ]
  },
  {
   "cell_type": "code",
   "execution_count": null,
   "id": "7bb711d6-dbaf-4b48-ab02-cbd4090361e1",
   "metadata": {},
   "outputs": [],
   "source": [
    "for bag in rules.keys():\n",
    "    find_target_bag(bag, target)"
   ]
  },
  {
   "cell_type": "code",
   "execution_count": null,
   "id": "42bb6290-8df8-4dd1-a2d6-e840b8187b86",
   "metadata": {},
   "outputs": [],
   "source": [
    "sum(rules.values())"
   ]
  },
  {
   "cell_type": "code",
   "execution_count": null,
   "id": "2c2d8349-9fa0-4b8d-8a14-3fd086a321b9",
   "metadata": {},
   "outputs": [],
   "source": [
    "def construct_rule_network(rules):\n",
    "    \n",
    "    graph = nx.DiGraph()\n",
    "    \n",
    "    for rule in rules:\n",
    "        \n",
    "        color, contents = rule.replace('.', '').split(' bags contain ')\n",
    "        \n",
    "        color = re.findall('^(.*?)\\sbags?', rule)\n",
    "        \n",
    "        contents = re.findall('\\d+\\s(.*?)\\sbags?', rule)\n",
    "    \n",
    "        if contents:\n",
    "            \n",
    "            graph.add_edges_from(zip(color*len(contents), contents))\n",
    "        \n",
    "        \n",
    "    return graph\n",
    "    "
   ]
  },
  {
   "cell_type": "code",
   "execution_count": null,
   "id": "86c2d79f-51b4-4c69-b39e-92032f3b3915",
   "metadata": {},
   "outputs": [],
   "source": [
    "graph = construct_rule_network(data)"
   ]
  },
  {
   "cell_type": "code",
   "execution_count": null,
   "id": "99ef749c-4ad2-4ae1-bc70-99da6da78ce7",
   "metadata": {},
   "outputs": [],
   "source": [
    "pos = nx.nx_agraph.pygraphviz_layout(graph, prog='dot')\n",
    "\n",
    "fig, ax = plt.subplots(figsize=(16,9))\n",
    "nx.draw_networkx(graph, pos, ax=ax)"
   ]
  },
  {
   "cell_type": "code",
   "execution_count": null,
   "id": "7f276f05-e8bb-4a10-87b4-bc3a8d70c663",
   "metadata": {},
   "outputs": [],
   "source": [
    "sum(map(lambda x: nx.has_path(graph, x, target) if x != target else False, list(graph.nodes)))"
   ]
  },
  {
   "cell_type": "code",
   "execution_count": null,
   "id": "7bda8ff2-ba2c-4cfd-8df7-8061123eea5f",
   "metadata": {},
   "outputs": [],
   "source": [
    "def construct_weighted_rule_network(rules):\n",
    "    \n",
    "    g = nx.DiGraph()\n",
    "    \n",
    "    for rule in rules:\n",
    "        \n",
    "        color, contents = rule.replace('.', '').split(' bags contain ')\n",
    "        \n",
    "        color = re.findall('^(.*?)\\sbags?', rule)\n",
    "        \n",
    "        contents = re.findall('\\d+\\s(.*?)\\sbags?', rule)\n",
    "        \n",
    "        number = map(int, re.findall('(\\d+)\\s.*?\\sbags?', rule))\n",
    "    \n",
    "        if contents:\n",
    "            \n",
    "            g.add_weighted_edges_from(zip(color*len(contents), contents, number))\n",
    "        \n",
    "        \n",
    "    return g"
   ]
  },
  {
   "cell_type": "code",
   "execution_count": null,
   "id": "73e02aee-f0e1-4dfd-a234-5a585f48246d",
   "metadata": {},
   "outputs": [],
   "source": [
    "graph = construct_weighted_rule_network(data)"
   ]
  },
  {
   "cell_type": "code",
   "execution_count": null,
   "id": "efdd9882-7342-4b9d-a256-c7dae0d2246f",
   "metadata": {},
   "outputs": [],
   "source": [
    "decendents = nx.descendants(graph, target)\n",
    "\n",
    "decendents.add(target)\n",
    "\n",
    "sub_graph = graph.subgraph(decendents)"
   ]
  },
  {
   "cell_type": "code",
   "execution_count": null,
   "id": "5936cc6f-377e-479d-b6d9-3fa233c1a25a",
   "metadata": {},
   "outputs": [],
   "source": [
    "pos = nx.nx_agraph.pygraphviz_layout(sub_graph, prog='dot')\n",
    "\n",
    "fig, ax = plt.subplots(figsize=(16,9))\n",
    "nx.draw_networkx(sub_graph, pos, ax=ax)"
   ]
  },
  {
   "cell_type": "code",
   "execution_count": null,
   "id": "03e3649d-0506-462b-837a-7f8daab05806",
   "metadata": {},
   "outputs": [],
   "source": [
    "def count_bag_contents(start):\n",
    "    \n",
    "    \n",
    "    decendants = nx.descendants_at_distance(sub_graph, start, 1)\n",
    "    \n",
    "    if not decendants:\n",
    "        return 1\n",
    "    \n",
    "    return sum(count_bag_contents(decendant) * sub_graph[start][decendant]['weight'] for decendant in decendants) + 1\n",
    "        \n",
    "    \n",
    "    \n",
    "    "
   ]
  },
  {
   "cell_type": "code",
   "execution_count": null,
   "id": "19005f8d-045c-4fd4-b85b-0d896fbf3654",
   "metadata": {},
   "outputs": [],
   "source": [
    "count_bag_contents('shiny gold') - 1"
   ]
  },
  {
   "cell_type": "markdown",
   "id": "fc640482-5698-4b2b-92d5-2ed866f37ee7",
   "metadata": {
    "jp-MarkdownHeadingCollapsed": true,
    "tags": []
   },
   "source": [
    "# Day 8"
   ]
  },
  {
   "cell_type": "code",
   "execution_count": null,
   "id": "c3f183d7-d9f4-4af3-b036-791348ab7f04",
   "metadata": {},
   "outputs": [],
   "source": [
    "raw_data = aoc.get_data(2020,8)"
   ]
  },
  {
   "cell_type": "code",
   "execution_count": null,
   "id": "7cd2a31d-8641-4aa9-b88f-e2760e582cc5",
   "metadata": {},
   "outputs": [],
   "source": [
    "data = raw_data.splitlines()"
   ]
  },
  {
   "cell_type": "code",
   "execution_count": null,
   "id": "164b6baa-02c0-4d4a-a72f-67443804a186",
   "metadata": {},
   "outputs": [],
   "source": [
    "class Console:\n",
    "    \n",
    "    \n",
    "    def __init__(self):\n",
    "        \n",
    "        self.accumulator = 0\n",
    "        self.pointer = 0\n",
    "        self.instructions = set()\n",
    "        self.data = None\n",
    "        \n",
    "        \n",
    "    def run(self, data):\n",
    "    \n",
    "        self.accumulator = 0\n",
    "        self.pointer = 0\n",
    "        self.instructions = set()\n",
    "        self.data = data\n",
    "        \n",
    "        while self.pointer not in self.instructions:\n",
    "            \n",
    "            self.next_instruction()\n",
    "            \n",
    "        return self.accumulator\n",
    "    \n",
    "    \n",
    "    \n",
    "    def next_instruction(self):\n",
    "        \n",
    "        self.instructions.add(self.pointer)\n",
    "        \n",
    "        instruction, value = self.data[self.pointer].split(' ')\n",
    "        \n",
    "        match instruction:\n",
    "            \n",
    "            case 'nop':\n",
    "                \n",
    "                self.pointer += 1\n",
    "                \n",
    "            case 'acc':\n",
    "                self.accumulator += int(value)\n",
    "                self.pointer += 1\n",
    "                \n",
    "            case 'jmp':\n",
    "                self.pointer += int(value)\n",
    "        "
   ]
  },
  {
   "cell_type": "code",
   "execution_count": null,
   "id": "fe08faff-2799-48b2-8749-75016d37dfb7",
   "metadata": {},
   "outputs": [],
   "source": [
    "console = Console()"
   ]
  },
  {
   "cell_type": "code",
   "execution_count": null,
   "id": "cffb04f2-a23c-4efd-ae62-7f80d7be05a1",
   "metadata": {},
   "outputs": [],
   "source": [
    "console.run(data)"
   ]
  },
  {
   "cell_type": "code",
   "execution_count": null,
   "id": "1b6ba824-9753-4247-808b-8c27dafe6a41",
   "metadata": {},
   "outputs": [],
   "source": [
    "def make_new_tape(tape):\n",
    "    \n",
    "    for i in range(len(tape)):\n",
    "                       \n",
    "        verb = tape[i]\n",
    "        new_tape = tape.copy()\n",
    "        \n",
    "        \n",
    "        if 'nop' in verb:\n",
    "        \n",
    "            new_tape[i] = verb.replace('nop', 'jmp')\n",
    "            \n",
    "            \n",
    "            \n",
    "        elif 'jmp' in verb:\n",
    "            \n",
    "            new_tape[i] = verb.replace('jmp', 'nop')\n",
    "            \n",
    "                      \n",
    "        yield new_tape.copy()\n",
    "    "
   ]
  },
  {
   "cell_type": "code",
   "execution_count": null,
   "id": "632d7a05-5025-4595-b66f-933124a6d79d",
   "metadata": {},
   "outputs": [],
   "source": [
    "a = make_new_tape(data)"
   ]
  },
  {
   "cell_type": "code",
   "execution_count": null,
   "id": "d7f1bdec-1a20-480d-8953-7a630657e391",
   "metadata": {},
   "outputs": [],
   "source": [
    "for tape in make_new_tape(data):\n",
    "    \n",
    "    try:\n",
    "        console.run(tape)\n",
    "    except IndexError:\n",
    "        print(console.accumulator)"
   ]
  },
  {
   "cell_type": "markdown",
   "id": "4721d91b-b8ff-4ca7-bc7c-cb66233652c9",
   "metadata": {
    "jp-MarkdownHeadingCollapsed": true,
    "tags": []
   },
   "source": [
    "# Day 9"
   ]
  },
  {
   "cell_type": "code",
   "execution_count": null,
   "id": "37d545ed-0eca-4d80-8d94-8eca01b66785",
   "metadata": {},
   "outputs": [],
   "source": [
    "raw_data = aoc.get_data(2020,9)"
   ]
  },
  {
   "cell_type": "code",
   "execution_count": null,
   "id": "7ab39c91-ebdf-4125-b46b-fe4b1cfab99b",
   "metadata": {},
   "outputs": [],
   "source": [
    "data = list(map(int, raw_data.splitlines()))"
   ]
  },
  {
   "cell_type": "code",
   "execution_count": null,
   "id": "ec6aeb76-63fa-42d7-876d-047b03a74123",
   "metadata": {},
   "outputs": [],
   "source": [
    "list(map(sum, itertools.permutations(data[0:25],2)))"
   ]
  },
  {
   "cell_type": "code",
   "execution_count": null,
   "id": "fa0f0ef2-ee20-4574-aad8-94517b9ef6cd",
   "metadata": {},
   "outputs": [],
   "source": [
    "def find_invalid_number(data):\n",
    "    \n",
    "    preamble = data[0:25]\n",
    "    \n",
    "    check_values = data[25:]\n",
    "    \n",
    "    \n",
    "    for value in check_values:\n",
    "        \n",
    "        if value not in list(map(sum, itertools.permutations(preamble,2))):\n",
    "        \n",
    "            return value\n",
    "        \n",
    "        preamble.pop(0)\n",
    "        preamble.append(value)\n",
    "        "
   ]
  },
  {
   "cell_type": "code",
   "execution_count": null,
   "id": "72a78746-ffc0-4921-9ea9-7d94487dcc44",
   "metadata": {},
   "outputs": [],
   "source": [
    "find_invalid_number(data)"
   ]
  },
  {
   "cell_type": "code",
   "execution_count": null,
   "id": "5c429176-8410-4f63-b568-5366dd1d3847",
   "metadata": {},
   "outputs": [],
   "source": [
    "def find_invalid_number_with_preamble(data):\n",
    "    \n",
    "    preamble = data[0:25]\n",
    "    \n",
    "    check_values = data[25:]\n",
    "    \n",
    "    \n",
    "    for value in check_values:\n",
    "        \n",
    "        if value not in list(map(sum, itertools.permutations(preamble,2))):\n",
    "        \n",
    "            return value, preamble\n",
    "        \n",
    "        preamble.pop(0)\n",
    "        preamble.append(value)"
   ]
  },
  {
   "cell_type": "code",
   "execution_count": null,
   "id": "38e8434d-1946-41d7-8cb3-b0ae5533068c",
   "metadata": {},
   "outputs": [],
   "source": [
    "value, preamble = find_invalid_number_with_preamble(data)"
   ]
  },
  {
   "cell_type": "code",
   "execution_count": null,
   "id": "49e7473c-4669-420d-b966-3100e1184177",
   "metadata": {},
   "outputs": [],
   "source": [
    "def sliding_window(data, window_size):\n",
    "    \n",
    "    \n",
    "    for i in range(len(data) - window_size + 1):\n",
    "        \n",
    "        yield data[i:i+window_size]"
   ]
  },
  {
   "cell_type": "code",
   "execution_count": null,
   "id": "3f282083-2367-4bd7-bc0a-0d63fffd1933",
   "metadata": {},
   "outputs": [],
   "source": [
    "list(sliding_window(preamble, 3))"
   ]
  },
  {
   "cell_type": "code",
   "execution_count": null,
   "id": "44dfcdf9-60b2-4c8d-aa19-25516503b11c",
   "metadata": {},
   "outputs": [],
   "source": [
    "def find_values_in_preamble(value, preamble):\n",
    "    \n",
    "    for window_size in range(3, len(preamble)+1):\n",
    "                        \n",
    "        for window in sliding_window(preamble, window_size):\n",
    "            \n",
    "            print(sum(window))\n",
    "            \n",
    "            if sum(window) == value:\n",
    "                \n",
    "                return min(window) + max(window)\n",
    "    "
   ]
  },
  {
   "cell_type": "code",
   "execution_count": null,
   "id": "8281a659-d877-4ce4-9cfc-9f4b38234878",
   "metadata": {},
   "outputs": [],
   "source": [
    "find_values_in_preamble(value, preamble)"
   ]
  },
  {
   "cell_type": "markdown",
   "id": "f55fea85-99e2-4408-89a4-ea723ece197f",
   "metadata": {
    "jp-MarkdownHeadingCollapsed": true,
    "tags": []
   },
   "source": [
    "# Day 10"
   ]
  },
  {
   "cell_type": "code",
   "execution_count": null,
   "id": "81d75617-49fb-45b9-aa3e-8ecf517f784e",
   "metadata": {},
   "outputs": [],
   "source": []
  },
  {
   "cell_type": "code",
   "execution_count": null,
   "id": "737017a9-eb1f-46af-90b0-f732085a1088",
   "metadata": {},
   "outputs": [],
   "source": [
    "raw_data = aoc.get_data(2020, 10)"
   ]
  },
  {
   "cell_type": "code",
   "execution_count": null,
   "id": "eaa06f3c-ca7c-46b0-b9be-450302b4ca2f",
   "metadata": {},
   "outputs": [],
   "source": [
    "data = list(map(int, raw_data.splitlines()))"
   ]
  },
  {
   "cell_type": "code",
   "execution_count": null,
   "id": "8d228620-cfa7-4eab-bb82-ab823ea44fd9",
   "metadata": {},
   "outputs": [],
   "source": [
    "max(data)"
   ]
  },
  {
   "cell_type": "code",
   "execution_count": null,
   "id": "2f6339f2-bdd8-4f28-8cca-2d5ef791a840",
   "metadata": {},
   "outputs": [],
   "source": [
    "adaptor_joltage = max(data) + 3"
   ]
  },
  {
   "cell_type": "code",
   "execution_count": null,
   "id": "7d476ad7-9f6c-407e-a8cf-a7fd4caf081a",
   "metadata": {},
   "outputs": [],
   "source": [
    "joltages = [0] + sorted(data) + [adaptor_joltage]"
   ]
  },
  {
   "cell_type": "code",
   "execution_count": null,
   "id": "9ef1cd92-b96a-4b67-a9bd-d07b6b13cb7a",
   "metadata": {},
   "outputs": [],
   "source": [
    "joltages"
   ]
  },
  {
   "cell_type": "code",
   "execution_count": null,
   "id": "3de0f500-b03f-477d-be63-850be421913a",
   "metadata": {},
   "outputs": [],
   "source": [
    "def diff_1(value):\n",
    "    \n",
    "    return value[1] - value[0] == 1\n",
    "\n",
    "\n",
    "def diff_3(value):\n",
    "    \n",
    "    return value[1] - value[0] == 3\n"
   ]
  },
  {
   "cell_type": "code",
   "execution_count": null,
   "id": "0c7ab01f-ab37-4e8a-97da-0ae2ebf11601",
   "metadata": {},
   "outputs": [],
   "source": [
    "sum(map(diff_1, aoc.sliding_window(joltages, 2))) * sum(map(diff_3, aoc.sliding_window(joltages, 2)))"
   ]
  },
  {
   "cell_type": "code",
   "execution_count": null,
   "id": "9f18530c-4b30-4553-8c4a-374230d373bc",
   "metadata": {},
   "outputs": [],
   "source": [
    "sum(map(diff_1, aoc.sliding_window(joltages, 2)))"
   ]
  },
  {
   "cell_type": "markdown",
   "id": "ecf445b6-3e38-4da2-8560-a3a806f9f2a9",
   "metadata": {
    "jp-MarkdownHeadingCollapsed": true,
    "tags": []
   },
   "source": [
    "# Day 11"
   ]
  },
  {
   "cell_type": "code",
   "execution_count": null,
   "id": "c3d64e22-272b-45b2-9d5e-94638ddc1a55",
   "metadata": {},
   "outputs": [],
   "source": [
    "raw_data = aoc.get_data(2020, 11)"
   ]
  },
  {
   "cell_type": "code",
   "execution_count": null,
   "id": "727f8196-de62-4ffe-b3a9-c2eb97ca00af",
   "metadata": {},
   "outputs": [],
   "source": [
    "raw_data.splitlines()"
   ]
  },
  {
   "cell_type": "code",
   "execution_count": null,
   "id": "30694695-ada9-44d1-886e-dd54e110d92f",
   "metadata": {},
   "outputs": [],
   "source": [
    "data = np.array([[y for y in x ] for x in raw_data.splitlines()])"
   ]
  },
  {
   "cell_type": "code",
   "execution_count": null,
   "id": "8b962488-c004-49ed-971f-2616f0c13db2",
   "metadata": {},
   "outputs": [],
   "source": [
    "data"
   ]
  },
  {
   "cell_type": "code",
   "execution_count": null,
   "id": "592ea4d7-6ea5-4ba0-bd66-fd168f40ad21",
   "metadata": {},
   "outputs": [],
   "source": [
    "def fill_seat_rule(seat):\n",
    "    \n",
    "    # seat will be filled if it is empty already and no neigbhors\n",
    "    \n",
    "    return '#' not in seat and seat[1,1] != '.'"
   ]
  },
  {
   "cell_type": "code",
   "execution_count": null,
   "id": "1ebdcd7b-fc42-4916-970c-c023459a5716",
   "metadata": {},
   "outputs": [],
   "source": [
    "def vacate_seat_rule(seat):\n",
    "\n",
    "    filled = seat[1,1] == '#'\n",
    "    \n",
    "    surrounding = (seat == \"#\").sum() > 4\n",
    "\n",
    "    return filled and surrounding\n",
    "    \n",
    "    "
   ]
  },
  {
   "cell_type": "code",
   "execution_count": null,
   "id": "601b6cf8-cbc3-4523-9327-644a9686e05a",
   "metadata": {},
   "outputs": [],
   "source": [
    "def get_seat(seats, row, col):\n",
    "    \n",
    "    return seats[row - 1: row+2, col-1:col+2]"
   ]
  },
  {
   "cell_type": "code",
   "execution_count": null,
   "id": "f76ed4e9-acaf-4b6d-97f0-34529ee1474d",
   "metadata": {},
   "outputs": [],
   "source": [
    "def next_turn(seats_grid):\n",
    "    \n",
    "    pad = np.pad(seats_grid, 1, constant_values='.')\n",
    "    \n",
    "    update = seats_grid.copy()\n",
    "    \n",
    "    for row in range(seats.shape[0]):\n",
    "        \n",
    "        for col in range(seats.shape[1]):\n",
    "            \n",
    "            seat = get_seat(pad, row+1, col+1)\n",
    "\n",
    "            \n",
    "            if fill_seat_rule(seat):\n",
    "                \n",
    "                update[row, col] = '#'\n",
    "    \n",
    "            elif vacate_seat_rule(seat):\n",
    "                update[row, col] = 'L'\n",
    "                \n",
    "                \n",
    "    return update"
   ]
  },
  {
   "cell_type": "code",
   "execution_count": null,
   "id": "3a0f5698-e413-4eaa-9e89-daa35587e666",
   "metadata": {},
   "outputs": [],
   "source": [
    "first = data\n",
    "second = next_turn(data)\n",
    "\n",
    "\n",
    "while not np.array_equal(first, second):\n",
    "    \n",
    "    first, second = second, next_turn(second) \n",
    "    "
   ]
  },
  {
   "cell_type": "code",
   "execution_count": null,
   "id": "ccd8c75f-583d-4e58-afa4-fded4ac76ddb",
   "metadata": {},
   "outputs": [],
   "source": [
    "(first == '#').sum()"
   ]
  },
  {
   "cell_type": "code",
   "execution_count": null,
   "id": "bcc762fc-a91b-4dbe-b147-716e997288bd",
   "metadata": {},
   "outputs": [],
   "source": [
    "(test == \"#\").sum() > 4"
   ]
  },
  {
   "cell_type": "code",
   "execution_count": null,
   "id": "99f3e5eb-2a87-454e-bedf-d4481477bcdc",
   "metadata": {},
   "outputs": [],
   "source": [
    "test"
   ]
  },
  {
   "cell_type": "code",
   "execution_count": null,
   "id": "04c3ffaa-477e-432a-b4ec-4723d506fe87",
   "metadata": {},
   "outputs": [],
   "source": [
    "def get_raycast_seat(seats, row, col):\n",
    "    \n",
    "    \n",
    "    "
   ]
  },
  {
   "cell_type": "markdown",
   "id": "2e69f75e-0499-41c1-8ec0-90954a36a7e5",
   "metadata": {},
   "source": [
    "# Day 12"
   ]
  },
  {
   "cell_type": "code",
   "execution_count": null,
   "id": "8b6f25df-ad25-49f1-a93d-4c100bd8f015",
   "metadata": {},
   "outputs": [],
   "source": [
    "raw_data = aoc.get_data(2020, 12)"
   ]
  },
  {
   "cell_type": "code",
   "execution_count": null,
   "id": "48f1ce6f-42db-4c97-b1d7-44c67c7332b8",
   "metadata": {},
   "outputs": [],
   "source": [
    "data = data.splitlines()"
   ]
  },
  {
   "cell_type": "code",
   "execution_count": 26,
   "id": "8f79e377-d36e-40ed-96bb-259fc174c594",
   "metadata": {},
   "outputs": [],
   "source": [
    "class Boat:\n",
    "    \n",
    "    def __init__(self):\n",
    "        \n",
    "        self.ew = 0\n",
    "        self.ns = 0\n",
    "        self.heading = 90\n",
    "        \n",
    "    \n",
    "    def process_instructions(self, instructions):\n",
    "        \n",
    "        self.__init__()\n",
    "        \n",
    "        for instruction in instructions:\n",
    "            \n",
    "            self.process_instruction(instruction)\n",
    "            \n",
    "        print(abs(self.ew) + abs(self.ns))\n",
    "        \n",
    "    def process_instruction(self, instruction):\n",
    "        \n",
    "        preamble = instruction[0]\n",
    "        \n",
    "        action = int(instruction[1:])\n",
    "        \n",
    "        if preamble == 'F':\n",
    "            \n",
    "            heading = self.heading % 360\n",
    "        \n",
    "            if heading == 90:\n",
    "                \n",
    "                preamble = 'E'\n",
    "                \n",
    "            elif heading == 0:\n",
    "                \n",
    "                preamble = 'N'\n",
    "                \n",
    "            elif heading == 270:\n",
    "                \n",
    "                preamble = 'W'\n",
    "                \n",
    "            else:\n",
    "                \n",
    "                preamble = 'S'\n",
    "        \n",
    "        \n",
    "        match preamble:\n",
    "            \n",
    "            case 'N':\n",
    "                self.ns += action\n",
    "                \n",
    "            case 'S':\n",
    "                self.ns -= action\n",
    "                \n",
    "            case 'E':\n",
    "                self.ew += action\n",
    "                \n",
    "            case 'W':\n",
    "                self.ew -= action\n",
    "                \n",
    "            case \"R\":\n",
    "                self.heading += action\n",
    "                \n",
    "            case \"L\":\n",
    "                self.heading -= action\n",
    "                \n",
    "                \n",
    "                \n",
    "    "
   ]
  },
  {
   "cell_type": "code",
   "execution_count": 27,
   "id": "9c24a47e-e09d-4533-9020-15e7ff9543d1",
   "metadata": {},
   "outputs": [],
   "source": [
    "boat = Boat()"
   ]
  },
  {
   "cell_type": "code",
   "execution_count": 28,
   "id": "a8044206-e915-452b-b4ea-238173f925a4",
   "metadata": {},
   "outputs": [
    {
     "name": "stdout",
     "output_type": "stream",
     "text": [
      "845\n"
     ]
    }
   ],
   "source": [
    "boat.process_instructions(data)"
   ]
  },
  {
   "cell_type": "code",
   "execution_count": 30,
   "id": "963607b0-fdf3-4e07-a8f3-e41b15ec9a41",
   "metadata": {},
   "outputs": [
    {
     "data": {
      "text/plain": [
       "array([2, 0])"
      ]
     },
     "execution_count": 30,
     "metadata": {},
     "output_type": "execute_result"
    }
   ],
   "source": [
    "np.array([1,0]) * 2"
   ]
  },
  {
   "cell_type": "code",
   "execution_count": 122,
   "id": "b2fc15d2-dba2-45b7-8ef2-96bc19a052de",
   "metadata": {},
   "outputs": [],
   "source": [
    "class Boat:\n",
    "    \n",
    "    def __init__(self):\n",
    "        \n",
    "        self.position = np.array([0,0], dtype=float)\n",
    "        self.waypoint = np.array([10, 1], dtype=float)\n",
    "        \n",
    "    \n",
    "    def process_instructions(self, instructions, debug=False):\n",
    "        \n",
    "        self.__init__()\n",
    "        \n",
    "        self.debug = debug\n",
    "        \n",
    "        for instruction in instructions:\n",
    "            \n",
    "            self.process_instruction(instruction, debug)\n",
    "            \n",
    "        print(np.abs(self.position).sum())\n",
    "        \n",
    "    def process_instruction(self, instruction, debug):\n",
    "        \n",
    "        preamble = instruction[0]\n",
    "        \n",
    "        action = int(instruction[1:])\n",
    "        \n",
    "        match preamble:\n",
    "            \n",
    "            case 'N':\n",
    "                self.waypoint += np.array([0,1], dtype=float) * action\n",
    "                \n",
    "            case 'S':\n",
    "                self.waypoint += np.array([0, -1], dtype=float) * action\n",
    "                \n",
    "            case 'E':\n",
    "                self.waypoint += np.array([1,0],dtype=float) * action\n",
    "                \n",
    "            case 'W':\n",
    "                self.waypoint += np.array([-1, 0],dtype=float) * action\n",
    "                \n",
    "            case \"R\":\n",
    "                self.waypoint = self.rotate(action * -1.0, self.waypoint)\n",
    "                \n",
    "            case \"L\":\n",
    "                self.waypoint = self.rotate(action, self.waypoint)\n",
    "                \n",
    "            case \"F\":\n",
    "                self.position += self.waypoint * action\n",
    "        \n",
    "        if debug:        \n",
    "            print(self.position, self.waypoint, instruction)\n",
    "                \n",
    "    def rotate(self, angle, vector):\n",
    "        \n",
    "        theta = np.radians(angle)\n",
    "        c, s = np.cos(theta), np.sin(theta)\n",
    "        R = np.array(((c, -s), (s, c)))\n",
    "        \n",
    "        return np.dot(R, vector)\n",
    "        "
   ]
  },
  {
   "cell_type": "code",
   "execution_count": 123,
   "id": "5eabed3d-746c-45ea-a9e6-f519ea2dc13c",
   "metadata": {},
   "outputs": [],
   "source": [
    "boat = Boat()"
   ]
  },
  {
   "cell_type": "code",
   "execution_count": 124,
   "id": "d74b7bf4-89ab-40a0-913f-2fece32b7f00",
   "metadata": {},
   "outputs": [
    {
     "name": "stdout",
     "output_type": "stream",
     "text": [
      "[100.  10.] [10.  1.] F10\n",
      "[100.  10.] [10.  4.] N3\n",
      "[170.  38.] [10.  4.] F7\n",
      "[170.  38.] [  4. -10.] R90\n",
      "[214. -72.] [  4. -10.] F11\n",
      "286.0\n"
     ]
    }
   ],
   "source": [
    "boat.process_instructions(['F10', 'N3', 'F7', 'R90', 'F11'], True)"
   ]
  },
  {
   "cell_type": "code",
   "execution_count": 125,
   "id": "0aebd75a-d3a9-498a-a05a-dfb5f487af5a",
   "metadata": {},
   "outputs": [
    {
     "name": "stdout",
     "output_type": "stream",
     "text": [
      "27016.00000000003\n"
     ]
    }
   ],
   "source": [
    "boat.process_instructions(data)"
   ]
  }
 ],
 "metadata": {
  "kernelspec": {
   "display_name": "Python 3 (ipykernel)",
   "language": "python",
   "name": "python3"
  },
  "language_info": {
   "codemirror_mode": {
    "name": "ipython",
    "version": 3
   },
   "file_extension": ".py",
   "mimetype": "text/x-python",
   "name": "python",
   "nbconvert_exporter": "python",
   "pygments_lexer": "ipython3",
   "version": "3.10.11"
  }
 },
 "nbformat": 4,
 "nbformat_minor": 5
}
