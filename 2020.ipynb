{
 "cells": [
  {
   "cell_type": "code",
   "execution_count": 1,
   "id": "ae8cf12a-b348-4f78-ac55-6309151c7879",
   "metadata": {
    "ExecuteTime": {
     "end_time": "2023-12-15T14:34:10.139663Z",
     "start_time": "2023-12-15T14:34:09.730767Z"
    }
   },
   "outputs": [],
   "source": [
    "import aoc\n",
    "import numpy as np\n",
    "from scipy.ndimage import convolve\n",
    "import math\n",
    "import re\n",
    "import itertools\n",
    "from functools import reduce\n",
    "import networkx as nx\n",
    "import matplotlib.pyplot as plt"
   ]
  },
  {
   "cell_type": "markdown",
   "id": "bc596587-318a-4f7e-8d4a-fedc9c55f6ac",
   "metadata": {
    "jp-MarkdownHeadingCollapsed": true,
    "tags": []
   },
   "source": [
    "# Day 3"
   ]
  },
  {
   "cell_type": "code",
   "execution_count": null,
   "id": "4e3a217a-baf8-45c6-9993-9deea5fecc3e",
   "metadata": {},
   "outputs": [],
   "source": [
    "raw_data = aoc.get_data(2020, 3)"
   ]
  },
  {
   "cell_type": "code",
   "execution_count": null,
   "id": "1cb4e3b0-472d-411f-8db7-e12221e09afa",
   "metadata": {},
   "outputs": [],
   "source": [
    "data = raw_data.replace('.', '0').replace('#', '1').splitlines()"
   ]
  },
  {
   "cell_type": "code",
   "execution_count": null,
   "id": "4bd92b75-798f-495a-9daa-fd5fbb0a4ec2",
   "metadata": {},
   "outputs": [],
   "source": [
    "data"
   ]
  },
  {
   "cell_type": "code",
   "execution_count": null,
   "id": "8ff240a9-45dc-4540-8c4a-da4314130970",
   "metadata": {},
   "outputs": [],
   "source": [
    "patch = np.array([[int(y) for y in x] for x in data])"
   ]
  },
  {
   "cell_type": "code",
   "execution_count": null,
   "id": "8d78c0e5-ffb6-4ec4-8d55-9c0648db4486",
   "metadata": {},
   "outputs": [],
   "source": [
    "slope = (3, 1)"
   ]
  },
  {
   "cell_type": "code",
   "execution_count": null,
   "id": "01c7cc1f-e1d0-49bd-bbd5-bda2762abea1",
   "metadata": {},
   "outputs": [],
   "source": [
    "def make_forest(patch, slope):\n",
    "    \n",
    "    shape = patch.shape\n",
    "    \n",
    "    max_down = shape[0] * slope[1]\n",
    "    \n",
    "    max_right = max_down * slope[0]\n",
    "    \n",
    "    return np.concatenate([patch] * math.ceil(max_right / shape[1]), axis=1)"
   ]
  },
  {
   "cell_type": "code",
   "execution_count": null,
   "id": "d1e455a7-100d-4b73-b38c-8635641eaefd",
   "metadata": {},
   "outputs": [],
   "source": [
    "forest = make_forest(patch, (1, 3))"
   ]
  },
  {
   "cell_type": "code",
   "execution_count": null,
   "id": "345550e1-21d8-4a90-a0ed-ceebc3306a77",
   "metadata": {},
   "outputs": [],
   "source": [
    "forest.shape"
   ]
  },
  {
   "cell_type": "code",
   "execution_count": null,
   "id": "c9e1b2d8-d3e5-4c64-93fc-ea92c7aefd86",
   "metadata": {},
   "outputs": [],
   "source": [
    "def count_trees(forest, slope):\n",
    "    \n",
    "    x = 0\n",
    "    y = 0\n",
    "    \n",
    "    trees = []\n",
    "    \n",
    "    while True:\n",
    "        try: \n",
    "            x += slope[0]\n",
    "            y += slope[1]\n",
    "        \n",
    "            trees.append(forest[y, x])\n",
    "        except IndexError:\n",
    "            break\n",
    "    \n",
    "    return sum(trees)"
   ]
  },
  {
   "cell_type": "code",
   "execution_count": null,
   "id": "04e5cfef-30aa-4031-948b-16240b6b34e0",
   "metadata": {},
   "outputs": [],
   "source": [
    "count_trees(forest, slope)"
   ]
  },
  {
   "cell_type": "markdown",
   "id": "dbab44f5-d394-49bb-aca8-10e1862642bc",
   "metadata": {
    "jp-MarkdownHeadingCollapsed": true,
    "tags": []
   },
   "source": [
    "# Day 4"
   ]
  },
  {
   "cell_type": "code",
   "execution_count": null,
   "id": "a240a898-dbf7-4a0c-baad-69589c6b571e",
   "metadata": {},
   "outputs": [],
   "source": [
    "raw_data = aoc.get_data(2020, 4)"
   ]
  },
  {
   "cell_type": "code",
   "execution_count": null,
   "id": "ccd009cb-9655-4281-94a8-54b3d430cccd",
   "metadata": {},
   "outputs": [],
   "source": [
    "passports = raw_data.split('\\n\\n')"
   ]
  },
  {
   "cell_type": "code",
   "execution_count": null,
   "id": "80ae9d3b-2c74-4f67-9ddf-f00ed9a2f6fb",
   "metadata": {},
   "outputs": [],
   "source": [
    "test = \"\"\"eyr:1972 cid:100\n",
    "hcl:#18171d ecl:amb hgt:170 pid:186cm iyr:2018 byr:1926\n",
    "\n",
    "iyr:2019\n",
    "hcl:#602927 eyr:1967 hgt:170cm\n",
    "ecl:grn pid:012533040 byr:1946\n",
    "\n",
    "hcl:dab227 iyr:2012\n",
    "ecl:brn hgt:182cm pid:021572410 eyr:2020 byr:1992 cid:277\n",
    "\n",
    "hgt:59cm ecl:zzz\n",
    "eyr:2038 hcl:74454a iyr:2023\n",
    "pid:3556412378 byr:2007\"\"\".split('\\n\\n')"
   ]
  },
  {
   "cell_type": "code",
   "execution_count": null,
   "id": "567a6468-eb4e-4d65-b2b7-a73e3d5f23e0",
   "metadata": {},
   "outputs": [],
   "source": [
    "test"
   ]
  },
  {
   "cell_type": "code",
   "execution_count": null,
   "id": "d39c05f7-d8f3-48e0-a366-efe7a7079412",
   "metadata": {},
   "outputs": [],
   "source": [
    "required_keys = {'byr', 'iyr', \n",
    "'eyr' ,\n",
    "'hgt' ,\n",
    "'hcl' ,'ecl', \n",
    "'pid' ,\n",
    "}"
   ]
  },
  {
   "cell_type": "code",
   "execution_count": null,
   "id": "ec1ec711-22f3-4090-ade8-60fe45437471",
   "metadata": {},
   "outputs": [],
   "source": [
    "required_keys"
   ]
  },
  {
   "cell_type": "code",
   "execution_count": null,
   "id": "aa1f9621-7645-44ea-ae4e-029b2b779be4",
   "metadata": {},
   "outputs": [],
   "source": [
    "def validate_all_passport_fields(passport):\n",
    "    \n",
    "    items = passport.replace(' ', '\\n').splitlines()\n",
    "    \n",
    "    document = dict()\n",
    "    \n",
    "    for item in items:\n",
    "    \n",
    "        key, value = item.split(':')\n",
    "        \n",
    "        document[key] = value\n",
    "    \n",
    "    if set(document.keys()).intersection(required_keys) == required_keys:\n",
    "        \n",
    "        return document\n",
    "    \n",
    "    \n",
    "def valid_between(value, low, high):\n",
    "    \n",
    "    value = int(value)\n",
    "    \n",
    "    return low <= value <= high\n",
    "\n",
    "\n",
    "def valid_height(value):\n",
    "\n",
    "    if re.search('\\d*in', value) is not None:\n",
    "        \n",
    "        return valid_between(value[:-2], 59, 76)\n",
    "    \n",
    "    elif re.search('\\d*cm', value) is not None:\n",
    "        \n",
    "        return valid_between(value[:-2], 150, 193)\n",
    "        \n",
    "    else:\n",
    "        return False\n",
    "\n",
    "def valid_hair(value):\n",
    "\n",
    "    return re.search('#[0-9a-f]{6}', value) is not None\n",
    "\n",
    "def valid_eye(value):\n",
    "\n",
    "    return value in {'amb', 'blu', 'brn', 'gry', 'grn', 'hzl', 'oth'}\n",
    "\n",
    "def valid_passport_number(value):\n",
    "    \n",
    "    return re.search('^\\d{9}$', value) is not None\n",
    "\n",
    "    \n",
    "def validate_passport(passport):\n",
    "    \n",
    "    document = validate_all_passport_fields(passport)\n",
    "    \n",
    "    if document:\n",
    "        \n",
    "        return all([\n",
    "            valid_between(document['byr'], 1920, 2002),\n",
    "            valid_between(document['iyr'], 2010, 2020),\n",
    "            valid_between(document['eyr'], 2020, 2030),\n",
    "            valid_height(document['hgt']),\n",
    "            valid_hair(document['hcl']), \n",
    "            valid_eye(document['ecl']), \n",
    "            valid_passport_number(document['pid'])])\n",
    "    else:\n",
    "        return False\n",
    "            \n",
    "        "
   ]
  },
  {
   "cell_type": "code",
   "execution_count": null,
   "id": "51eab265-d4a0-4b31-8f06-3b78f1f75788",
   "metadata": {},
   "outputs": [],
   "source": [
    "sum(map(lambda x: x is not None , map(validate_all_passport_fields, passports)))"
   ]
  },
  {
   "cell_type": "code",
   "execution_count": null,
   "id": "d9831461-48b8-4e66-a195-37d0ebd9a778",
   "metadata": {},
   "outputs": [],
   "source": [
    "sum(map(validate_passport, passports))"
   ]
  },
  {
   "cell_type": "markdown",
   "id": "850fc113-554c-488c-a090-8dc62ce33be6",
   "metadata": {
    "jp-MarkdownHeadingCollapsed": true,
    "tags": []
   },
   "source": [
    "# Day 5"
   ]
  },
  {
   "cell_type": "code",
   "execution_count": null,
   "id": "5af46392-010d-408d-ab91-2b81bac852c7",
   "metadata": {},
   "outputs": [],
   "source": [
    "raw_data = aoc.get_data(2020, 5)"
   ]
  },
  {
   "cell_type": "code",
   "execution_count": null,
   "id": "3d10060c-7005-45a2-9e7a-fd8e05e8dd1b",
   "metadata": {},
   "outputs": [],
   "source": [
    "data = raw_data.splitlines()"
   ]
  },
  {
   "cell_type": "code",
   "execution_count": null,
   "id": "5517ac2a-985e-41d0-b98b-4e8e913bbe7a",
   "metadata": {},
   "outputs": [],
   "source": [
    "def search(string, array, low):\n",
    "    \n",
    "    array_length = len(array)\n",
    "    \n",
    "    if array_length == 1:\n",
    "        return array[0]\n",
    "    \n",
    "    comparitor = [*string].pop(0)\n",
    "    \n",
    "    if comparitor == low:\n",
    "        \n",
    "        return search(string[1:], array[: array_length//2], low)\n",
    "    else:\n",
    "        \n",
    "        return search(string[1:], array[array_length//2:], low)"
   ]
  },
  {
   "cell_type": "code",
   "execution_count": null,
   "id": "73ab4da7-b0e9-409b-8711-d81f87983c95",
   "metadata": {},
   "outputs": [],
   "source": [
    "def get_seat(code):\n",
    "    \n",
    "    row_code = code[:-3]\n",
    "    col_code = code[-3:]\n",
    "    \n",
    "    row = search(row_code, list(range(128)), 'F')\n",
    "    col = search(col_code, list(range(8)), 'L')\n",
    "    \n",
    "    return row * 8 + col\n",
    "    "
   ]
  },
  {
   "cell_type": "code",
   "execution_count": null,
   "id": "d6b890a9-15f9-42ef-b0ea-61e7f68f1d95",
   "metadata": {},
   "outputs": [],
   "source": [
    "seats = set(map(get_seat, data))"
   ]
  },
  {
   "cell_type": "code",
   "execution_count": null,
   "id": "ea7c9d27-1939-4cef-a6eb-2bcbaaf1558c",
   "metadata": {},
   "outputs": [],
   "source": [
    "max(seats)"
   ]
  },
  {
   "cell_type": "code",
   "execution_count": null,
   "id": "dd36f5dd-7176-47b7-ae29-176c29ed3fa6",
   "metadata": {},
   "outputs": [],
   "source": [
    "all_seats = set(range(min(seats), max(seats)))"
   ]
  },
  {
   "cell_type": "code",
   "execution_count": null,
   "id": "af1036cb-ceb5-4983-af7f-a39927420d96",
   "metadata": {},
   "outputs": [],
   "source": [
    "all_seats.difference(seats)"
   ]
  },
  {
   "cell_type": "markdown",
   "id": "4c191c91-3549-42ca-bf66-c1137e140220",
   "metadata": {
    "jp-MarkdownHeadingCollapsed": true,
    "tags": []
   },
   "source": [
    "# Day 6 "
   ]
  },
  {
   "cell_type": "code",
   "execution_count": null,
   "id": "d0d2effc-97c6-4f2e-ab71-4bd692c705d9",
   "metadata": {},
   "outputs": [],
   "source": [
    "raw_data = aoc.get_data(2020, 6)"
   ]
  },
  {
   "cell_type": "code",
   "execution_count": null,
   "id": "016d1140-23f1-4a1d-a5e6-8d9fe98690e5",
   "metadata": {},
   "outputs": [],
   "source": [
    "data = raw_data.split('\\n\\n')"
   ]
  },
  {
   "cell_type": "code",
   "execution_count": null,
   "id": "7e2dfaf9-7ec1-43fc-837d-890b19d1eb1b",
   "metadata": {},
   "outputs": [],
   "source": [
    "def count_unique_questions(group):\n",
    "    \n",
    "    return len(set(group.replace('\\n', '')))"
   ]
  },
  {
   "cell_type": "code",
   "execution_count": null,
   "id": "7d484a93-9885-4fb3-8c5e-f5f82cfee196",
   "metadata": {},
   "outputs": [],
   "source": [
    "sum(map(count_unique_questions, data))"
   ]
  },
  {
   "cell_type": "code",
   "execution_count": null,
   "id": "7e9156a8-1592-4f73-b904-1306b9949dd6",
   "metadata": {},
   "outputs": [],
   "source": [
    "def count_common_questions(group):\n",
    "    \n",
    "    people = [set(x) for x in group.splitlines()]\n",
    "    \n",
    "    return len(reduce(lambda a,b: a.intersection(b) , people))"
   ]
  },
  {
   "cell_type": "code",
   "execution_count": null,
   "id": "35e6ffba-031b-4aa0-aabb-049f6883f9e7",
   "metadata": {},
   "outputs": [],
   "source": [
    "sum(map(count_common_questions, data))"
   ]
  },
  {
   "cell_type": "markdown",
   "id": "005d5664-65b6-4c9f-bef9-b6f5a6c8b5e8",
   "metadata": {
    "jp-MarkdownHeadingCollapsed": true,
    "tags": []
   },
   "source": [
    "# Day 7"
   ]
  },
  {
   "cell_type": "code",
   "execution_count": null,
   "id": "585f6fde-dce3-431e-92e3-dba8933bf9d9",
   "metadata": {},
   "outputs": [],
   "source": [
    "raw_data = aoc.get_data(2020,7)"
   ]
  },
  {
   "cell_type": "code",
   "execution_count": null,
   "id": "bbfe514f-1e6f-4b93-907f-242dd8b4833f",
   "metadata": {},
   "outputs": [],
   "source": [
    "data = raw_data.splitlines()"
   ]
  },
  {
   "cell_type": "code",
   "execution_count": null,
   "id": "8e48448a-beeb-4b11-99f6-ce7022dfac8b",
   "metadata": {},
   "outputs": [],
   "source": [
    "def make_bag_dict(bag_rules):\n",
    "    \n",
    "    bags = dict()\n",
    "    \n",
    "    for rule in bag_rules:\n",
    "        \n",
    "        color, contents = rule.replace('.', '').split(' bags contain ')\n",
    "    \n",
    "        contents = contents.split(', ')\n",
    "        \n",
    "        parsed_contents = list()\n",
    "        \n",
    "        for content in contents:\n",
    "        \n",
    "            content = re.search('\\d+\\s(.*)\\sbags?', content)\n",
    "            \n",
    "            if content is None:\n",
    "                \n",
    "                bags[color] = None\n",
    "            \n",
    "            else:\n",
    "                parsed_contents.append(content.group(1))\n",
    "        \n",
    "        bags[color] = parsed_contents\n",
    "        \n",
    "    return bags\n"
   ]
  },
  {
   "cell_type": "code",
   "execution_count": null,
   "id": "17eae701-3b52-4f28-907a-43ebfa759216",
   "metadata": {},
   "outputs": [],
   "source": [
    "test = \"\"\"light red bags contain 1 bright white bag, 2 muted yellow bags.\n",
    "dark orange bags contain 3 bright white bags, 4 muted yellow bags.\n",
    "bright white bags contain 1 shiny gold bag.\n",
    "muted yellow bags contain 2 shiny gold bags, 9 faded blue bags.\n",
    "shiny gold bags contain 1 dark olive bag, 2 vibrant plum bags.\n",
    "dark olive bags contain 3 faded blue bags, 4 dotted black bags.\n",
    "vibrant plum bags contain 5 faded blue bags, 6 dotted black bags.\n",
    "faded blue bags contain no other bags.\n",
    "dotted black bags contain no other bags.\"\"\""
   ]
  },
  {
   "cell_type": "code",
   "execution_count": null,
   "id": "e93ce575-769d-4b92-9b34-ffe89a1516dc",
   "metadata": {},
   "outputs": [],
   "source": [
    "rules = make_bag_dict(data)\n",
    "len(rules.keys())"
   ]
  },
  {
   "cell_type": "code",
   "execution_count": null,
   "id": "563eed59-001d-4243-9e3f-013654924ae6",
   "metadata": {},
   "outputs": [],
   "source": [
    "target = 'shiny gold'"
   ]
  },
  {
   "cell_type": "code",
   "execution_count": null,
   "id": "4b79eb6f-521e-4ccc-a524-2a611d974cd3",
   "metadata": {},
   "outputs": [],
   "source": [
    "rules"
   ]
  },
  {
   "cell_type": "code",
   "execution_count": null,
   "id": "84981621-f4db-462f-9a85-82eeb1d318ad",
   "metadata": {},
   "outputs": [],
   "source": [
    "def find_target_bag(bag, target):\n",
    "    \n",
    "    contents = rules[bag]\n",
    "    \n",
    "    if type(contents) == bool:\n",
    "        return contents\n",
    "    \n",
    "    if target in contents:\n",
    "        \n",
    "        rules[bag] = True\n",
    "        \n",
    "        return True\n",
    "    else:\n",
    "        rules[bag] = any([find_target_bag(x, target) for x in contents])\n",
    "    "
   ]
  },
  {
   "cell_type": "code",
   "execution_count": null,
   "id": "7bb711d6-dbaf-4b48-ab02-cbd4090361e1",
   "metadata": {},
   "outputs": [],
   "source": [
    "for bag in rules.keys():\n",
    "    find_target_bag(bag, target)"
   ]
  },
  {
   "cell_type": "code",
   "execution_count": null,
   "id": "42bb6290-8df8-4dd1-a2d6-e840b8187b86",
   "metadata": {},
   "outputs": [],
   "source": [
    "sum(rules.values())"
   ]
  },
  {
   "cell_type": "code",
   "execution_count": null,
   "id": "2c2d8349-9fa0-4b8d-8a14-3fd086a321b9",
   "metadata": {},
   "outputs": [],
   "source": [
    "def construct_rule_network(rules):\n",
    "    \n",
    "    graph = nx.DiGraph()\n",
    "    \n",
    "    for rule in rules:\n",
    "        \n",
    "        color, contents = rule.replace('.', '').split(' bags contain ')\n",
    "        \n",
    "        color = re.findall('^(.*?)\\sbags?', rule)\n",
    "        \n",
    "        contents = re.findall('\\d+\\s(.*?)\\sbags?', rule)\n",
    "    \n",
    "        if contents:\n",
    "            \n",
    "            graph.add_edges_from(zip(color*len(contents), contents))\n",
    "        \n",
    "        \n",
    "    return graph\n",
    "    "
   ]
  },
  {
   "cell_type": "code",
   "execution_count": null,
   "id": "86c2d79f-51b4-4c69-b39e-92032f3b3915",
   "metadata": {},
   "outputs": [],
   "source": [
    "graph = construct_rule_network(data)"
   ]
  },
  {
   "cell_type": "code",
   "execution_count": null,
   "id": "99ef749c-4ad2-4ae1-bc70-99da6da78ce7",
   "metadata": {},
   "outputs": [],
   "source": [
    "pos = nx.nx_agraph.pygraphviz_layout(graph, prog='dot')\n",
    "\n",
    "fig, ax = plt.subplots(figsize=(16,9))\n",
    "nx.draw_networkx(graph, pos, ax=ax)"
   ]
  },
  {
   "cell_type": "code",
   "execution_count": null,
   "id": "7f276f05-e8bb-4a10-87b4-bc3a8d70c663",
   "metadata": {},
   "outputs": [],
   "source": [
    "sum(map(lambda x: nx.has_path(graph, x, target) if x != target else False, list(graph.nodes)))"
   ]
  },
  {
   "cell_type": "code",
   "execution_count": null,
   "id": "7bda8ff2-ba2c-4cfd-8df7-8061123eea5f",
   "metadata": {},
   "outputs": [],
   "source": [
    "def construct_weighted_rule_network(rules):\n",
    "    \n",
    "    g = nx.DiGraph()\n",
    "    \n",
    "    for rule in rules:\n",
    "        \n",
    "        color, contents = rule.replace('.', '').split(' bags contain ')\n",
    "        \n",
    "        color = re.findall('^(.*?)\\sbags?', rule)\n",
    "        \n",
    "        contents = re.findall('\\d+\\s(.*?)\\sbags?', rule)\n",
    "        \n",
    "        number = map(int, re.findall('(\\d+)\\s.*?\\sbags?', rule))\n",
    "    \n",
    "        if contents:\n",
    "            \n",
    "            g.add_weighted_edges_from(zip(color*len(contents), contents, number))\n",
    "        \n",
    "        \n",
    "    return g"
   ]
  },
  {
   "cell_type": "code",
   "execution_count": null,
   "id": "73e02aee-f0e1-4dfd-a234-5a585f48246d",
   "metadata": {},
   "outputs": [],
   "source": [
    "graph = construct_weighted_rule_network(data)"
   ]
  },
  {
   "cell_type": "code",
   "execution_count": null,
   "id": "efdd9882-7342-4b9d-a256-c7dae0d2246f",
   "metadata": {},
   "outputs": [],
   "source": [
    "decendents = nx.descendants(graph, target)\n",
    "\n",
    "decendents.add(target)\n",
    "\n",
    "sub_graph = graph.subgraph(decendents)"
   ]
  },
  {
   "cell_type": "code",
   "execution_count": null,
   "id": "5936cc6f-377e-479d-b6d9-3fa233c1a25a",
   "metadata": {},
   "outputs": [],
   "source": [
    "pos = nx.nx_agraph.pygraphviz_layout(sub_graph, prog='dot')\n",
    "\n",
    "fig, ax = plt.subplots(figsize=(16,9))\n",
    "nx.draw_networkx(sub_graph, pos, ax=ax)"
   ]
  },
  {
   "cell_type": "code",
   "execution_count": null,
   "id": "03e3649d-0506-462b-837a-7f8daab05806",
   "metadata": {},
   "outputs": [],
   "source": [
    "def count_bag_contents(start):\n",
    "    \n",
    "    \n",
    "    decendants = nx.descendants_at_distance(sub_graph, start, 1)\n",
    "    \n",
    "    if not decendants:\n",
    "        return 1\n",
    "    \n",
    "    return sum(count_bag_contents(decendant) * sub_graph[start][decendant]['weight'] for decendant in decendants) + 1\n",
    "        \n",
    "    \n",
    "    \n",
    "    "
   ]
  },
  {
   "cell_type": "code",
   "execution_count": null,
   "id": "19005f8d-045c-4fd4-b85b-0d896fbf3654",
   "metadata": {},
   "outputs": [],
   "source": [
    "count_bag_contents('shiny gold') - 1"
   ]
  },
  {
   "cell_type": "markdown",
   "id": "fc640482-5698-4b2b-92d5-2ed866f37ee7",
   "metadata": {
    "jp-MarkdownHeadingCollapsed": true,
    "tags": []
   },
   "source": [
    "# Day 8"
   ]
  },
  {
   "cell_type": "code",
   "execution_count": null,
   "id": "c3f183d7-d9f4-4af3-b036-791348ab7f04",
   "metadata": {},
   "outputs": [],
   "source": [
    "raw_data = aoc.get_data(2020,8)"
   ]
  },
  {
   "cell_type": "code",
   "execution_count": null,
   "id": "7cd2a31d-8641-4aa9-b88f-e2760e582cc5",
   "metadata": {},
   "outputs": [],
   "source": [
    "data = raw_data.splitlines()"
   ]
  },
  {
   "cell_type": "code",
   "execution_count": null,
   "id": "164b6baa-02c0-4d4a-a72f-67443804a186",
   "metadata": {},
   "outputs": [],
   "source": [
    "class Console:\n",
    "    \n",
    "    \n",
    "    def __init__(self):\n",
    "        \n",
    "        self.accumulator = 0\n",
    "        self.pointer = 0\n",
    "        self.instructions = set()\n",
    "        self.data = None\n",
    "        \n",
    "        \n",
    "    def run(self, data):\n",
    "    \n",
    "        self.accumulator = 0\n",
    "        self.pointer = 0\n",
    "        self.instructions = set()\n",
    "        self.data = data\n",
    "        \n",
    "        while self.pointer not in self.instructions:\n",
    "            \n",
    "            self.next_instruction()\n",
    "            \n",
    "        return self.accumulator\n",
    "    \n",
    "    \n",
    "    \n",
    "    def next_instruction(self):\n",
    "        \n",
    "        self.instructions.add(self.pointer)\n",
    "        \n",
    "        instruction, value = self.data[self.pointer].split(' ')\n",
    "        \n",
    "        match instruction:\n",
    "            \n",
    "            case 'nop':\n",
    "                \n",
    "                self.pointer += 1\n",
    "                \n",
    "            case 'acc':\n",
    "                self.accumulator += int(value)\n",
    "                self.pointer += 1\n",
    "                \n",
    "            case 'jmp':\n",
    "                self.pointer += int(value)\n",
    "        "
   ]
  },
  {
   "cell_type": "code",
   "execution_count": null,
   "id": "fe08faff-2799-48b2-8749-75016d37dfb7",
   "metadata": {},
   "outputs": [],
   "source": [
    "console = Console()"
   ]
  },
  {
   "cell_type": "code",
   "execution_count": null,
   "id": "cffb04f2-a23c-4efd-ae62-7f80d7be05a1",
   "metadata": {},
   "outputs": [],
   "source": [
    "console.run(data)"
   ]
  },
  {
   "cell_type": "code",
   "execution_count": null,
   "id": "1b6ba824-9753-4247-808b-8c27dafe6a41",
   "metadata": {},
   "outputs": [],
   "source": [
    "def make_new_tape(tape):\n",
    "    \n",
    "    for i in range(len(tape)):\n",
    "                       \n",
    "        verb = tape[i]\n",
    "        new_tape = tape.copy()\n",
    "        \n",
    "        \n",
    "        if 'nop' in verb:\n",
    "        \n",
    "            new_tape[i] = verb.replace('nop', 'jmp')\n",
    "            \n",
    "            \n",
    "            \n",
    "        elif 'jmp' in verb:\n",
    "            \n",
    "            new_tape[i] = verb.replace('jmp', 'nop')\n",
    "            \n",
    "                      \n",
    "        yield new_tape.copy()\n",
    "    "
   ]
  },
  {
   "cell_type": "code",
   "execution_count": null,
   "id": "632d7a05-5025-4595-b66f-933124a6d79d",
   "metadata": {},
   "outputs": [],
   "source": [
    "a = make_new_tape(data)"
   ]
  },
  {
   "cell_type": "code",
   "execution_count": null,
   "id": "d7f1bdec-1a20-480d-8953-7a630657e391",
   "metadata": {},
   "outputs": [],
   "source": [
    "for tape in make_new_tape(data):\n",
    "    \n",
    "    try:\n",
    "        console.run(tape)\n",
    "    except IndexError:\n",
    "        print(console.accumulator)"
   ]
  },
  {
   "cell_type": "markdown",
   "id": "4721d91b-b8ff-4ca7-bc7c-cb66233652c9",
   "metadata": {
    "jp-MarkdownHeadingCollapsed": true,
    "tags": []
   },
   "source": [
    "# Day 9"
   ]
  },
  {
   "cell_type": "code",
   "execution_count": null,
   "id": "37d545ed-0eca-4d80-8d94-8eca01b66785",
   "metadata": {},
   "outputs": [],
   "source": [
    "raw_data = aoc.get_data(2020,9)"
   ]
  },
  {
   "cell_type": "code",
   "execution_count": null,
   "id": "7ab39c91-ebdf-4125-b46b-fe4b1cfab99b",
   "metadata": {},
   "outputs": [],
   "source": [
    "data = list(map(int, raw_data.splitlines()))"
   ]
  },
  {
   "cell_type": "code",
   "execution_count": null,
   "id": "ec6aeb76-63fa-42d7-876d-047b03a74123",
   "metadata": {},
   "outputs": [],
   "source": [
    "list(map(sum, itertools.permutations(data[0:25],2)))"
   ]
  },
  {
   "cell_type": "code",
   "execution_count": null,
   "id": "fa0f0ef2-ee20-4574-aad8-94517b9ef6cd",
   "metadata": {},
   "outputs": [],
   "source": [
    "def find_invalid_number(data):\n",
    "    \n",
    "    preamble = data[0:25]\n",
    "    \n",
    "    check_values = data[25:]\n",
    "    \n",
    "    \n",
    "    for value in check_values:\n",
    "        \n",
    "        if value not in list(map(sum, itertools.permutations(preamble,2))):\n",
    "        \n",
    "            return value\n",
    "        \n",
    "        preamble.pop(0)\n",
    "        preamble.append(value)\n",
    "        "
   ]
  },
  {
   "cell_type": "code",
   "execution_count": null,
   "id": "72a78746-ffc0-4921-9ea9-7d94487dcc44",
   "metadata": {},
   "outputs": [],
   "source": [
    "find_invalid_number(data)"
   ]
  },
  {
   "cell_type": "code",
   "execution_count": null,
   "id": "5c429176-8410-4f63-b568-5366dd1d3847",
   "metadata": {},
   "outputs": [],
   "source": [
    "def find_invalid_number_with_preamble(data):\n",
    "    \n",
    "    preamble = data[0:25]\n",
    "    \n",
    "    check_values = data[25:]\n",
    "    \n",
    "    \n",
    "    for value in check_values:\n",
    "        \n",
    "        if value not in list(map(sum, itertools.permutations(preamble,2))):\n",
    "        \n",
    "            return value, preamble\n",
    "        \n",
    "        preamble.pop(0)\n",
    "        preamble.append(value)"
   ]
  },
  {
   "cell_type": "code",
   "execution_count": null,
   "id": "38e8434d-1946-41d7-8cb3-b0ae5533068c",
   "metadata": {},
   "outputs": [],
   "source": [
    "value, preamble = find_invalid_number_with_preamble(data)"
   ]
  },
  {
   "cell_type": "code",
   "execution_count": null,
   "id": "49e7473c-4669-420d-b966-3100e1184177",
   "metadata": {},
   "outputs": [],
   "source": [
    "def sliding_window(data, window_size):\n",
    "    \n",
    "    \n",
    "    for i in range(len(data) - window_size + 1):\n",
    "        \n",
    "        yield data[i:i+window_size]"
   ]
  },
  {
   "cell_type": "code",
   "execution_count": null,
   "id": "3f282083-2367-4bd7-bc0a-0d63fffd1933",
   "metadata": {},
   "outputs": [],
   "source": [
    "list(sliding_window(preamble, 3))"
   ]
  },
  {
   "cell_type": "code",
   "execution_count": null,
   "id": "44dfcdf9-60b2-4c8d-aa19-25516503b11c",
   "metadata": {},
   "outputs": [],
   "source": [
    "def find_values_in_preamble(value, preamble):\n",
    "    \n",
    "    for window_size in range(3, len(preamble)+1):\n",
    "                        \n",
    "        for window in sliding_window(preamble, window_size):\n",
    "            \n",
    "            print(sum(window))\n",
    "            \n",
    "            if sum(window) == value:\n",
    "                \n",
    "                return min(window) + max(window)\n",
    "    "
   ]
  },
  {
   "cell_type": "code",
   "execution_count": null,
   "id": "8281a659-d877-4ce4-9cfc-9f4b38234878",
   "metadata": {},
   "outputs": [],
   "source": [
    "find_values_in_preamble(value, preamble)"
   ]
  },
  {
   "cell_type": "markdown",
   "id": "f55fea85-99e2-4408-89a4-ea723ece197f",
   "metadata": {
    "jp-MarkdownHeadingCollapsed": true,
    "tags": []
   },
   "source": [
    "# Day 10"
   ]
  },
  {
   "cell_type": "code",
   "execution_count": null,
   "id": "81d75617-49fb-45b9-aa3e-8ecf517f784e",
   "metadata": {},
   "outputs": [],
   "source": []
  },
  {
   "cell_type": "code",
   "execution_count": null,
   "id": "737017a9-eb1f-46af-90b0-f732085a1088",
   "metadata": {},
   "outputs": [],
   "source": [
    "raw_data = aoc.get_data(2020, 10)"
   ]
  },
  {
   "cell_type": "code",
   "execution_count": null,
   "id": "eaa06f3c-ca7c-46b0-b9be-450302b4ca2f",
   "metadata": {},
   "outputs": [],
   "source": [
    "data = list(map(int, raw_data.splitlines()))"
   ]
  },
  {
   "cell_type": "code",
   "execution_count": null,
   "id": "8d228620-cfa7-4eab-bb82-ab823ea44fd9",
   "metadata": {},
   "outputs": [],
   "source": [
    "max(data)"
   ]
  },
  {
   "cell_type": "code",
   "execution_count": null,
   "id": "2f6339f2-bdd8-4f28-8cca-2d5ef791a840",
   "metadata": {},
   "outputs": [],
   "source": [
    "adaptor_joltage = max(data) + 3"
   ]
  },
  {
   "cell_type": "code",
   "execution_count": null,
   "id": "7d476ad7-9f6c-407e-a8cf-a7fd4caf081a",
   "metadata": {},
   "outputs": [],
   "source": [
    "joltages = [0] + sorted(data) + [adaptor_joltage]"
   ]
  },
  {
   "cell_type": "code",
   "execution_count": null,
   "id": "9ef1cd92-b96a-4b67-a9bd-d07b6b13cb7a",
   "metadata": {},
   "outputs": [],
   "source": [
    "joltages"
   ]
  },
  {
   "cell_type": "code",
   "execution_count": null,
   "id": "3de0f500-b03f-477d-be63-850be421913a",
   "metadata": {},
   "outputs": [],
   "source": [
    "def diff_1(value):\n",
    "    \n",
    "    return value[1] - value[0] == 1\n",
    "\n",
    "\n",
    "def diff_3(value):\n",
    "    \n",
    "    return value[1] - value[0] == 3\n"
   ]
  },
  {
   "cell_type": "code",
   "execution_count": null,
   "id": "0c7ab01f-ab37-4e8a-97da-0ae2ebf11601",
   "metadata": {},
   "outputs": [],
   "source": [
    "sum(map(diff_1, aoc.sliding_window(joltages, 2))) * sum(map(diff_3, aoc.sliding_window(joltages, 2)))"
   ]
  },
  {
   "cell_type": "code",
   "execution_count": null,
   "id": "9f18530c-4b30-4553-8c4a-374230d373bc",
   "metadata": {},
   "outputs": [],
   "source": [
    "sum(map(diff_1, aoc.sliding_window(joltages, 2)))"
   ]
  },
  {
   "cell_type": "markdown",
   "id": "ecf445b6-3e38-4da2-8560-a3a806f9f2a9",
   "metadata": {
    "jp-MarkdownHeadingCollapsed": true,
    "tags": []
   },
   "source": [
    "# Day 11"
   ]
  },
  {
   "cell_type": "code",
   "execution_count": null,
   "id": "c3d64e22-272b-45b2-9d5e-94638ddc1a55",
   "metadata": {},
   "outputs": [],
   "source": [
    "raw_data = aoc.get_data(2020, 11)"
   ]
  },
  {
   "cell_type": "code",
   "execution_count": null,
   "id": "727f8196-de62-4ffe-b3a9-c2eb97ca00af",
   "metadata": {},
   "outputs": [],
   "source": [
    "raw_data.splitlines()"
   ]
  },
  {
   "cell_type": "code",
   "execution_count": null,
   "id": "30694695-ada9-44d1-886e-dd54e110d92f",
   "metadata": {},
   "outputs": [],
   "source": [
    "data = np.array([[y for y in x ] for x in raw_data.splitlines()])"
   ]
  },
  {
   "cell_type": "code",
   "execution_count": null,
   "id": "8b962488-c004-49ed-971f-2616f0c13db2",
   "metadata": {},
   "outputs": [],
   "source": [
    "data"
   ]
  },
  {
   "cell_type": "code",
   "execution_count": null,
   "id": "592ea4d7-6ea5-4ba0-bd66-fd168f40ad21",
   "metadata": {},
   "outputs": [],
   "source": [
    "def fill_seat_rule(seat):\n",
    "    \n",
    "    # seat will be filled if it is empty already and no neigbhors\n",
    "    \n",
    "    return '#' not in seat and seat[1,1] != '.'"
   ]
  },
  {
   "cell_type": "code",
   "execution_count": null,
   "id": "1ebdcd7b-fc42-4916-970c-c023459a5716",
   "metadata": {},
   "outputs": [],
   "source": [
    "def vacate_seat_rule(seat):\n",
    "\n",
    "    filled = seat[1,1] == '#'\n",
    "    \n",
    "    surrounding = (seat == \"#\").sum() > 4\n",
    "\n",
    "    return filled and surrounding\n",
    "    \n",
    "    "
   ]
  },
  {
   "cell_type": "code",
   "execution_count": null,
   "id": "601b6cf8-cbc3-4523-9327-644a9686e05a",
   "metadata": {},
   "outputs": [],
   "source": [
    "def get_seat(seats, row, col):\n",
    "    \n",
    "    return seats[row - 1: row+2, col-1:col+2]"
   ]
  },
  {
   "cell_type": "code",
   "execution_count": null,
   "id": "f76ed4e9-acaf-4b6d-97f0-34529ee1474d",
   "metadata": {},
   "outputs": [],
   "source": [
    "def next_turn(seats_grid):\n",
    "    \n",
    "    pad = np.pad(seats_grid, 1, constant_values='.')\n",
    "    \n",
    "    update = seats_grid.copy()\n",
    "    \n",
    "    for row in range(seats.shape[0]):\n",
    "        \n",
    "        for col in range(seats.shape[1]):\n",
    "            \n",
    "            seat = get_seat(pad, row+1, col+1)\n",
    "\n",
    "            \n",
    "            if fill_seat_rule(seat):\n",
    "                \n",
    "                update[row, col] = '#'\n",
    "    \n",
    "            elif vacate_seat_rule(seat):\n",
    "                update[row, col] = 'L'\n",
    "                \n",
    "                \n",
    "    return update"
   ]
  },
  {
   "cell_type": "code",
   "execution_count": null,
   "id": "3a0f5698-e413-4eaa-9e89-daa35587e666",
   "metadata": {},
   "outputs": [],
   "source": [
    "first = data\n",
    "second = next_turn(data)\n",
    "\n",
    "\n",
    "while not np.array_equal(first, second):\n",
    "    \n",
    "    first, second = second, next_turn(second) \n",
    "    "
   ]
  },
  {
   "cell_type": "code",
   "execution_count": null,
   "id": "ccd8c75f-583d-4e58-afa4-fded4ac76ddb",
   "metadata": {},
   "outputs": [],
   "source": [
    "(first == '#').sum()"
   ]
  },
  {
   "cell_type": "code",
   "execution_count": null,
   "id": "bcc762fc-a91b-4dbe-b147-716e997288bd",
   "metadata": {},
   "outputs": [],
   "source": [
    "(test == \"#\").sum() > 4"
   ]
  },
  {
   "cell_type": "code",
   "execution_count": null,
   "id": "99f3e5eb-2a87-454e-bedf-d4481477bcdc",
   "metadata": {},
   "outputs": [],
   "source": [
    "test"
   ]
  },
  {
   "cell_type": "code",
   "execution_count": null,
   "id": "04c3ffaa-477e-432a-b4ec-4723d506fe87",
   "metadata": {},
   "outputs": [],
   "source": [
    "def get_raycast_seat(seats, row, col):\n",
    "    \n",
    "    \n",
    "    "
   ]
  },
  {
   "cell_type": "markdown",
   "id": "2e69f75e-0499-41c1-8ec0-90954a36a7e5",
   "metadata": {
    "jp-MarkdownHeadingCollapsed": true,
    "tags": []
   },
   "source": [
    "# Day 12"
   ]
  },
  {
   "cell_type": "code",
   "execution_count": 4,
   "id": "8b6f25df-ad25-49f1-a93d-4c100bd8f015",
   "metadata": {},
   "outputs": [],
   "source": [
    "raw_data = aoc.get_data(2020, 12)"
   ]
  },
  {
   "cell_type": "code",
   "execution_count": 6,
   "id": "48f1ce6f-42db-4c97-b1d7-44c67c7332b8",
   "metadata": {},
   "outputs": [],
   "source": [
    "data = raw_data.splitlines()"
   ]
  },
  {
   "cell_type": "code",
   "execution_count": 7,
   "id": "8f79e377-d36e-40ed-96bb-259fc174c594",
   "metadata": {},
   "outputs": [],
   "source": [
    "class Boat:\n",
    "    \n",
    "    def __init__(self):\n",
    "        \n",
    "        self.ew = 0\n",
    "        self.ns = 0\n",
    "        self.heading = 90\n",
    "        \n",
    "    \n",
    "    def process_instructions(self, instructions):\n",
    "        \n",
    "        self.__init__()\n",
    "        \n",
    "        for instruction in instructions:\n",
    "            \n",
    "            self.process_instruction(instruction)\n",
    "            \n",
    "        print(abs(self.ew) + abs(self.ns))\n",
    "        \n",
    "    def process_instruction(self, instruction):\n",
    "        \n",
    "        preamble = instruction[0]\n",
    "        \n",
    "        action = int(instruction[1:])\n",
    "        \n",
    "        if preamble == 'F':\n",
    "            \n",
    "            heading = self.heading % 360\n",
    "        \n",
    "            if heading == 90:\n",
    "                \n",
    "                preamble = 'E'\n",
    "                \n",
    "            elif heading == 0:\n",
    "                \n",
    "                preamble = 'N'\n",
    "                \n",
    "            elif heading == 270:\n",
    "                \n",
    "                preamble = 'W'\n",
    "                \n",
    "            else:\n",
    "                \n",
    "                preamble = 'S'\n",
    "        \n",
    "        \n",
    "        match preamble:\n",
    "            \n",
    "            case 'N':\n",
    "                self.ns += action\n",
    "                \n",
    "            case 'S':\n",
    "                self.ns -= action\n",
    "                \n",
    "            case 'E':\n",
    "                self.ew += action\n",
    "                \n",
    "            case 'W':\n",
    "                self.ew -= action\n",
    "                \n",
    "            case \"R\":\n",
    "                self.heading += action\n",
    "                \n",
    "            case \"L\":\n",
    "                self.heading -= action\n",
    "                \n",
    "                \n",
    "                \n",
    "    "
   ]
  },
  {
   "cell_type": "code",
   "execution_count": 8,
   "id": "9c24a47e-e09d-4533-9020-15e7ff9543d1",
   "metadata": {},
   "outputs": [],
   "source": [
    "boat = Boat()"
   ]
  },
  {
   "cell_type": "code",
   "execution_count": 9,
   "id": "a8044206-e915-452b-b4ea-238173f925a4",
   "metadata": {},
   "outputs": [
    {
     "name": "stdout",
     "output_type": "stream",
     "text": [
      "845\n"
     ]
    }
   ],
   "source": [
    "boat.process_instructions(data)"
   ]
  },
  {
   "cell_type": "code",
   "execution_count": 11,
   "id": "b2fc15d2-dba2-45b7-8ef2-96bc19a052de",
   "metadata": {},
   "outputs": [],
   "source": [
    "class Boat:\n",
    "    \n",
    "    def __init__(self):\n",
    "        \n",
    "        self.position = np.array([0,0], dtype=float)\n",
    "        self.waypoint = np.array([10, 1], dtype=float)\n",
    "        \n",
    "    \n",
    "    def process_instructions(self, instructions, debug=False):\n",
    "        \n",
    "        self.__init__()\n",
    "        \n",
    "        self.debug = debug\n",
    "        \n",
    "        for instruction in instructions:\n",
    "            \n",
    "            self.process_instruction(instruction, debug)\n",
    "            \n",
    "        print(np.abs(self.position).sum())\n",
    "        \n",
    "    def process_instruction(self, instruction, debug):\n",
    "        \n",
    "        preamble = instruction[0]\n",
    "        \n",
    "        action = int(instruction[1:])\n",
    "        \n",
    "        match preamble:\n",
    "            \n",
    "            case 'N':\n",
    "                self.waypoint += np.array([0,1], dtype=float) * action\n",
    "                \n",
    "            case 'S':\n",
    "                self.waypoint += np.array([0, -1], dtype=float) * action\n",
    "                \n",
    "            case 'E':\n",
    "                self.waypoint += np.array([1,0],dtype=float) * action\n",
    "                \n",
    "            case 'W':\n",
    "                self.waypoint += np.array([-1, 0],dtype=float) * action\n",
    "                \n",
    "            case \"R\":\n",
    "                self.waypoint = self.rotate(action * -1.0, self.waypoint)\n",
    "                \n",
    "            case \"L\":\n",
    "                self.waypoint = self.rotate(action, self.waypoint)\n",
    "                \n",
    "            case \"F\":\n",
    "                self.position += self.waypoint * action\n",
    "        \n",
    "        if debug:        \n",
    "            print(self.position, self.waypoint, instruction)\n",
    "                \n",
    "    def rotate(self, angle, vector):\n",
    "        \n",
    "        theta = np.radians(angle)\n",
    "        c, s = np.cos(theta), np.sin(theta)\n",
    "        R = np.array(((c, -s), (s, c)))\n",
    "        \n",
    "        return np.dot(R, vector)\n",
    "        "
   ]
  },
  {
   "cell_type": "code",
   "execution_count": 12,
   "id": "5eabed3d-746c-45ea-a9e6-f519ea2dc13c",
   "metadata": {},
   "outputs": [],
   "source": [
    "boat = Boat()"
   ]
  },
  {
   "cell_type": "code",
   "execution_count": 13,
   "id": "d74b7bf4-89ab-40a0-913f-2fece32b7f00",
   "metadata": {},
   "outputs": [
    {
     "name": "stdout",
     "output_type": "stream",
     "text": [
      "[100.  10.] [10.  1.] F10\n",
      "[100.  10.] [10.  4.] N3\n",
      "[170.  38.] [10.  4.] F7\n",
      "[170.  38.] [  4. -10.] R90\n",
      "[214. -72.] [  4. -10.] F11\n",
      "286.0\n"
     ]
    }
   ],
   "source": [
    "boat.process_instructions(['F10', 'N3', 'F7', 'R90', 'F11'], True)"
   ]
  },
  {
   "cell_type": "code",
   "execution_count": 14,
   "id": "0aebd75a-d3a9-498a-a05a-dfb5f487af5a",
   "metadata": {},
   "outputs": [
    {
     "name": "stdout",
     "output_type": "stream",
     "text": [
      "27016.00000000003\n"
     ]
    }
   ],
   "source": [
    "boat.process_instructions(data)"
   ]
  },
  {
   "cell_type": "markdown",
   "id": "150b34ba-8a14-453f-ada3-28ac644bbf0f",
   "metadata": {
    "jp-MarkdownHeadingCollapsed": true,
    "tags": []
   },
   "source": [
    "# DAY 13"
   ]
  },
  {
   "cell_type": "code",
   "execution_count": 2,
   "id": "448fb103-bb1f-461f-ada0-394bbec53761",
   "metadata": {},
   "outputs": [],
   "source": [
    "raw_data = aoc.get_data(2020, 13)"
   ]
  },
  {
   "cell_type": "code",
   "execution_count": 3,
   "id": "e36c9fc7-ecc3-46cb-8dab-25548cb86c52",
   "metadata": {},
   "outputs": [],
   "source": [
    "timestamp, schedule = raw_data.splitlines()"
   ]
  },
  {
   "cell_type": "code",
   "execution_count": 38,
   "id": "29e4b232-c665-4044-9c1a-3e6070be4c78",
   "metadata": {},
   "outputs": [],
   "source": [
    "class Bus:\n",
    "    \n",
    "    def __init__(self, id):\n",
    "        self.id = id\n",
    "        \n",
    "        \n",
    "    def get_next_arrival_after_timestamp(self, timestamp):\n",
    "            \n",
    "        return self.id - (timestamp % self.id)\n",
    "        \n",
    "    def __repr__(self):\n",
    "        return f'{self.id}'"
   ]
  },
  {
   "cell_type": "code",
   "execution_count": 53,
   "id": "6b523de7-bfec-47e3-9ad9-a042cc35f33f",
   "metadata": {},
   "outputs": [],
   "source": [
    "class Scheduler:\n",
    "    \n",
    "    def __init__(self, schedule):\n",
    "        \n",
    "        ids = [int(x) for x in schedule.split(',') if x != 'x']\n",
    "        \n",
    "        self.buses = [Bus(id) for id in ids]\n",
    "        \n",
    "    def get_next_bus(self, timestamp):\n",
    "        \n",
    "        delta_arrival_times = [bus.get_next_arrival_after_timestamp(timestamp) for bus in self.buses]\n",
    "        \n",
    "        min_wait_time = min(delta_arrival_times)\n",
    "        \n",
    "        bus = self.buses[delta_arrival_times.index(min_wait_time)]\n",
    "        \n",
    "        return min_wait_time * bus.id"
   ]
  },
  {
   "cell_type": "code",
   "execution_count": 54,
   "id": "0f40c4a1-265b-41ff-b7e4-8d823a311169",
   "metadata": {},
   "outputs": [],
   "source": [
    "scheduler = Scheduler('7,13,x,x,59,x,31,19')"
   ]
  },
  {
   "cell_type": "code",
   "execution_count": 55,
   "id": "fd1c19db-f227-46e2-93af-782ab5e6771a",
   "metadata": {},
   "outputs": [
    {
     "data": {
      "text/plain": [
       "295"
      ]
     },
     "execution_count": 55,
     "metadata": {},
     "output_type": "execute_result"
    }
   ],
   "source": [
    "scheduler.get_next_bus(939)"
   ]
  },
  {
   "cell_type": "code",
   "execution_count": 56,
   "id": "51d9fd63-7a2a-4a06-aba2-7090c43a05b9",
   "metadata": {},
   "outputs": [],
   "source": [
    "scheduler = Scheduler(schedule)"
   ]
  },
  {
   "cell_type": "code",
   "execution_count": 57,
   "id": "321cdd06-f89d-432f-9854-68765ae2d6f6",
   "metadata": {},
   "outputs": [
    {
     "data": {
      "text/plain": [
       "2298"
      ]
     },
     "execution_count": 57,
     "metadata": {},
     "output_type": "execute_result"
    }
   ],
   "source": [
    "scheduler.get_next_bus(int(timestamp))"
   ]
  },
  {
   "cell_type": "code",
   "execution_count": 48,
   "id": "6a1bc75c-1a82-4801-b7c6-58e4b7c7903f",
   "metadata": {},
   "outputs": [],
   "source": [
    "bus = Bus(7)"
   ]
  },
  {
   "cell_type": "code",
   "execution_count": 49,
   "id": "8666cd6c-6929-4bf0-9adc-b662cc13a8b7",
   "metadata": {},
   "outputs": [
    {
     "data": {
      "text/plain": [
       "5"
      ]
     },
     "execution_count": 49,
     "metadata": {},
     "output_type": "execute_result"
    }
   ],
   "source": [
    "bus.get_next_arrival_after_timestamp(9)"
   ]
  },
  {
   "cell_type": "code",
   "execution_count": 153,
   "id": "ed481023-26ff-4cf0-82ce-7f795b2b9cf2",
   "metadata": {},
   "outputs": [],
   "source": [
    "class TimeStampScheduler:\n",
    "    \n",
    "    def __init__(self, schedule):\n",
    "        \n",
    "        schedule = schedule.split(',')\n",
    "        \n",
    "        self.buses = [int(x) for x in schedule if x != 'x']\n",
    "\n",
    "        self.departures = [i for i, element in enumerate(schedule) if element !='x']\n",
    "        \n",
    "        \n",
    "    def get_timestamp(self):\n",
    "        \n",
    "        \n",
    "        return reduce(lambda a,b: a*b, self.buses) - chinese_remainder(self.buses, self.departures)\n",
    "        \n",
    "    \n",
    "    \n",
    "    def chinese_remainder(n, a):\n",
    "        \n",
    "        sums = 0\n",
    "        \n",
    "        prod = reduce(lambda a, b: a*b, n)\n",
    "        \n",
    "        for n_i, a_i in zip(n, a):\n",
    "        \n",
    "            p = prod // n_i\n",
    "\n",
    "            sums += a_i * self.mul_inv(p, n_i) * p\n",
    "        \n",
    "        return sums % prod\n",
    "\n",
    "    def mul_inv(a, b):\n",
    "        \n",
    "        b0 = b\n",
    "        \n",
    "        x0, x1 = 0, 1\n",
    "        \n",
    "        if b == 1: return 1\n",
    "        \n",
    "        while a > 1:\n",
    "        \n",
    "            q = a // b\n",
    "            \n",
    "            a, b = b, a%b\n",
    "            \n",
    "            x0, x1 = x1 - q * x0, x0\n",
    "        \n",
    "        if x1 < 0: x1 += b0\n",
    "        \n",
    "        return x1        "
   ]
  },
  {
   "cell_type": "code",
   "execution_count": 160,
   "id": "c3e5f804-e5b5-4e53-9744-ca3d27970277",
   "metadata": {},
   "outputs": [],
   "source": [
    "scheduler = TimeStampScheduler(schedule)"
   ]
  },
  {
   "cell_type": "code",
   "execution_count": 161,
   "id": "9bbbc059-41ef-45b8-86e7-be334242b72b",
   "metadata": {},
   "outputs": [
    {
     "data": {
      "text/plain": [
       "783685719679632"
      ]
     },
     "execution_count": 161,
     "metadata": {},
     "output_type": "execute_result"
    }
   ],
   "source": [
    "scheduler.get_timestamp()"
   ]
  },
  {
   "cell_type": "markdown",
   "id": "c43882ba-a118-4bfb-9386-7daf13a71310",
   "metadata": {
    "jp-MarkdownHeadingCollapsed": true,
    "tags": []
   },
   "source": [
    "# Day 14"
   ]
  },
  {
   "cell_type": "code",
   "execution_count": 3,
   "id": "659cffc6-82e3-4138-b7fa-a42bd1421077",
   "metadata": {},
   "outputs": [],
   "source": [
    "raw_data = aoc.get_data(2020, 14)"
   ]
  },
  {
   "cell_type": "code",
   "execution_count": 4,
   "id": "5815bab0-8893-41bb-b604-cfe5b9646882",
   "metadata": {},
   "outputs": [],
   "source": [
    "data = raw_data.splitlines()"
   ]
  },
  {
   "cell_type": "code",
   "execution_count": 5,
   "id": "a7364e3c-38e4-4838-8a2e-e94cc69859ea",
   "metadata": {},
   "outputs": [],
   "source": [
    "class BitComputer:\n",
    "    \n",
    "    def __init__(self):\n",
    "        \n",
    "        self.memory = dict()\n",
    "        self.bitmask = None\n",
    "        \n",
    "        \n",
    "    def process_instructions(self, instructions):\n",
    "        \n",
    "        for instruction in instructions:\n",
    "            \n",
    "            self.process_instruction(instruction)\n",
    "            \n",
    "    def process_instruction(self, instruction):\n",
    "        \n",
    "        instruction = instruction.split(' = ')\n",
    "        \n",
    "        \n",
    "        if 'mask' in instruction[0]:\n",
    "            \n",
    "            self.bitmask = instruction[1]\n",
    "            \n",
    "        else:\n",
    "            \n",
    "            memory_location = int(re.search(r'\\d+', instruction[0])[0])\n",
    "            \n",
    "            self.memory[memory_location] = self.apply_mask(instruction[1])\n",
    "            \n",
    "    def apply_mask(self, number):\n",
    "        bit_representation = \"{0:b}\".format(int(number)).zfill(36)\n",
    "        \n",
    "        output_string =''\n",
    "        \n",
    "        for value, mask in zip(bit_representation, self.bitmask):\n",
    "            \n",
    "            if mask == 'X':\n",
    "                output_string += value\n",
    "                \n",
    "            else:\n",
    "                output_string += mask\n",
    "                \n",
    "        return int(output_string,2)\n",
    "\n",
    "    def get_mem(self):\n",
    "        return sum(self.memory.values())"
   ]
  },
  {
   "cell_type": "code",
   "execution_count": 6,
   "id": "f0e08af4-41f5-465d-9664-10785bccbe14",
   "metadata": {},
   "outputs": [],
   "source": [
    "computer = BitComputer()"
   ]
  },
  {
   "cell_type": "code",
   "execution_count": 7,
   "id": "a85b4b0f-e3c2-45ae-be51-c42e9d2a9bea",
   "metadata": {},
   "outputs": [],
   "source": [
    "computer.process_instructions(data)"
   ]
  },
  {
   "cell_type": "code",
   "execution_count": 8,
   "id": "bf83df4b-adf9-4275-92ea-ea7fbb1535bf",
   "metadata": {},
   "outputs": [
    {
     "data": {
      "text/plain": [
       "15018100062885"
      ]
     },
     "execution_count": 8,
     "metadata": {},
     "output_type": "execute_result"
    }
   ],
   "source": [
    "computer.get_mem()"
   ]
  },
  {
   "cell_type": "code",
   "execution_count": 15,
   "id": "9a8bf0c6-b930-48bc-967b-40271534de6b",
   "metadata": {},
   "outputs": [],
   "source": [
    "class BitComputerV2(BitComputer):\n",
    "    \n",
    "    \n",
    "    def __init__(self):\n",
    "        super().__init__()\n",
    "        self.value = None\n",
    "    \n",
    "    def process_instruction(self, instruction):\n",
    "        \n",
    "        instruction = instruction.split(' = ')\n",
    "        \n",
    "        \n",
    "        if 'mask' in instruction[0]:\n",
    "            \n",
    "            self.bitmask = instruction[1]\n",
    "            \n",
    "        else:\n",
    "            self.value = int(instruction[1])\n",
    "            self.get_memory_locations(int(re.search(r'\\d+', instruction[0])[0]))\n",
    "\n",
    "     \n",
    "    def get_memory_locations(self, number):\n",
    "        \n",
    "        bit_representation = \"{0:b}\".format(int(number)).zfill(36)\n",
    "        \n",
    "        floating_memory_locations = ''\n",
    "        \n",
    "        for value, mask in zip(bit_representation, self.bitmask):\n",
    "            \n",
    "            \n",
    "            if mask == '0':\n",
    "                floating_memory_locations += value\n",
    "                \n",
    "            elif mask == '1':\n",
    "            \n",
    "                floating_memory_locations += '1'\n",
    "                \n",
    "            else:\n",
    "                \n",
    "                floating_memory_locations += 'X'\n",
    "                \n",
    "                \n",
    "        self.fill_floating_bit(floating_memory_locations)\n",
    "                \n",
    "    def fill_floating_bit(self, mem_location):\n",
    "                \n",
    "        if 'X' not in mem_location:\n",
    "            \n",
    "            self.memory[int(mem_location, 2)] = self.value\n",
    "        \n",
    "        else:\n",
    "            \n",
    "            self.fill_floating_bit(mem_location.replace('X', '1', 1)), self.fill_floating_bit(mem_location.replace('X', '0', 1))\n",
    "        \n",
    "\n",
    "            \n",
    "        "
   ]
  },
  {
   "cell_type": "code",
   "execution_count": 16,
   "id": "83768257-3854-40b8-a4c4-b960a838e7c3",
   "metadata": {},
   "outputs": [],
   "source": [
    "computer = BitComputerV2()"
   ]
  },
  {
   "cell_type": "code",
   "execution_count": 17,
   "id": "7d4a75f1-248e-4e08-a418-1a9af468a2a5",
   "metadata": {},
   "outputs": [],
   "source": [
    "computer.process_instructions(data)"
   ]
  },
  {
   "cell_type": "code",
   "execution_count": 75,
   "id": "a06dd269-04c6-4e75-a47f-25ae2bb5b759",
   "metadata": {},
   "outputs": [
    {
     "data": {
      "text/plain": [
       "5724245857696"
      ]
     },
     "execution_count": 75,
     "metadata": {},
     "output_type": "execute_result"
    }
   ],
   "source": [
    "computer.get_mem()"
   ]
  },
  {
   "cell_type": "markdown",
   "id": "f48e33ac-6100-48f5-b6ee-91cc1d0e54f9",
   "metadata": {
    "jp-MarkdownHeadingCollapsed": true,
    "tags": []
   },
   "source": [
    "# Day 15"
   ]
  },
  {
   "cell_type": "code",
   "execution_count": 4,
   "id": "99f27468-8114-41c7-8374-5d8d31ff7b12",
   "metadata": {},
   "outputs": [],
   "source": [
    "raw_data = aoc.get_data(2020, 15)"
   ]
  },
  {
   "cell_type": "code",
   "execution_count": 5,
   "id": "f81860cf-0612-4a7d-a01e-0c7d842b020f",
   "metadata": {},
   "outputs": [
    {
     "data": {
      "text/plain": [
       "['1', '20', '11', '6', '12', '0']"
      ]
     },
     "execution_count": 5,
     "metadata": {},
     "output_type": "execute_result"
    }
   ],
   "source": [
    "raw_data.strip().split(',')"
   ]
  },
  {
   "cell_type": "code",
   "execution_count": 54,
   "id": "048d381c-942b-448e-a2c4-af7d8fc58bf7",
   "metadata": {},
   "outputs": [],
   "source": [
    "class SpokenWord:\n",
    "    \n",
    "    def __init__(self, word, turn_spoken):\n",
    "        \n",
    "        self.word = word\n",
    "        self.turn_spoken = turn_spoken\n",
    "        self.turn_spoken_before = None\n",
    "        \n",
    "    def __repr__(self):\n",
    "        \n",
    "        return f'word {self.word} : turn {self.turn_spoken} : spoken before {self.turn_spoken_before}'\n",
    "    \n",
    "    def __eq__(self, other):\n",
    "        return self.word == other.word\n",
    "\n",
    "\n",
    "class Game:\n",
    "    \n",
    "    \n",
    "    def __init__(self, initial_numbers):\n",
    "        \n",
    "        self.spoken_words = [SpokenWord(int(x), i + 1) for i, x in enumerate(initial_numbers.strip().split(','))]\n",
    "        self.turn = len(self.spoken_words) + 1\n",
    "\n",
    "        \n",
    "        \n",
    "    def play(self, stop):\n",
    "        \n",
    "        while self.turn <= stop:\n",
    "            \n",
    "            self.play_turn()\n",
    "            self.turn += 1\n",
    "\n",
    "            \n",
    "    def play_turn(self):\n",
    "        \n",
    "        last_spoken_word = self.spoken_words[-1]\n",
    "        \n",
    "        self.say_next_word(last_spoken_word)\n",
    "        \n",
    "    def say_next_word(self, last_spoken_word):\n",
    "        \n",
    "        if last_spoken_word.turn_spoken_before:\n",
    "            \n",
    "            speak_word = SpokenWord(last_spoken_word.turn_spoken-last_spoken_word.turn_spoken_before, self.turn)\n",
    "            \n",
    "        else:\n",
    "            \n",
    "            speak_word = SpokenWord(0, self.turn)\n",
    "            \n",
    "    \n",
    "            \n",
    "        if speak_word in self.spoken_words:\n",
    "            \n",
    "            previous_time_spoken = self.spoken_words.pop(self.spoken_words.index(speak_word))\n",
    "            \n",
    "            speak_word.turn_spoken_before = previous_time_spoken.turn_spoken\n",
    "        \n",
    "        self.spoken_words.append(speak_word)\n",
    "        \n",
    "    def get_last_word_spoken(self):\n",
    "        print(self.spoken_words[-1])"
   ]
  },
  {
   "cell_type": "code",
   "execution_count": 55,
   "id": "aa4519d3-e1a8-4b5d-b111-0ef7cbd7a72c",
   "metadata": {},
   "outputs": [],
   "source": [
    "game = Game(raw_data)"
   ]
  },
  {
   "cell_type": "code",
   "execution_count": 56,
   "id": "a7dd45de-edf7-4259-b363-6f2cda0be2da",
   "metadata": {},
   "outputs": [],
   "source": [
    "game.play(2020)"
   ]
  },
  {
   "cell_type": "code",
   "execution_count": 57,
   "id": "b1f75103-7209-4504-88c9-eada97ed6890",
   "metadata": {},
   "outputs": [
    {
     "name": "stdout",
     "output_type": "stream",
     "text": [
      "word 1085 : turn 2020 : spoken before None\n"
     ]
    }
   ],
   "source": [
    "game.get_last_word_spoken()"
   ]
  },
  {
   "cell_type": "code",
   "execution_count": 74,
   "id": "7a174a05-ccaa-42a6-b046-055c7d020e23",
   "metadata": {},
   "outputs": [],
   "source": [
    "class FastGame(Game):\n",
    "    \n",
    "    def __init__(self, initial_numbers):\n",
    "        \n",
    "        self.last_spoken_word = None\n",
    "        self.last_turn_word_spoken = dict()\n",
    "        self.turn_before_last_turn_word_spoken = dict()\n",
    "        self.turn = 1\n",
    "        \n",
    "        for word in initial_numbers.strip().split(','):\n",
    "            \n",
    "            self.last_spoken_word = int(word)\n",
    "            self.last_turn_word_spoken[self.last_spoken_word] = self.turn\n",
    "            \n",
    "            self.turn += 1\n",
    "        \n",
    "    def play_turn(self):\n",
    "        \n",
    "        last_turn_spoken = self.last_turn_word_spoken.get(self.last_spoken_word)\n",
    "        turn_before_last_turn_spoken = self.turn_before_last_turn_word_spoken.get(self.last_spoken_word)\n",
    "        \n",
    "        if last_turn_spoken and turn_before_last_turn_spoken:\n",
    "            \n",
    "            self.say_word(last_turn_spoken - turn_before_last_turn_spoken)\n",
    "            \n",
    "        else:\n",
    "            \n",
    "            self.say_word(0)\n",
    "            \n",
    "        \n",
    "    def say_word(self, word):\n",
    "        \n",
    "        self.last_spoken_word = word\n",
    "        \n",
    "        last_turn_spoken = self.last_turn_word_spoken.get(word)\n",
    "        \n",
    "        self.turn_before_last_turn_word_spoken[word] = last_turn_spoken\n",
    "        self.last_turn_word_spoken[word] = self.turn\n",
    "        \n",
    "    \n",
    "    def get_last_word_spoken(self):\n",
    "        print(self.last_spoken_word)"
   ]
  },
  {
   "cell_type": "code",
   "execution_count": 75,
   "id": "74ed6fb3-01c3-42d0-9fce-f4a64849aab9",
   "metadata": {},
   "outputs": [],
   "source": [
    "game = FastGame(raw_data)"
   ]
  },
  {
   "cell_type": "code",
   "execution_count": 76,
   "id": "7d33da90-871b-4e0b-b035-88479e1c8db5",
   "metadata": {},
   "outputs": [
    {
     "name": "stdout",
     "output_type": "stream",
     "text": [
      "10652\n"
     ]
    }
   ],
   "source": [
    "game.play(30000000)\n",
    "game.get_last_word_spoken()"
   ]
  },
  {
   "cell_type": "markdown",
   "id": "62ed4d38-499c-4276-a17a-e742f50737dc",
   "metadata": {
    "jp-MarkdownHeadingCollapsed": true,
    "tags": []
   },
   "source": [
    "# Day 16"
   ]
  },
  {
   "cell_type": "code",
   "execution_count": 2,
   "id": "39823a79-98b6-47c2-91ff-6fda21bdf9d6",
   "metadata": {},
   "outputs": [],
   "source": [
    "raw_data = aoc.get_data(2020, 16)"
   ]
  },
  {
   "cell_type": "code",
   "execution_count": 77,
   "id": "73b98127-dd2b-4766-8bbc-f35fb8877c68",
   "metadata": {},
   "outputs": [],
   "source": [
    "class TicketValidator():\n",
    "    \n",
    "    def __init__(self, rules):\n",
    "        \n",
    "        self.rules = [Rule(x) for x in rules]\n",
    "            \n",
    "\n",
    "    def check_ticket(self, ticket):\n",
    "\n",
    "        bad_values = list()\n",
    "        \n",
    "        for value in ticket.split(','):\n",
    "        \n",
    "            value = int(value)\n",
    "            \n",
    "            if all([x.check_bad(value) for x in self.rules]):\n",
    "                bad_values.append(value)\n",
    "                       \n",
    "        return sum(bad_values)\n",
    "    \n",
    "\n",
    "    def check_tickets(self, tickets):\n",
    "        \n",
    "        return sum([self.check_ticket(ticket) for ticket in tickets])\n",
    "        \n",
    "    \n",
    "class Rule:\n",
    "    \n",
    "    def __init__(self, rule_string):\n",
    "        \n",
    "        name, rule_values = rule_string.split(': ')\n",
    "        \n",
    "        self.name = name\n",
    "        \n",
    "        first_range, second_range = rule_values.split(' or ')\n",
    "        \n",
    "        self.values = self.create_range(first_range) + self.create_range(second_range)\n",
    "        \n",
    "        self.column = set()\n",
    "        \n",
    "    def create_range(self, range_string):\n",
    "        \n",
    "        first, last = range_string.split('-')\n",
    "        \n",
    "        return list(range(int(first), int(last) + 1))\n",
    "        \n",
    "        \n",
    "    def check_bad(self, value):\n",
    "        \n",
    "        return not value in self.values\n",
    "        \n",
    "    def __repr__(self):\n",
    "        return f'{self.name}'"
   ]
  },
  {
   "cell_type": "code",
   "execution_count": 5,
   "id": "ca6b38f3-2b9c-47a2-a0f6-2bfb2f108a2b",
   "metadata": {},
   "outputs": [],
   "source": [
    "validator = TicketValidator(\"\"\"class: 1-3 or 5-7\n",
    "row: 6-11 or 33-44\n",
    "seat: 13-40 or 45-50\"\"\".splitlines())"
   ]
  },
  {
   "cell_type": "code",
   "execution_count": 6,
   "id": "ffdd59e2-a3cf-481b-8dfb-abaebfb3dc75",
   "metadata": {},
   "outputs": [
    {
     "data": {
      "text/plain": [
       "71"
      ]
     },
     "execution_count": 6,
     "metadata": {},
     "output_type": "execute_result"
    }
   ],
   "source": [
    "validator.check_tickets(\"\"\"7,3,47\n",
    "40,4,50\n",
    "55,2,20\n",
    "38,6,12\"\"\".splitlines())"
   ]
  },
  {
   "cell_type": "code",
   "execution_count": 104,
   "id": "968bcb57-c821-489b-bf51-a1b2cb5c3dbd",
   "metadata": {},
   "outputs": [],
   "source": [
    "rules, my_ticket, other_tickets = raw_data.split('\\n\\n')"
   ]
  },
  {
   "cell_type": "code",
   "execution_count": 8,
   "id": "1fa915e1-6ec6-486d-9472-862f9eab9bcd",
   "metadata": {},
   "outputs": [],
   "source": [
    "validator = TicketValidator(rules.splitlines())"
   ]
  },
  {
   "cell_type": "code",
   "execution_count": 9,
   "id": "d4402ce7-c21a-48bd-b829-4c3a298fc27f",
   "metadata": {},
   "outputs": [
    {
     "data": {
      "text/plain": [
       "25984"
      ]
     },
     "execution_count": 9,
     "metadata": {},
     "output_type": "execute_result"
    }
   ],
   "source": [
    "validator.check_tickets(other_tickets.splitlines()[1:])"
   ]
  },
  {
   "cell_type": "code",
   "execution_count": 157,
   "id": "458750a6-d4bf-4df8-869b-b411f697b51f",
   "metadata": {},
   "outputs": [],
   "source": [
    "class TicketPropertyFinder(TicketValidator):\n",
    "    \n",
    "    def __init__(self, rules):\n",
    "        \n",
    "        super().__init__(rules)\n",
    "        self.valid_tickets = None\n",
    "    \n",
    "    @property\n",
    "    def departure_rules(self):\n",
    "    \n",
    "        return [x for x in self.rules if 'departure' in x.name]\n",
    "    \n",
    "    def sort_rules(self, ticket):\n",
    "        \n",
    "        check = map(int, ticket.split(\",\"))\n",
    "        \n",
    "        for i, value in enumerate(check):\n",
    "            \n",
    "            column = self.get_column(i)\n",
    "            \n",
    "            for rule in self.rules:\n",
    "                \n",
    "                rule_applied = [not rule.check_bad(x) for x in column]\n",
    "            \n",
    "                if all(rule_applied):\n",
    "                    rule.column.add(i)\n",
    "    \n",
    "        self.rules = sorted(self.rules, key=lambda x: x.column)\n",
    "        \n",
    "        \n",
    "    def reduce_rules(self):\n",
    "        \n",
    "        for i, rule in enumerate(self.rules[:-1]):\n",
    "            \n",
    "            value = next(iter(rule.column))\n",
    "            \n",
    "            rule.column = value\n",
    "            \n",
    "            for other_rule in self.rules[i+1:]:\n",
    "                \n",
    "                other_rule.column.remove(value)\n",
    "            \n",
    "        last_rule = self.rules[-1]\n",
    "        \n",
    "        last_rule.column = next(iter(last_rule.column))\n",
    "                \n",
    "            \n",
    "            \n",
    "    def score_ticket(self, ticket):\n",
    "        \n",
    "        \n",
    "        values = list(map(int, ticket.split(',')))\n",
    "        \n",
    "        self.sort_rules(ticket)\n",
    "        self.reduce_rules()\n",
    "        \n",
    "        \n",
    "        return reduce(lambda a,b: a*b, [values[rule.column] for rule in self.departure_rules])\n",
    "    \n",
    "                    \n",
    "    def get_column(self, i):\n",
    "        \n",
    "        \n",
    "        return [x[i] for x in self.valid_tickets]\n",
    "    \n",
    "    \n",
    "    def check_ticket(self, ticket):\n",
    "        \n",
    "        for value in ticket.split(','):\n",
    "            \n",
    "            value = int(value)\n",
    "            \n",
    "            if all([x.check_bad(value) for x in self.rules]):\n",
    "                return\n",
    "            \n",
    "        return ticket\n",
    "    \n",
    "    def check_tickets(self, tickets):\n",
    "        \n",
    "        \n",
    "        valid_tickets = list()\n",
    "        \n",
    "        for ticket in tickets:\n",
    "        \n",
    "            valid_ticket = self.check_ticket(ticket)\n",
    "            \n",
    "            if valid_ticket:\n",
    "                \n",
    "                valid_tickets.append(list(map(int, valid_ticket.split(','))))\n",
    "        \n",
    "        self.valid_tickets = valid_tickets\n",
    "        "
   ]
  },
  {
   "cell_type": "code",
   "execution_count": 158,
   "id": "17d0ada1-ae93-4b0a-8dec-189398810f4c",
   "metadata": {},
   "outputs": [],
   "source": [
    "validator = TicketPropertyFinder(rules.splitlines())"
   ]
  },
  {
   "cell_type": "code",
   "execution_count": 159,
   "id": "eb3b3f99-5d77-4fa1-8a1e-83a278cf6ea8",
   "metadata": {},
   "outputs": [],
   "source": [
    "validator.check_tickets(other_tickets.splitlines()[1:])"
   ]
  },
  {
   "cell_type": "code",
   "execution_count": 160,
   "id": "4419cd2d-b755-4f6f-ba68-430cbcbf31ae",
   "metadata": {},
   "outputs": [
    {
     "data": {
      "text/plain": [
       "1265347500049"
      ]
     },
     "execution_count": 160,
     "metadata": {},
     "output_type": "execute_result"
    }
   ],
   "source": [
    "validator.score_ticket(my_ticket.splitlines()[1])"
   ]
  },
  {
   "cell_type": "markdown",
   "id": "d096b4ac-7a8e-4a8d-9df4-b2e6cbd9056f",
   "metadata": {},
   "source": [
    "# Day 17"
   ]
  },
  {
   "cell_type": "code",
   "execution_count": 15,
   "id": "e057202a-d777-49d5-a7f8-9ecf698ba4ff",
   "metadata": {
    "ExecuteTime": {
     "end_time": "2023-11-07T21:22:39.553954Z",
     "start_time": "2023-11-07T21:22:39.453763Z"
    }
   },
   "outputs": [],
   "source": [
    "raw_data = aoc.get_data(2020, 17)"
   ]
  },
  {
   "cell_type": "code",
   "execution_count": 7,
   "id": "d1745b04-cac9-430a-8007-162e54775c4d",
   "metadata": {
    "ExecuteTime": {
     "end_time": "2023-11-07T21:21:58.704081Z",
     "start_time": "2023-11-07T21:21:58.669433Z"
    }
   },
   "outputs": [],
   "source": [
    "class Field:\n",
    "    \n",
    "    def __init__(self, input_field):\n",
    "        \n",
    "        width = len(input_field.splitlines()[0])\n",
    "        height = len(input_field.splitlines())\n",
    "        \n",
    "        values = np.fromstring(','.join(input_field.replace('\\n', '')).replace('.', '0').replace('#', '1'), sep=',', dtype=int).reshape((width,height))\n",
    "        \n",
    "        self.image = np.zeros((len(values[0]),len(values), 1), dtype=int)\n",
    "        self.image[:,:, 0] = values\n",
    "        self.kernel = np.ones((3,3,3), dtype=int)\n",
    "        self.kernel[1,1,1] = 0\n",
    "\n",
    "    def iterate(self):\n",
    "        \n",
    "        self.image = np.pad(self.image, 1, mode='constant', constant_values=0)\n",
    "        \n",
    "        convolution = convolve(self.image, self.kernel, mode='constant', cval=0)\n",
    "        \n",
    "        three_neigbhors = convolution == 3\n",
    "        two_neigbhors = convolution == 2\n",
    "        \n",
    "        remain_lit = (three_neigbhors ^ two_neigbhors) & (self.image == 1)\n",
    "        light_up = three_neigbhors & (self.image == 0)\n",
    "        \n",
    "        self.image = np.zeros(self.image.shape, dtype=int) + remain_lit + light_up\n",
    "        \n",
    "    def simulate(self, steps=6):\n",
    "        \n",
    "        for i in range(steps):\n",
    "            self.iterate()\n",
    "            \n",
    "    def count_lit(self):\n",
    "        return self.image.sum()"
   ]
  },
  {
   "cell_type": "code",
   "execution_count": 8,
   "id": "8b32f404-4fac-47ea-81cb-0383d624475d",
   "metadata": {
    "ExecuteTime": {
     "end_time": "2023-11-07T21:21:59.520899Z",
     "start_time": "2023-11-07T21:21:59.486451Z"
    }
   },
   "outputs": [],
   "source": [
    "field = Field(raw_data)"
   ]
  },
  {
   "cell_type": "code",
   "execution_count": 9,
   "id": "c48b198f-4c23-4b9a-9047-18d2d61f3cc5",
   "metadata": {
    "ExecuteTime": {
     "end_time": "2023-11-07T21:22:00.210650Z",
     "start_time": "2023-11-07T21:22:00.177587Z"
    }
   },
   "outputs": [],
   "source": [
    "field.simulate(6)"
   ]
  },
  {
   "cell_type": "code",
   "execution_count": 10,
   "id": "23c0e0c7-11fd-47ce-a033-df9d18db8f2f",
   "metadata": {
    "ExecuteTime": {
     "end_time": "2023-11-07T21:22:01.185022Z",
     "start_time": "2023-11-07T21:22:01.146702Z"
    }
   },
   "outputs": [
    {
     "data": {
      "text/plain": "395"
     },
     "execution_count": 10,
     "metadata": {},
     "output_type": "execute_result"
    }
   ],
   "source": [
    "field.count_lit()"
   ]
  },
  {
   "cell_type": "code",
   "execution_count": 16,
   "id": "4cdda8d0-49d7-446f-9e19-ce6883fadc2b",
   "metadata": {
    "ExecuteTime": {
     "end_time": "2023-11-07T21:24:00.461482Z",
     "start_time": "2023-11-07T21:24:00.418574Z"
    }
   },
   "outputs": [],
   "source": [
    "class Tesseract(Field):\n",
    "    \n",
    "    def __init__(self, input_field):\n",
    "\n",
    "        width = len(input_field.splitlines()[0])\n",
    "        height = len(input_field.splitlines())\n",
    "        \n",
    "        values = np.fromstring(','.join(input_field.replace('\\n', '')).replace('.', '0').replace('#', '1'), sep=',', dtype=int).reshape((width,height))\n",
    "        \n",
    "        self.image = np.zeros((len(values[0]),len(values), 1, 1), dtype=int)\n",
    "        self.image[:,:, 0, 0] = values\n",
    "        self.kernel = np.ones((3,3,3,3), dtype=int)\n",
    "        self.kernel[1,1,1,1] = 0"
   ]
  },
  {
   "cell_type": "code",
   "execution_count": 17,
   "id": "e1466165-ae22-4016-aa1f-71fc54d7cf02",
   "metadata": {
    "ExecuteTime": {
     "end_time": "2023-11-07T21:24:01.070762Z",
     "start_time": "2023-11-07T21:24:01.039453Z"
    }
   },
   "outputs": [],
   "source": [
    "tesseract = Tesseract(raw_data)"
   ]
  },
  {
   "cell_type": "code",
   "execution_count": 18,
   "id": "2e573e8a-3c6d-4b4c-a658-5cc747bba76b",
   "metadata": {
    "ExecuteTime": {
     "end_time": "2023-11-07T21:24:01.298655Z",
     "start_time": "2023-11-07T21:24:01.249121Z"
    }
   },
   "outputs": [],
   "source": [
    "tesseract.simulate(6)"
   ]
  },
  {
   "cell_type": "code",
   "execution_count": 19,
   "id": "1e76106b-6a6b-4906-834e-ee11f70f3d7a",
   "metadata": {
    "ExecuteTime": {
     "end_time": "2023-11-07T21:24:02.861642Z",
     "start_time": "2023-11-07T21:24:02.779079Z"
    }
   },
   "outputs": [
    {
     "data": {
      "text/plain": "2296"
     },
     "execution_count": 19,
     "metadata": {},
     "output_type": "execute_result"
    }
   ],
   "source": [
    "tesseract.count_lit()"
   ]
  },
  {
   "cell_type": "markdown",
   "source": [
    "# Day 18"
   ],
   "metadata": {
    "collapsed": false
   },
   "id": "f9598feaac77828a"
  },
  {
   "cell_type": "code",
   "execution_count": 2,
   "outputs": [],
   "source": [
    "raw_data = aoc.get_data(2020, 18)"
   ],
   "metadata": {
    "collapsed": false,
    "ExecuteTime": {
     "end_time": "2023-11-17T00:42:35.655179Z",
     "start_time": "2023-11-17T00:42:35.397653Z"
    }
   },
   "id": "c0572009951ced81"
  },
  {
   "cell_type": "code",
   "execution_count": 94,
   "outputs": [],
   "source": [
    "class EqualEvaluator:\n",
    "\n",
    "    def split_equation(self, equation):\n",
    "        \n",
    "        return re.findall('[0-9+*]+|[()]', equation)\n",
    "        \n",
    "    def gobble(self, equation):\n",
    "        \n",
    "        if equation[0] in '+*()':\n",
    "            return equation\n",
    "        \n",
    "        values = re.findall('\\d+|[*+]', equation)\n",
    "        \n",
    "        while len(values) > 2:\n",
    "           \n",
    "            left = values.pop(0)\n",
    "            operator = values.pop(0)\n",
    "            right = values.pop(0)\n",
    "            \n",
    "            evaluation = eval(f\"{left}{operator}{right}\")\n",
    "            \n",
    "            values.insert(0, f\"{evaluation}\")\n",
    "        \n",
    "        return ''.join(values)\n",
    "            \n",
    "    def reduce_equation(self, equation):\n",
    "        \n",
    "        equation = equation.replace(\" \", \"\")\n",
    "        \n",
    "        while not re.match('^\\d+$', equation):\n",
    "            \n",
    "            split = self.split_equation(equation)\n",
    "            \n",
    "            equation = ''.join(map(self.gobble, split))\n",
    "            \n",
    "            equation = re.sub('\\((\\d+)\\)', lambda match: match.group(1), equation)\n",
    "            \n",
    "        return int(equation)\n",
    "    \n",
    "    def evaluate(self, equations):\n",
    "        return sum(map(self.reduce_equation, equations))"
   ],
   "metadata": {
    "collapsed": false,
    "ExecuteTime": {
     "end_time": "2023-11-17T02:12:32.574998Z",
     "start_time": "2023-11-17T02:12:32.510289Z"
    }
   },
   "id": "8be1ede67910a974"
  },
  {
   "cell_type": "code",
   "execution_count": 95,
   "outputs": [
    {
     "data": {
      "text/plain": "1408133923393"
     },
     "execution_count": 95,
     "metadata": {},
     "output_type": "execute_result"
    }
   ],
   "source": [
    "evaluator = EqualEvaluator()\n",
    "evaluator.evaluate(raw_data.splitlines())"
   ],
   "metadata": {
    "collapsed": false,
    "ExecuteTime": {
     "end_time": "2023-11-17T02:12:33.299484Z",
     "start_time": "2023-11-17T02:12:33.261464Z"
    }
   },
   "id": "4149cc8d43b96278"
  },
  {
   "cell_type": "code",
   "execution_count": 96,
   "outputs": [],
   "source": [
    "class AdditionFirstEvaluator(EqualEvaluator):\n",
    "\n",
    "    def wrap_addition(self, equation):\n",
    "        return re.sub('(\\d+\\+\\d+)', lambda match: f\"({match.group(1)})\", equation)\n",
    "    \n",
    "    def reduce_equation(self, equation):\n",
    "        \n",
    "        equation = equation.replace(\" \", '')\n",
    "        \n",
    "        while not re.match('^\\d+$', equation):\n",
    "            \n",
    "            equation = self.wrap_addition(equation)\n",
    "            \n",
    "            split = self.split_equation(equation)\n",
    "            \n",
    "            equation = ''.join(map(self.gobble, split))\n",
    "            \n",
    "            equation = re.sub('\\((\\d+)\\)', lambda match: match.group(1), equation)\n",
    "            \n",
    "        return int(equation)\n",
    "            \n",
    "    def gobble(self, equation):\n",
    "        \n",
    "        if equation[-1] in '+*':\n",
    "            return equation\n",
    "        \n",
    "        return super().gobble(equation)\n",
    "\n",
    "        \n"
   ],
   "metadata": {
    "collapsed": false,
    "ExecuteTime": {
     "end_time": "2023-11-17T02:12:34.078006Z",
     "start_time": "2023-11-17T02:12:34.022865Z"
    }
   },
   "id": "90b1dcbf9f582fd"
  },
  {
   "cell_type": "code",
   "execution_count": 97,
   "outputs": [
    {
     "data": {
      "text/plain": "314455761823725"
     },
     "execution_count": 97,
     "metadata": {},
     "output_type": "execute_result"
    }
   ],
   "source": [
    "evaluator = AdditionFirstEvaluator()\n",
    "evaluator.evaluate(raw_data.splitlines())"
   ],
   "metadata": {
    "collapsed": false,
    "ExecuteTime": {
     "end_time": "2023-11-17T02:12:35.119557Z",
     "start_time": "2023-11-17T02:12:35.076323Z"
    }
   },
   "id": "21169baebef2a0ce"
  },
  {
   "cell_type": "markdown",
   "source": [
    "# Day 19"
   ],
   "metadata": {
    "collapsed": false
   },
   "id": "12cbbb3cc1919f48"
  },
  {
   "cell_type": "code",
   "execution_count": 2,
   "outputs": [],
   "source": [
    "raw_data = aoc.get_data(2020,19)"
   ],
   "metadata": {
    "collapsed": false,
    "ExecuteTime": {
     "end_time": "2023-12-15T14:34:18.791344Z",
     "start_time": "2023-12-15T14:34:18.705823Z"
    }
   },
   "id": "75329c538f49e998"
  },
  {
   "cell_type": "code",
   "execution_count": 71,
   "outputs": [],
   "source": [
    "class MessageValidator:\n",
    "    \n",
    "    def __init__(self, text_rules):\n",
    "        \n",
    "        self.rules = dict()\n",
    "        \n",
    "        for rule in text_rules.splitlines():\n",
    "            \n",
    "            rule_index, rule_values = rule.split(':')\n",
    "            \n",
    "            self.rules[rule_index] = rule_values.strip().replace('\"', '').split(' ')\n",
    "            \n",
    "        self.valid_strings = self.make_valid_strings()\n",
    "    \n",
    "    def make_valid_strings(self):\n",
    "        \n",
    "        return \"^\" + \"\".join(map(self.reduce_rule, self.rules['0'])) + \"$\"\n",
    "        \n",
    "        \n",
    "    def reduce_rule(self, element):\n",
    "        \n",
    "        next_rule = self.rules.get(element)\n",
    "        \n",
    "        if next_rule is None:\n",
    "            return element\n",
    "        \n",
    "        resolved = ''.join(map(self.reduce_rule, next_rule))\n",
    "        \n",
    "        if '|' in resolved:\n",
    "            return '(?:' + resolved + ')'\n",
    "        \n",
    "        else: \n",
    "            return resolved\n",
    "        \n",
    "        \n",
    "    def validate_message(self, message):\n",
    "        \n",
    "        match = re.match(self.valid_strings, message)\n",
    "        \n",
    "        if match:\n",
    "            return True\n",
    "        \n",
    "        else:\n",
    "            return False\n",
    "        \n",
    "    def count_valid_messages(self, messages):\n",
    "        \n",
    "        return sum(map(self.validate_message, messages.splitlines()))"
   ],
   "metadata": {
    "collapsed": false,
    "ExecuteTime": {
     "end_time": "2023-12-15T15:08:59.749715Z",
     "start_time": "2023-12-15T15:08:59.714793Z"
    }
   },
   "id": "c7440f7077a166e8"
  },
  {
   "cell_type": "code",
   "execution_count": 132,
   "outputs": [],
   "source": [
    "validator = MessageValidator(\"\"\"0: 4 1 5\n",
    "1: 2 3 | 3 2\n",
    "2: 4 4 | 5 5\n",
    "3: 4 5 | 5 4\n",
    "4: \"a\"\n",
    "5: \"b\"\"\")"
   ],
   "metadata": {
    "collapsed": false,
    "ExecuteTime": {
     "end_time": "2023-12-15T17:17:15.374682Z",
     "start_time": "2023-12-15T17:17:15.301100Z"
    }
   },
   "id": "7d64ff157341d6e2"
  },
  {
   "cell_type": "code",
   "execution_count": 133,
   "outputs": [
    {
     "data": {
      "text/plain": "'a(?:(?:aa|bb)(?:ab|ba)|(?:ab|ba)(?:aa|bb))b$'"
     },
     "execution_count": 133,
     "metadata": {},
     "output_type": "execute_result"
    }
   ],
   "source": [
    "validator.valid_strings"
   ],
   "metadata": {
    "collapsed": false,
    "ExecuteTime": {
     "end_time": "2023-12-15T17:17:38.122372Z",
     "start_time": "2023-12-15T17:17:38.071214Z"
    }
   },
   "id": "de3eb41b2379060d"
  },
  {
   "cell_type": "code",
   "execution_count": 87,
   "outputs": [
    {
     "data": {
      "text/plain": "2"
     },
     "execution_count": 87,
     "metadata": {},
     "output_type": "execute_result"
    }
   ],
   "source": [
    "validator.count_valid_messages(\"\"\"ababbb\n",
    "bababa\n",
    "abbbab\n",
    "aaabbb\n",
    "aaaabbb\"\"\")"
   ],
   "metadata": {
    "collapsed": false,
    "ExecuteTime": {
     "end_time": "2023-12-15T15:30:42.487022Z",
     "start_time": "2023-12-15T15:30:42.421177Z"
    }
   },
   "id": "f422da6cff4b276a"
  },
  {
   "cell_type": "code",
   "execution_count": 88,
   "outputs": [],
   "source": [
    "rules, messages = raw_data.split('\\n\\n')"
   ],
   "metadata": {
    "collapsed": false,
    "ExecuteTime": {
     "end_time": "2023-12-15T15:31:49.377461Z",
     "start_time": "2023-12-15T15:31:49.324658Z"
    }
   },
   "id": "47270a8d7a15530d"
  },
  {
   "cell_type": "code",
   "execution_count": 89,
   "outputs": [],
   "source": [
    "validator = MessageValidator(rules)"
   ],
   "metadata": {
    "collapsed": false,
    "ExecuteTime": {
     "end_time": "2023-12-15T15:31:53.406419Z",
     "start_time": "2023-12-15T15:31:53.346991Z"
    }
   },
   "id": "59a8a482e972a5b0"
  },
  {
   "cell_type": "code",
   "execution_count": 90,
   "outputs": [
    {
     "data": {
      "text/plain": "'(?:(?:a(?:(?:b(?:a(?:(?:a(?:ba|ab)|b(?:bb|aa))b|(?:a(?:aa|b(?:a|b))|bba)a)|b(?:(?:bab|(?:a(?:a|b)|ba)a)b|(?:baa|(?:aa|ba)b)a))|a(?:(?:b(?:bab|(?:a(?:a|b)|ba)a)|a(?:(?:aa|b(?:a|b))a|(?:(?:a|b)(?:a|b))b))b|(?:(?:a(?:ab|aa)|b(?:ab|bb))a|(?:baa|bab)b)a))b|(?:a(?:a(?:(?:b(?:aa|ba))a|(?:b(?:a(?:a|b)|ba)|aaa)b)|b(?:b(?:a(?:aa|ba)|b(?:ba|ab))|a(?:bba|aaa)))|b(?:(?:a(?:(?:(?:a|b)(?:a|b))b|(?:bb|aa)a)|b(?:(?:a|b)(?:aa|ba)))b|(?:b(?:(?:ab|bb)b|(?:(?:a|b)(?:a|b))a)|a(?:bab|(?:a(?:a|b)|ba)a))a))a)|b(?:(?:a(?:(?:b(?:a(?:aa|b(?:a|b))|b(?:aa|(?:a|b)b))|a(?:aba|b(?:aa|(?:a|b)b)))a|(?:b(?:aba|b(?:aa|(?:a|b)b))|a(?:(?:a|b)(?:ab|bb)))b)|b(?:b(?:(?:a(?:aa|b(?:a|b))|b(?:aa|(?:a|b)b))b|(?:(?:aa|ba)b|(?:a(?:a|b)|ba)a)a)|a(?:b(?:b(?:aa|ba)|a(?:ba|bb))|a(?:b(?:a(?:a|b)|ba)|aaa))))a|(?:b(?:a(?:(?:a|b)(?:b(?:ab|bb)|aba))|b(?:a(?:aba|b(?:ab|aa))|b(?:(?:aa|ba)b)))|a(?:b(?:a(?:(?:ab|aa)b|(?:ba|bb)a)|b(?:b(?:bb|aa)))|a(?:(?:a(?:aa|b(?:a|b))|b(?:ab|bb))a|(?:b(?:aa|b(?:a|b))|a(?:ab|bb))b)))b)))(?:(?:a(?:(?:b(?:a(?:(?:a(?:ba|ab)|b(?:bb|aa))b|(?:a(?:aa|b(?:a|b))|bba)a)|b(?:(?:bab|(?:a(?:a|b)|ba)a)b|(?:baa|(?:aa|ba)b)a))|a(?:(?:b(?:bab|(?:a(?:a|b)|ba)a)|a(?:(?:aa|b(?:a|b))a|(?:(?:a|b)(?:a|b))b))b|(?:(?:a(?:ab|aa)|b(?:ab|bb))a|(?:baa|bab)b)a))b|(?:a(?:a(?:(?:b(?:aa|ba))a|(?:b(?:a(?:a|b)|ba)|aaa)b)|b(?:b(?:a(?:aa|ba)|b(?:ba|ab))|a(?:bba|aaa)))|b(?:(?:a(?:(?:(?:a|b)(?:a|b))b|(?:bb|aa)a)|b(?:(?:a|b)(?:aa|ba)))b|(?:b(?:(?:ab|bb)b|(?:(?:a|b)(?:a|b))a)|a(?:bab|(?:a(?:a|b)|ba)a))a))a)|b(?:(?:a(?:(?:b(?:a(?:aa|b(?:a|b))|b(?:aa|(?:a|b)b))|a(?:aba|b(?:aa|(?:a|b)b)))a|(?:b(?:aba|b(?:aa|(?:a|b)b))|a(?:(?:a|b)(?:ab|bb)))b)|b(?:b(?:(?:a(?:aa|b(?:a|b))|b(?:aa|(?:a|b)b))b|(?:(?:aa|ba)b|(?:a(?:a|b)|ba)a)a)|a(?:b(?:b(?:aa|ba)|a(?:ba|bb))|a(?:b(?:a(?:a|b)|ba)|aaa))))a|(?:b(?:a(?:(?:a|b)(?:b(?:ab|bb)|aba))|b(?:a(?:aba|b(?:ab|aa))|b(?:(?:aa|ba)b)))|a(?:b(?:a(?:(?:ab|aa)b|(?:ba|bb)a)|b(?:b(?:bb|aa)))|a(?:(?:a(?:aa|b(?:a|b))|b(?:ab|bb))a|(?:b(?:aa|b(?:a|b))|a(?:ab|bb))b)))b))(?:b(?:(?:a(?:a(?:a(?:a(?:ba|ab)|bab)|b(?:(?:aa|ba)a|abb))|b(?:(?:b(?:aa|(?:a|b)b)|a(?:ab|aa))a|(?:b(?:a(?:a|b)|ba)|a(?:ba|bb))b))|b(?:a(?:(?:(?:ab|bb)b|(?:(?:a|b)(?:a|b))a)a|(?:(?:a|b)(?:ab|aa))b)|b(?:a(?:a(?:aa|(?:a|b)b)|b(?:ba|bb))|b(?:(?:ab|bb)b|(?:(?:a|b)(?:a|b))a))))b|(?:(?:(?:(?:baa|a(?:aa|ba))a|(?:(?:bb|aa)a|bbb)b)b|(?:a(?:(?:ab|bb)b|aaa)|b(?:bbb|aba))a)a|(?:b(?:a(?:b(?:aa|b(?:a|b))|a(?:aa|(?:a|b)b))|b(?:bba|aab))|a(?:b(?:bba|a(?:aa|(?:a|b)b))|a(?:(?:a|b)(?:aa|ba))))b)a)|a(?:(?:b(?:b(?:(?:b(?:ba|bb)|a(?:aa|b(?:a|b)))a|(?:a(?:ab|bb)|b(?:ba|bb))b)|a(?:(?:(?:aa|b(?:a|b))b|baa)a|(?:(?:ba|ab)b|(?:bb|aa)a)b))|a(?:(?:(?:b(?:ba|bb)|a(?:(?:a|b)(?:a|b)))b|(?:b(?:aa|ba)|a(?:ba|bb))a)a|(?:aaba|b(?:a(?:ab|bb)|b(?:ba|bb)))b))b|(?:(?:a(?:(?:a(?:ab|aa)|b(?:ab|bb))a|(?:(?:ab|aa)b|(?:a(?:a|b)|ba)a)b)|b(?:b(?:(?:aa|ba)b)|a(?:a(?:ab|bb)|b(?:ba|bb))))a|(?:(?:(?:baa|a(?:aa|ba))b|(?:a(?:ba|bb)|bab)a)a|(?:b(?:(?:ba|bb)(?:a|b))|a(?:(?:aa|b(?:a|b))a|(?:(?:a|b)(?:a|b))b))b)b)a)))$'"
     },
     "execution_count": 90,
     "metadata": {},
     "output_type": "execute_result"
    }
   ],
   "source": [
    "validator.valid_strings"
   ],
   "metadata": {
    "collapsed": false,
    "ExecuteTime": {
     "end_time": "2023-12-15T15:31:54.338998Z",
     "start_time": "2023-12-15T15:31:54.288133Z"
    }
   },
   "id": "376a66227e226b8"
  },
  {
   "cell_type": "code",
   "execution_count": 91,
   "outputs": [
    {
     "data": {
      "text/plain": "182"
     },
     "execution_count": 91,
     "metadata": {},
     "output_type": "execute_result"
    }
   ],
   "source": [
    "validator.count_valid_messages(messages)"
   ],
   "metadata": {
    "collapsed": false,
    "ExecuteTime": {
     "end_time": "2023-12-15T15:32:00.657985Z",
     "start_time": "2023-12-15T15:32:00.610900Z"
    }
   },
   "id": "41f5c6226573cc36"
  },
  {
   "cell_type": "markdown",
   "source": [
    "# Day 20"
   ],
   "metadata": {
    "collapsed": false
   },
   "id": "fe382a5cdf907fa4"
  },
  {
   "cell_type": "code",
   "execution_count": 92,
   "outputs": [],
   "source": [
    "raw_data = aoc.get_data(2020, 20)"
   ],
   "metadata": {
    "collapsed": false,
    "ExecuteTime": {
     "end_time": "2023-12-15T15:35:13.194526Z",
     "start_time": "2023-12-15T15:35:13.065228Z"
    }
   },
   "id": "62290493d8ecf593"
  },
  {
   "cell_type": "code",
   "execution_count": 125,
   "outputs": [],
   "source": [
    "class Picture:\n",
    "    \n",
    "    def __init__(self, data):\n",
    "        self.tiles = [Tile(x) for x in data.strip().split('\\n\\n')]\n",
    "        \n",
    "        self.datum = self.tiles[0]\n",
    "        \n",
    "        self.datum.position = np.array([0,0])\n",
    "\n",
    "    def sort_tiles(self):\n",
    "        \n",
    "        while self.unsorted():\n",
    "            \n",
    "            for unsorted_tile, sorted_tile in itertools.product(self.unsorted(), self.sorted()):\n",
    "                \n",
    "                top, bottom, left, right = sorted_tile.get_edges()\n",
    "                \n",
    "                \n",
    "                \n",
    "            \n",
    "            \n",
    "    def unsorted(self):\n",
    "        return [x for x in self.tiles if not x.position]\n",
    "    \n",
    "    def sorted(self):\n",
    "        return [x for x in self.tiles if x.position]\n",
    "        \n",
    "class Tile:\n",
    "    \n",
    "    def __init__(self, data):\n",
    "        \n",
    "        id, *image = data.splitlines()\n",
    "        \n",
    "        self.id = int(re.match('Tile (\\d+):', id).group(1))\n",
    "        \n",
    "        image = '\\n'.join(image)\n",
    "        \n",
    "        width = len(image.splitlines()[0])\n",
    "        height = len(image.splitlines())\n",
    "        \n",
    "        self.image = np.fromstring(','.join(image.replace('\\n', '')).replace('.', '0').replace('#', '1'), sep=',', dtype=int).reshape((width,height))\n",
    "            \n",
    "        self.position = None\n",
    "\n",
    "    def get_edges(self):\n",
    "        # top, bottom, left, right\n",
    "        return self.image[0, :], self.image[-1, :], self.image[: , 0], self.image[: , -1]\n",
    "        \n",
    "\n",
    "    def rotate(self):\n",
    "        self.image = np.rot90(self.image)\n",
    "\n",
    "    def flip(self):\n",
    "        \n",
    "        self.image = np.flipud(self.image)\n",
    "\n",
    "    def __repr__(self):\n",
    "        return f\"Tile {self.id}\"\n",
    "        \n",
    "        "
   ],
   "metadata": {
    "collapsed": false,
    "ExecuteTime": {
     "end_time": "2023-12-15T16:32:19.422541Z",
     "start_time": "2023-12-15T16:32:19.360453Z"
    }
   },
   "id": "66ef6482a3358694"
  },
  {
   "cell_type": "code",
   "execution_count": 126,
   "outputs": [],
   "source": [
    "picture = Picture(raw_data)"
   ],
   "metadata": {
    "collapsed": false,
    "ExecuteTime": {
     "end_time": "2023-12-15T16:32:21.966541Z",
     "start_time": "2023-12-15T16:32:21.912399Z"
    }
   },
   "id": "d4969ea6c0f250ea"
  },
  {
   "cell_type": "code",
   "execution_count": 127,
   "outputs": [
    {
     "data": {
      "text/plain": "(array([0, 0, 0, 1, 0, 0, 0, 0, 0, 0]),\n array([0, 0, 0, 0, 0, 1, 0, 0, 0, 1]),\n array([0, 1, 1, 1, 0, 1, 1, 1, 0, 0]),\n array([0, 1, 0, 0, 0, 0, 0, 0, 0, 1]))"
     },
     "execution_count": 127,
     "metadata": {},
     "output_type": "execute_result"
    }
   ],
   "source": [
    "picture.tiles[0].get_edges()"
   ],
   "metadata": {
    "collapsed": false,
    "ExecuteTime": {
     "end_time": "2023-12-15T16:32:31.302570Z",
     "start_time": "2023-12-15T16:32:31.270274Z"
    }
   },
   "id": "13ef1c576771406"
  },
  {
   "cell_type": "code",
   "execution_count": 128,
   "outputs": [
    {
     "data": {
      "text/plain": "array([[0, 0, 0, 1, 0, 0, 0, 0, 0, 0],\n       [1, 0, 0, 1, 0, 0, 1, 0, 1, 1],\n       [1, 1, 0, 0, 0, 0, 0, 0, 0, 0],\n       [1, 0, 1, 0, 0, 0, 0, 0, 0, 0],\n       [0, 0, 0, 0, 0, 0, 0, 0, 0, 0],\n       [1, 0, 0, 0, 1, 1, 1, 0, 0, 0],\n       [1, 0, 0, 1, 0, 0, 0, 0, 0, 0],\n       [1, 0, 0, 0, 1, 1, 0, 0, 0, 0],\n       [0, 0, 0, 0, 0, 0, 0, 0, 0, 0],\n       [0, 0, 0, 0, 0, 1, 0, 0, 0, 1]])"
     },
     "execution_count": 128,
     "metadata": {},
     "output_type": "execute_result"
    }
   ],
   "source": [
    "picture.tiles[0].image"
   ],
   "metadata": {
    "collapsed": false,
    "ExecuteTime": {
     "end_time": "2023-12-15T16:33:17.776322Z",
     "start_time": "2023-12-15T16:33:17.674545Z"
    }
   },
   "id": "b1880ebcdb15ffa4"
  },
  {
   "cell_type": "code",
   "execution_count": 131,
   "outputs": [
    {
     "data": {
      "text/plain": "[]"
     },
     "execution_count": 131,
     "metadata": {},
     "output_type": "execute_result"
    }
   ],
   "source": [
    "list(itertools.product('ab', ''))\n",
    "    \n",
    "    "
   ],
   "metadata": {
    "collapsed": false,
    "ExecuteTime": {
     "end_time": "2023-12-15T16:48:33.068664Z",
     "start_time": "2023-12-15T16:48:33.038370Z"
    }
   },
   "id": "305fc97e2f7a11c0"
  },
  {
   "cell_type": "code",
   "execution_count": null,
   "outputs": [],
   "source": [],
   "metadata": {
    "collapsed": false
   },
   "id": "9fe0a981bb66d601"
  }
 ],
 "metadata": {
  "kernelspec": {
   "display_name": "Python 3 (ipykernel)",
   "language": "python",
   "name": "python3"
  },
  "language_info": {
   "codemirror_mode": {
    "name": "ipython",
    "version": 3
   },
   "file_extension": ".py",
   "mimetype": "text/x-python",
   "name": "python",
   "nbconvert_exporter": "python",
   "pygments_lexer": "ipython3",
   "version": "3.10.11"
  }
 },
 "nbformat": 4,
 "nbformat_minor": 5
}
