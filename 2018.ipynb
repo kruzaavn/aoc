{
 "cells": [
  {
   "cell_type": "code",
   "execution_count": 1,
   "id": "b2e3101e-6a6b-43b5-bc20-535f67d9a7d6",
   "metadata": {},
   "outputs": [],
   "source": [
    "import aoc\n",
    "import re\n",
    "import itertools\n",
    "import numpy as np\n",
    "from datetime import datetime, timedelta"
   ]
  },
  {
   "cell_type": "markdown",
   "id": "f0f5a572-623a-4a75-99d9-1bbec80c1c94",
   "metadata": {},
   "source": [
    "# Day 2"
   ]
  },
  {
   "cell_type": "code",
   "execution_count": 9,
   "id": "b68989ca-4ce7-4124-9cef-a78d39bdfa4d",
   "metadata": {},
   "outputs": [],
   "source": [
    "raw_data = aoc.get_data(2018, 2)"
   ]
  },
  {
   "cell_type": "code",
   "execution_count": 10,
   "id": "af9b44fe-f8b7-4c27-9ae6-b9842850d893",
   "metadata": {},
   "outputs": [],
   "source": [
    "data = raw_data.splitlines()"
   ]
  },
  {
   "cell_type": "code",
   "execution_count": 11,
   "id": "189804ea-e287-44ea-83a8-b60bc80d2c36",
   "metadata": {},
   "outputs": [],
   "source": [
    "def get_count_checksum(box_id, number):\n",
    "    \n",
    "    letters = set(box_id)\n",
    "    \n",
    "    for letter in letters:\n",
    "        \n",
    "        if len(re.findall(letter, box_id)) == number:\n",
    "        \n",
    "            return True\n",
    "        \n",
    "    return False\n",
    "\n"
   ]
  },
  {
   "cell_type": "code",
   "execution_count": 12,
   "id": "60a531b9-03bf-4649-9106-320a70a166b4",
   "metadata": {},
   "outputs": [
    {
     "data": {
      "text/plain": [
       "248"
      ]
     },
     "execution_count": 12,
     "metadata": {},
     "output_type": "execute_result"
    }
   ],
   "source": [
    "sum(map(get_count_checksum, data, [2] * len(data)))"
   ]
  },
  {
   "cell_type": "code",
   "execution_count": 13,
   "id": "71080f3b-a67b-4010-ba9d-53b4ff0f2119",
   "metadata": {},
   "outputs": [
    {
     "data": {
      "text/plain": [
       "24"
      ]
     },
     "execution_count": 13,
     "metadata": {},
     "output_type": "execute_result"
    }
   ],
   "source": [
    "sum(map(get_count_checksum, data, [3] * len(data)))"
   ]
  },
  {
   "cell_type": "code",
   "execution_count": 14,
   "id": "35c47623-f82e-464b-b945-27a9ec8e00c4",
   "metadata": {},
   "outputs": [
    {
     "data": {
      "text/plain": [
       "5952"
      ]
     },
     "execution_count": 14,
     "metadata": {},
     "output_type": "execute_result"
    }
   ],
   "source": [
    "24 * 248"
   ]
  },
  {
   "cell_type": "code",
   "execution_count": 25,
   "id": "17346ae5-1b9b-415b-bf0b-95d213cd9352",
   "metadata": {},
   "outputs": [],
   "source": [
    "def compare_ids(id1, id2):\n",
    "        \n",
    "        comparisson = list(map(lambda x: x[0] != x[1], zip(id1, id2)))\n",
    "        \n",
    "        if sum(comparisson) == 1:\n",
    "            \n",
    "            return ''.join([id1[i] for i, x in enumerate(comparisson) if not x])\n",
    "\n",
    "        \n",
    "def find_id(data):\n",
    "    \n",
    "    found = None\n",
    "    \n",
    "    permutations = itertools.permutations(data, 2)\n",
    "    \n",
    "    while not found:\n",
    "        \n",
    "        id1, id2 = next(permutations)\n",
    "        \n",
    "        found = compare_ids(id1, id2)\n",
    "    \n",
    "    return found\n",
    "    "
   ]
  },
  {
   "cell_type": "code",
   "execution_count": 26,
   "id": "ba53f9be-3968-4189-b5ed-18e66092034a",
   "metadata": {},
   "outputs": [
    {
     "data": {
      "text/plain": [
       "'krdmtuqjgwfoevnaboxglzjph'"
      ]
     },
     "execution_count": 26,
     "metadata": {},
     "output_type": "execute_result"
    }
   ],
   "source": [
    "find_id(data)"
   ]
  },
  {
   "cell_type": "markdown",
   "id": "fc080d2c-baca-40b9-aaad-12ec619fc2ac",
   "metadata": {},
   "source": [
    "# Day 3"
   ]
  },
  {
   "cell_type": "code",
   "execution_count": 27,
   "id": "61ccefa2-0f84-4973-aa7b-ef9c2a50e851",
   "metadata": {},
   "outputs": [],
   "source": [
    "raw_data = aoc.get_data(2018,3)"
   ]
  },
  {
   "cell_type": "code",
   "execution_count": 43,
   "id": "cb81a4df-f537-4310-8ee9-8ceaa8ee2ddd",
   "metadata": {},
   "outputs": [],
   "source": [
    "data = raw_data.splitlines()"
   ]
  },
  {
   "cell_type": "code",
   "execution_count": 42,
   "id": "b39b6d8a-3160-45aa-b43b-e00421efc594",
   "metadata": {},
   "outputs": [
    {
     "data": {
      "text/plain": [
       "array([[0., 0., 0., 0., 0.],\n",
       "       [0., 0., 0., 0., 0.],\n",
       "       [0., 1., 1., 1., 1.],\n",
       "       [0., 1., 1., 1., 1.],\n",
       "       [0., 1., 1., 1., 1.],\n",
       "       [0., 0., 0., 0., 0.]])"
      ]
     },
     "execution_count": 42,
     "metadata": {},
     "output_type": "execute_result"
    }
   ],
   "source": [
    "np.pad(np.ones((3, 4)), ((2, 1),(1, 0)))"
   ]
  },
  {
   "cell_type": "code",
   "execution_count": 87,
   "id": "e388dca5-42c2-47f8-9fdc-fc6cc58db8ef",
   "metadata": {},
   "outputs": [],
   "source": [
    "def construct_patch(patch_data):\n",
    "    patch_id, props = patch_data.split('@')\n",
    "    \n",
    "    origin, dimensions = props.split(': ')\n",
    "    \n",
    "    origin = [int(x) for x in origin.split(',')]\n",
    "    \n",
    "    dimensions = [int(x) for x in dimensions.split('x')]\n",
    "    \n",
    "    patch = np.ones(dimensions)\n",
    "    \n",
    "    patch = np.pad(patch, ((origin[0], 1000 - origin[0] - dimensions[0]), (origin[1], 1000 - origin[1] - dimensions[1])))\n",
    "    \n",
    "    return int(patch_id[1:]), patch\n",
    "\n",
    "\n",
    "def apply_patches(data):\n",
    "    \n",
    "    field = np.zeros((1000,1000))\n",
    "    patches = dict()\n",
    "    \n",
    "    \n",
    "    for patch_data in data:\n",
    "        \n",
    "        pid, patch = construct_patch(patch_data)\n",
    "        \n",
    "        patches[pid] = patch\n",
    "        \n",
    "        field += patch\n",
    "\n",
    "    return field, patches\n",
    "\n",
    "\n",
    "def search_patches(field, patches):\n",
    "    \n",
    "    for key, value in patches.items():\n",
    "        \n",
    "        if (value * field).max() == 1:\n",
    "            print(key)\n",
    "            break\n",
    "        \n",
    "    "
   ]
  },
  {
   "cell_type": "code",
   "execution_count": 80,
   "id": "88bf0bf1-4b50-4f0b-a0e4-de0ec4a994ef",
   "metadata": {},
   "outputs": [
    {
     "data": {
      "text/plain": [
       "['#1 ', ' 258,327: 19x22']"
      ]
     },
     "execution_count": 80,
     "metadata": {},
     "output_type": "execute_result"
    }
   ],
   "source": [
    "data[0].split('@')"
   ]
  },
  {
   "cell_type": "code",
   "execution_count": 85,
   "id": "fa175ece-5bb7-4617-8402-29089e8071ac",
   "metadata": {},
   "outputs": [],
   "source": [
    "field, patches = apply_patches(data)"
   ]
  },
  {
   "cell_type": "code",
   "execution_count": 69,
   "id": "2741d9d8-ae32-4bb7-a533-e0aa893049c8",
   "metadata": {},
   "outputs": [
    {
     "data": {
      "text/plain": [
       "111485"
      ]
     },
     "execution_count": 69,
     "metadata": {},
     "output_type": "execute_result"
    }
   ],
   "source": [
    "(field >= 2).sum()"
   ]
  },
  {
   "cell_type": "code",
   "execution_count": 88,
   "id": "b456d822-e2d2-430d-b7f8-efab93da3768",
   "metadata": {},
   "outputs": [
    {
     "name": "stdout",
     "output_type": "stream",
     "text": [
      "113\n"
     ]
    }
   ],
   "source": [
    "search_patches(field, patches)"
   ]
  },
  {
   "cell_type": "markdown",
   "id": "e52fe87b-012a-4b4a-aeae-2268cf69c636",
   "metadata": {},
   "source": [
    "# Day 4"
   ]
  },
  {
   "cell_type": "code",
   "execution_count": 2,
   "id": "fe4463ec-6906-4bcd-9161-09602880a808",
   "metadata": {},
   "outputs": [],
   "source": [
    "raw_data = aoc.get_data(2018,4)"
   ]
  },
  {
   "cell_type": "code",
   "execution_count": 9,
   "id": "5b8d0d70-a5b3-4aff-8179-46a01e97b9bf",
   "metadata": {},
   "outputs": [
    {
     "data": {
      "text/plain": [
       "'[1518-06-12 23:57] Guard #2633 begins shift'"
      ]
     },
     "execution_count": 9,
     "metadata": {},
     "output_type": "execute_result"
    }
   ],
   "source": [
    "data = raw_data.splitlines()\n",
    "data[0]"
   ]
  },
  {
   "cell_type": "code",
   "execution_count": 14,
   "id": "9a775bec-fed8-4209-99d9-d98f97d8061a",
   "metadata": {},
   "outputs": [
    {
     "data": {
      "text/plain": [
       "datetime.datetime(1518, 6, 12, 23, 57)"
      ]
     },
     "execution_count": 14,
     "metadata": {},
     "output_type": "execute_result"
    }
   ],
   "source": [
    "datetime.strptime(data[0][1:17], '%Y-%m-%d %H:%M')"
   ]
  },
  {
   "cell_type": "code",
   "execution_count": 31,
   "id": "2125454d-bfd8-4ec2-82e6-ba444a4e9320",
   "metadata": {},
   "outputs": [],
   "source": [
    "def sort_log(log):\n",
    "    return datetime.strptime(re.findall('\\[(.*)\\]', log)[0], '%Y-%m-%d %H:%M')"
   ]
  },
  {
   "cell_type": "code",
   "execution_count": 32,
   "id": "91a9b146-3238-4940-8f1d-e1ecad2f8a84",
   "metadata": {},
   "outputs": [],
   "source": [
    "data.sort(key=sort_log)"
   ]
  },
  {
   "cell_type": "code",
   "execution_count": 41,
   "id": "0a9b6103-0686-4f3a-a230-9609eda67fd0",
   "metadata": {},
   "outputs": [],
   "source": [
    "def get_sleep_log(data):\n",
    "    \n",
    "    guard = None\n",
    "    \n",
    "    log = dict()\n",
    "    \n",
    "    items = None\n",
    "    \n",
    "    for log_entry in data:\n",
    "        \n",
    "        if 'Guard' in log_entry:\n",
    "            \n",
    "            guard = int(re.findall('Guard #(\\d+)', log_entry)[0])\n",
    "            \n",
    "            items = log.get(guard, list())\n",
    "            \n",
    "            if not items:\n",
    "                \n",
    "                log[guard] = items\n",
    "                \n",
    "        else:\n",
    "            \n",
    "            items.append(datetime.strptime(re.findall('\\[(.*)\\]', log_entry)[0], '%Y-%m-%d %H:%M'))\n",
    "            \n",
    "    return log"
   ]
  },
  {
   "cell_type": "code",
   "execution_count": 42,
   "id": "72d34d59-f96c-44b6-bb79-ba9220bca603",
   "metadata": {},
   "outputs": [],
   "source": [
    "sleep_log = get_sleep_log(data)"
   ]
  },
  {
   "cell_type": "code",
   "execution_count": 67,
   "id": "99889a57-353b-4a32-afaf-d18dac95a993",
   "metadata": {},
   "outputs": [],
   "source": [
    "def compute_total_sleep_time(sleep_log):\n",
    "    \n",
    "    total_sleep_log = dict()\n",
    "    \n",
    "    for key, value in sleep_log.items():\n",
    "        \n",
    "        total_sleep_log[key] = sum(\n",
    "            map(\n",
    "                lambda x: x[1] - x[0], \n",
    "                zip(value[::2], value[1::2])\n",
    "            ), timedelta()).seconds / 60\n",
    "                                   \n",
    "    return total_sleep_log\n",
    "    "
   ]
  },
  {
   "cell_type": "code",
   "execution_count": 68,
   "id": "f0ef34f9-0c57-4a0f-8339-8145ba0c5510",
   "metadata": {},
   "outputs": [
    {
     "data": {
      "text/plain": [
       "{727: 257.0,\n",
       " 691: 205.0,\n",
       " 1987: 497.0,\n",
       " 3491: 273.0,\n",
       " 1871: 245.0,\n",
       " 2503: 327.0,\n",
       " 2029: 425.0,\n",
       " 2393: 336.0,\n",
       " 1303: 0.0,\n",
       " 2593: 224.0,\n",
       " 1933: 210.0,\n",
       " 2089: 450.0,\n",
       " 877: 114.0,\n",
       " 73: 251.0,\n",
       " 2423: 187.0,\n",
       " 229: 234.0,\n",
       " 2027: 411.0,\n",
       " 2777: 275.0,\n",
       " 2251: 173.0,\n",
       " 1033: 0.0,\n",
       " 1217: 168.0,\n",
       " 2633: 414.0,\n",
       " 461: 0.0}"
      ]
     },
     "execution_count": 68,
     "metadata": {},
     "output_type": "execute_result"
    }
   ],
   "source": [
    "compute_total_sleep_time(sleep_log)"
   ]
  },
  {
   "cell_type": "markdown",
   "id": "389d4d83-2b4f-4116-8917-fbfb5dd0033b",
   "metadata": {},
   "source": [
    "# Day 5"
   ]
  },
  {
   "cell_type": "code",
   "execution_count": 2,
   "id": "1c0dad92-2602-4126-8a24-7ef29d19c78f",
   "metadata": {},
   "outputs": [],
   "source": [
    "raw_data = aoc.get_data(2018,5)"
   ]
  },
  {
   "cell_type": "code",
   "execution_count": 3,
   "id": "d816f7ef-4a5f-4107-8a5f-94075fd74ce1",
   "metadata": {},
   "outputs": [
    {
     "data": {
      "text/plain": [
       "'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\\n'"
      ]
     },
     "execution_count": 3,
     "metadata": {},
     "output_type": "execute_result"
    }
   ],
   "source": [
    "raw_data"
   ]
  },
  {
   "cell_type": "code",
   "execution_count": 4,
   "id": "eabb56ff-1b47-4f12-905d-19c3b446c28b",
   "metadata": {},
   "outputs": [],
   "source": [
    "import string"
   ]
  },
  {
   "cell_type": "code",
   "execution_count": 5,
   "id": "1c388a03-e403-4c37-954d-c8479782b64b",
   "metadata": {},
   "outputs": [
    {
     "data": {
      "text/plain": [
       "'abcdefghijklmnopqrstuvwxyzABCDEFGHIJKLMNOPQRSTUVWXYZ'"
      ]
     },
     "execution_count": 5,
     "metadata": {},
     "output_type": "execute_result"
    }
   ],
   "source": [
    "string.ascii_lowercase+string.ascii_uppercase"
   ]
  },
  {
   "cell_type": "code",
   "execution_count": 10,
   "id": "154494cc-b762-4a04-b44d-f4cc8288dbfb",
   "metadata": {},
   "outputs": [],
   "source": [
    "destructive_polymers = [x[0]+x[1] for x in zip(string.ascii_lowercase, string.ascii_uppercase)] + [x[0]+x[1] for x in zip(string.ascii_uppercase, string.ascii_lowercase)]"
   ]
  },
  {
   "cell_type": "code",
   "execution_count": 15,
   "id": "66b7cf29-5800-49d4-93e5-ec0ab45b9fe7",
   "metadata": {},
   "outputs": [],
   "source": [
    "def react_polymer(polymer):\n",
    "    \n",
    "    destructive_combinations = [x[0]+x[1] for x in zip(string.ascii_lowercase, string.ascii_uppercase)] + [x[0]+x[1] for x in zip(string.ascii_uppercase, string.ascii_lowercase)]\n",
    "    \n",
    "    reacting = True\n",
    "    \n",
    "    while reacting:\n",
    "        \n",
    "        prior_polymer = polymer\n",
    "        \n",
    "        for combination in destructive_combinations:\n",
    "            \n",
    "            polymer = polymer.replace(combination, \"\")\n",
    "            \n",
    "        reacting = polymer != prior_polymer\n",
    "    \n",
    "    return len(polymer)\n",
    "    \n",
    "    "
   ]
  },
  {
   "cell_type": "code",
   "execution_count": 16,
   "id": "ee789ea5-b15f-4e4c-8009-7680ced53d10",
   "metadata": {},
   "outputs": [
    {
     "data": {
      "text/plain": [
       "10886"
      ]
     },
     "execution_count": 16,
     "metadata": {},
     "output_type": "execute_result"
    }
   ],
   "source": [
    "react_polymer(raw_data.strip())"
   ]
  },
  {
   "cell_type": "code",
   "execution_count": 21,
   "id": "fdd0900d-fb8a-41ad-9088-bc73566ded3b",
   "metadata": {},
   "outputs": [],
   "source": [
    "def react_sub_polymers(polymer):\n",
    "    \n",
    "    return min([react_polymer(polymer.replace(lower, '').replace(upper, '')) for lower, upper in zip(string.ascii_lowercase, string.ascii_uppercase)])\n",
    "        \n",
    "        \n",
    "    \n",
    "    "
   ]
  },
  {
   "cell_type": "code",
   "execution_count": 22,
   "id": "8d4bbb51-54c6-449a-907e-bfde314f15a0",
   "metadata": {},
   "outputs": [
    {
     "data": {
      "text/plain": [
       "4684"
      ]
     },
     "execution_count": 22,
     "metadata": {},
     "output_type": "execute_result"
    }
   ],
   "source": [
    "react_sub_polymers(raw_data.strip())"
   ]
  },
  {
   "cell_type": "markdown",
   "id": "e03e27af-1875-4dc7-aa1d-9d7c2990ec4b",
   "metadata": {},
   "source": [
    "# Day 6"
   ]
  },
  {
   "cell_type": "code",
   "execution_count": null,
   "id": "3e32c144-07e2-4fc9-aa07-a61f0c3cb2bc",
   "metadata": {},
   "outputs": [],
   "source": []
  }
 ],
 "metadata": {
  "kernelspec": {
   "display_name": "Python 3 (ipykernel)",
   "language": "python",
   "name": "python3"
  },
  "language_info": {
   "codemirror_mode": {
    "name": "ipython",
    "version": 3
   },
   "file_extension": ".py",
   "mimetype": "text/x-python",
   "name": "python",
   "nbconvert_exporter": "python",
   "pygments_lexer": "ipython3",
   "version": "3.10.11"
  }
 },
 "nbformat": 4,
 "nbformat_minor": 5
}
