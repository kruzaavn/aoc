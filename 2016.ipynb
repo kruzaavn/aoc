{
 "cells": [
  {
   "cell_type": "code",
   "execution_count": 1,
   "id": "5fab6b1b-09e6-4035-9adb-0414dbda6639",
   "metadata": {},
   "outputs": [],
   "source": [
    "import aoc\n",
    "import numpy as np\n",
    "import re"
   ]
  },
  {
   "cell_type": "markdown",
   "id": "1ddd3ebd-df14-4839-b074-32b1b506a6a6",
   "metadata": {},
   "source": [
    "# Day 1"
   ]
  },
  {
   "cell_type": "code",
   "execution_count": 5,
   "id": "20dc6315-8361-4a3a-b705-247b7486333a",
   "metadata": {},
   "outputs": [],
   "source": [
    "data = aoc.get_data(2016, 1)"
   ]
  },
  {
   "cell_type": "code",
   "execution_count": 6,
   "id": "9086b965-5e2c-4e41-be0d-bdc85acca60f",
   "metadata": {},
   "outputs": [
    {
     "data": {
      "text/plain": [
       "'R1, L3, R5, R5, R5, L4, R5, R1, R2, L1, L1, R5, R1, L3, L5, L2, R4, L1, R4, R5, L3, R5, L1, R3, L5, R1, L2, R1, L5, L1, R1, R4, R1, L1, L3, R3, R5, L3, R4, L4, R5, L5, L1, L2, R4, R3, R3, L185, R3, R4, L5, L4, R48, R1, R2, L1, R1, L4, L4, R77, R5, L2, R192, R2, R5, L4, L5, L3, R2, L4, R1, L5, R5, R4, R1, R2, L3, R4, R4, L2, L4, L3, R5, R4, L2, L1, L3, R1, R5, R5, R2, L5, L2, L3, L4, R2, R1, L4, L1, R1, R5, R3, R3, R4, L1, L4, R1, L2, R3, L3, L2, L1, L2, L2, L1, L2, R3, R1, L4, R1, L1, L4, R1, L2, L5, R3, L5, L2, L2, L3, R1, L4, R1, R1, R2, L1, L4, L4, R2, R2, R2, R2, R5, R1, L1, L4, L5, R2, R4, L3, L5, R2, R3, L4, L1, R2, R3, R5, L2, L3, R3, R1, R3\\n'"
      ]
     },
     "execution_count": 6,
     "metadata": {},
     "output_type": "execute_result"
    }
   ],
   "source": [
    "data"
   ]
  },
  {
   "cell_type": "code",
   "execution_count": 10,
   "id": "9174c9e0-d69c-497f-8cab-9c35f11597ea",
   "metadata": {},
   "outputs": [],
   "source": [
    "directions = data.strip().split(', ')"
   ]
  },
  {
   "cell_type": "code",
   "execution_count": 85,
   "id": "8e9a496e-d5de-4ced-ac62-cbf795160f25",
   "metadata": {},
   "outputs": [],
   "source": [
    "class CityGrid:\n",
    "\n",
    "    def __init__(self):\n",
    "\n",
    "        self.position = np.zeros((2,), dtype=int)\n",
    "        self.facing = 0\n",
    "        self.visited = list()\n",
    "        self.visited.append(self.position.tolist())\n",
    "        self.unit_vectors = [np.array([0,1]), np.array([1, 0]), np.array([0,-1]), np.array([-1,0])]\n",
    "    \n",
    "    def follow_directions(self, directions):\n",
    "\n",
    "        for direction in directions:\n",
    "\n",
    "            turn = direction[0]\n",
    "            steps = int(direction[1:])\n",
    "\n",
    "            if turn == \"R\":\n",
    "                self.facing = (self.facing + 1) % 4\n",
    "            else:\n",
    "                self.facing = (self.facing - 1) % 4\n",
    "\n",
    "\n",
    "            self.position += self.unit_vectors[self.facing] * steps\n",
    "            \n",
    "            self.visited.append(self.position.tolist())\n",
    "            "
   ]
  },
  {
   "cell_type": "markdown",
   "id": "8e1791b2-1b39-4702-8f58-ae56836873d7",
   "metadata": {},
   "source": [
    "# Day 2"
   ]
  },
  {
   "cell_type": "code",
   "execution_count": 4,
   "id": "f6dde2b1-071f-4fef-ac01-0c78a828e536",
   "metadata": {},
   "outputs": [],
   "source": [
    "raw_data = aoc.get_data(2016, 2)"
   ]
  },
  {
   "cell_type": "code",
   "execution_count": 5,
   "id": "0913fcf9-c1e8-4a33-b4a3-3e0f96c65d2f",
   "metadata": {},
   "outputs": [
    {
     "data": {
      "text/plain": [
       "'ULUULLUULUUUUDURUUULLDLDDRDRDULULRULLRLULRUDRRLDDLRULLLDRDRRDDLLLLDURUURDUDUUURDRLRLLURUDRDULURRUDLRDRRLLRDULLDURURLLLULLRLUDDLRRURRLDULRDDULDLRLURDUDRLLRUDDRLRDLLDDUURLRUDDURRLRURLDDDURRDLLDUUDLLLDUDURLUDURLRDLURURRLRLDDRURRLRRDURLURURRRULRRDLDDDDLLRDLDDDRDDRLUUDDLDUURUULDLUULUURRDRLDDDULRRRRULULLRLLDDUDRLRRLLLLLDRULURLLDULULLUULDDRURUDULDRDRRURLDRDDLULRDDRDLRLUDLLLDUDULUUUUDRDRURDDULLRDRLRRURLRDLRRRRUDDLRDDUDLDLUUDLDDRRRDRLLRLUURUDRUUULUDDDLDUULULLRUDULULLLDRLDDLLUUDRDDDDRUDURDRRUUDDLRRRRURLURLD\\nLDLUDDLLDDRLLDLDRDDDDDUURUDDDUURLRLRLDULLLDLUDDDULLDUDLRUUDDLUULLDRLDDUDLUDDLURRRLDUURDDRULLURLLRLLUUDRLDDDLDLDRDUDLRDURULDLDRRDRLDLUURRRRLUDDULDULUUUDULDDRLLDDRRUULURRUURRLDUUUDDDDRUURUDRRRDDDDLRLURRRRUUDDDULRRURRDLULRURDDRDRLUDLURDDRDURRUURDUDUDRRDDURRRDURDLUUUURRUDULLDDRLLLURLDUDRRLDDLULUDUDDDDUDLUUULUURUDRURUUDUUURRLDUUDRDRURLLDLLLLLRLLUDURDRRLULRRDDDRLDRDDURLRDULULLDDURURLRRDRULDULUUUURLDURUDUDUDDLUDRRDURULRDULLLDRRDLDLUDURDULULLDDURDDUDRUUUDUDRLDUURDUUUDUURURUDRULRURLDLRDDURDLUU\\nDDLDRLLDRRDRRLLUUURDDULRDUDRDRUDULURLLDDLRRRUDRDLDLURRRULUDRDLULLULLDUUDRLRUDDLRRURRUULRLDLLLDLRLLLURLLLURLLRDDLULLDUURLURDLLDLDUDLDRUUUDDLLDRRRRRUDRURUURRRDRUURDRDDRLDUUULUDUDRUDLLLLDRDRURRRDUUURLDLRLRDDDRLUDULDRLLULRDLDURDLDURUUDDULLULRDDRLRUURLLLURDRUURUUDUUULRDUDDRDURRRDUUDRRRUDRDLRURDLLDDDURLLRRDDDDLDULULDRLDRULDDLRRRLUDLLLLUDURRRUURUUULRRLDUURDLURRLRLLRDLRDDRDDLRDLULRUUUDDDUDRRURDDURURDDUDLURUUURUUUUDURDDLDRDULDRLDRLLRLRRRLDRLLDDRDLDLUDDLUDLULDLLDRDLLRDULDUDDULRRRUUDULDULRRURLRDRUDLDUDLURRRDDULRDDRULDLUUDDLRDUURDRDR\\nURDURRRRUURULDLRUUDURDLLDUULULDURUDULLUDULRUDUUURLDRRULRRLLRDUURDDDLRDDRULUUURRRRDLLDLRLRULDLRRRRUDULDDURDLDUUULDURLLUDLURULLURRRDRLLDRRDULUDDURLDULLDURLUDUULRRLLURURLDLLLURDUDRLDDDRDULLUDDRLDDRRRLDULLLLDUURULUDDDURUULUUUDURUDURDURULLLDRULULDRRLDRLDLRLRUDUDURRLURLRUUDRRDULULDLLDRDRRRDUDUURLDULLLURRDLUDDLDDRDDUDLDDRRRUDRULLURDDULRLDUDDDRULURLLUDLLRLRRDRDRRURUUUURDLUURRDULLRDLDLRDDRDRLLLRRDDLDDDDLUDLRLULRRDDRDLDLUUUDLDURURLULLLDDDULURLRRURLDDRDDLD\\nUDUULLRLUDLLUULRURRUUDDLLLDUURRURURDDRDLRRURLLRURLDDDRRDDUDRLLDRRUDRDRDDRURLULDDLDLRRUDDULLRLDDLRURLUURUURURDLDUDRLUUURRRLUURUDUDUUDDLDULUULRLDLLURLDRUDRLLRULURDLDDLLULLDRRUUDDLRRRUDDLRDRRRULDRDDRRULLLUDRUULURDUDRDLRRLDLRLRLDDULRRLULUUDDULDUDDULRRURLRDRDURUDDDLLRLDRDRULDDLLRLLRDUDDDDDDRLRLLDURUULDUUUDRURRLLRLDDDDRDRDUURRURDRDLLLUDDRDRRRDLUDLUUDRULURDLLLLLRDUDLLRULUULRLULRURULRLRRULUURLUDLDLLUURDLLULLLDDLRUDDRULRDLULRUURLDRULRRLULRLRULRDLURLLRURULRDRDLRRLRRDRUUURURULLLDDUURLDUDLLRRLRLRULLDUUUULDDUUU\\n'"
      ]
     },
     "execution_count": 5,
     "metadata": {},
     "output_type": "execute_result"
    }
   ],
   "source": [
    "raw_data"
   ]
  },
  {
   "cell_type": "code",
   "execution_count": 53,
   "id": "bd36db88-cc2e-4dd5-ac3c-200b709d7c5c",
   "metadata": {},
   "outputs": [],
   "source": [
    "class Keypad:\n",
    "\n",
    "    def __init__(self):\n",
    "\n",
    "        self.position = None\n",
    "        self.keys = ['XXXXX', 'X123X', 'X456X', 'X789X', 'XXXXX']\n",
    "        self.code = ''\n",
    "        self.initial_pointer = [2,2]\n",
    "\n",
    "    def process(self, instructions):\n",
    "\n",
    "        self.position = self.initial_pointer\n",
    "        self.code = ''\n",
    "        \n",
    "        for instruction in instructions.splitlines():\n",
    "\n",
    "            self.process_instruction(instruction)\n",
    "\n",
    "    def process_instruction(self, instruction):\n",
    "\n",
    "        for direction in instruction:\n",
    "\n",
    "            match direction:\n",
    "\n",
    "                case 'U':\n",
    "\n",
    "                    if self.keys[self.position[0] - 1][self.position[1]] != 'X':        \n",
    "\n",
    "                        self.position[0] -= 1                    \n",
    "\n",
    "            \n",
    "                case 'L':\n",
    "\n",
    "                    if self.keys[self.position[0]][self.position[1] -1] != 'X':        \n",
    "\n",
    "                        self.position[1] -= 1\n",
    "\n",
    "                case 'D':\n",
    "                    \n",
    "                    if self.keys[self.position[0] + 1][self.position[1]] != 'X':        \n",
    "\n",
    "                        self.position[0] += 1                    \n",
    "                    \n",
    "                case 'R':\n",
    "\n",
    "                    if self.keys[self.position[0]][self.position[1] + 1] != 'X':        \n",
    "\n",
    "                        self.position[1] += 1\n",
    "\n",
    "        self.code += self.keys[self.position[0]][self.position[1]]\n",
    "            \n",
    "    "
   ]
  },
  {
   "cell_type": "code",
   "execution_count": 54,
   "id": "c19be480-a36a-4696-b4fd-ccee61b3e6a3",
   "metadata": {},
   "outputs": [],
   "source": [
    "pad = Keypad()"
   ]
  },
  {
   "cell_type": "code",
   "execution_count": 55,
   "id": "c0bfa6ff-4015-4808-b283-123bed19eae7",
   "metadata": {},
   "outputs": [],
   "source": [
    "pad.process(raw_data)"
   ]
  },
  {
   "cell_type": "code",
   "execution_count": 56,
   "id": "b5b59bda-fb82-4aae-ad86-f2f1e206300e",
   "metadata": {},
   "outputs": [
    {
     "data": {
      "text/plain": [
       "'52981'"
      ]
     },
     "execution_count": 56,
     "metadata": {},
     "output_type": "execute_result"
    }
   ],
   "source": [
    "pad.code"
   ]
  },
  {
   "cell_type": "code",
   "execution_count": 57,
   "id": "67877f02-26ff-42fb-b1c4-3cd95964b19c",
   "metadata": {},
   "outputs": [],
   "source": [
    "class DiamondKeyPad(Keypad):\n",
    "\n",
    "    def __init__(self):\n",
    "        super().__init__()\n",
    "        self.initial_pointer = [2,1]\n",
    "        self.keys = ['XXXXXXX','XXX1XXX','XX234XX','X56789X','XXABCXX','XXXDXXX','XXXXXXX']\n",
    "        "
   ]
  },
  {
   "cell_type": "code",
   "execution_count": 58,
   "id": "ab576d02-1c74-41e1-a663-b9aca8be528d",
   "metadata": {},
   "outputs": [],
   "source": [
    "pad = DiamondKeyPad()"
   ]
  },
  {
   "cell_type": "code",
   "execution_count": 59,
   "id": "010fc058-3f56-43af-8435-77f641aadbd1",
   "metadata": {},
   "outputs": [],
   "source": [
    "pad.process(raw_data)"
   ]
  },
  {
   "cell_type": "code",
   "execution_count": 60,
   "id": "ec1f4bc6-ae60-46d7-a2ca-d49022a3dc73",
   "metadata": {},
   "outputs": [
    {
     "data": {
      "text/plain": [
       "'74CD2'"
      ]
     },
     "execution_count": 60,
     "metadata": {},
     "output_type": "execute_result"
    }
   ],
   "source": [
    "pad.code"
   ]
  },
  {
   "cell_type": "markdown",
   "id": "3662edc6-4269-4c03-8346-bb9f66357d21",
   "metadata": {},
   "source": [
    "# Day 3"
   ]
  },
  {
   "cell_type": "code",
   "execution_count": 2,
   "id": "12202f55-3620-46db-97ad-a23689934828",
   "metadata": {},
   "outputs": [],
   "source": [
    "raw_data = aoc.get_data(2016,3)"
   ]
  },
  {
   "cell_type": "code",
   "execution_count": 15,
   "id": "98fecd00-12f9-4851-8704-8fd5b3136b2e",
   "metadata": {},
   "outputs": [],
   "source": [
    "class TriangleValidator:\n",
    "    \n",
    "\n",
    "    def __init__(self):\n",
    "\n",
    "        self.valid = 0\n",
    "\n",
    "    def process(self, data):\n",
    "\n",
    "        self.valid = 0\n",
    "        \n",
    "        for triangle in data.splitlines():\n",
    "\n",
    "            self.validate(triangle)\n",
    "\n",
    "    def validate(self, triangle):\n",
    "\n",
    "        lengths = [int(x) for x in re.findall('\\d+', triangle)]\n",
    "\n",
    "        for i in range(3):\n",
    "\n",
    "            if lengths[i] + lengths[(i + 1) % 3] <= lengths[(i + 2) % 3]:\n",
    "                return \n",
    "            \n",
    "        \n",
    "        self.valid += 1"
   ]
  },
  {
   "cell_type": "code",
   "execution_count": 16,
   "id": "39771446-cba2-4d83-8b8b-8b9637e9eeec",
   "metadata": {},
   "outputs": [],
   "source": [
    "validator = TriangleValidator()"
   ]
  },
  {
   "cell_type": "code",
   "execution_count": 17,
   "id": "d72ff250-da26-422c-8152-553d7e4d06d4",
   "metadata": {},
   "outputs": [],
   "source": [
    "validator.process(raw_data)"
   ]
  },
  {
   "cell_type": "code",
   "execution_count": 18,
   "id": "b3e57d90-e802-4597-a19f-5c9cfc3f1aef",
   "metadata": {},
   "outputs": [
    {
     "data": {
      "text/plain": [
       "983"
      ]
     },
     "execution_count": 18,
     "metadata": {},
     "output_type": "execute_result"
    }
   ],
   "source": [
    "validator.valid"
   ]
  },
  {
   "cell_type": "code",
   "execution_count": null,
   "id": "c31148d2-8a36-4871-aab3-7bf2435beff4",
   "metadata": {},
   "outputs": [],
   "source": []
  }
 ],
 "metadata": {
  "kernelspec": {
   "display_name": "Python 3 (ipykernel)",
   "language": "python",
   "name": "python3"
  },
  "language_info": {
   "codemirror_mode": {
    "name": "ipython",
    "version": 3
   },
   "file_extension": ".py",
   "mimetype": "text/x-python",
   "name": "python",
   "nbconvert_exporter": "python",
   "pygments_lexer": "ipython3",
   "version": "3.11.8"
  }
 },
 "nbformat": 4,
 "nbformat_minor": 5
}
